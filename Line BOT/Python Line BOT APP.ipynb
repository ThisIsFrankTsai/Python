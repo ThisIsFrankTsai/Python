{
 "cells": [
  {
   "cell_type": "code",
   "execution_count": null,
   "id": "a6cbf03a",
   "metadata": {},
   "outputs": [],
   "source": [
    "#Channel secret  f28e0bb83af3e4ff819313c6a04d7d4f\n",
    "#Channel access token  Sz5oESZaLjhWIL/dP7HRKI8pmVBDvsiS6RvJGMFBU4X8cQ0Oi6GuoDzj1DmfZYvxCgcLAYj4ypJ+AME/5LGma55aSlmVPvQ/51414lhkzLkJ4tGHnPsCsHcR8jr4FreHlvthep6cDAwhY0PXwHVBYQdB04t89/1O/w1cDnyilFU="
   ]
  },
  {
   "cell_type": "code",
   "execution_count": 1,
   "id": "66c64372",
   "metadata": {},
   "outputs": [
    {
     "name": "stdout",
     "output_type": "stream",
     "text": [
      "Collecting line-bot-sdk\n",
      "  Downloading line_bot_sdk-2.2.1-py2.py3-none-any.whl (87 kB)\n",
      "Requirement already satisfied: requests>=2.0 in c:\\users\\vg8rw\\anaconda3\\lib\\site-packages (from line-bot-sdk) (2.25.1)\n",
      "Collecting aiohttp>=3.7.4\n",
      "  Downloading aiohttp-3.8.1-cp38-cp38-win_amd64.whl (555 kB)\n",
      "Requirement already satisfied: future in c:\\users\\vg8rw\\anaconda3\\lib\\site-packages (from line-bot-sdk) (0.18.2)\n",
      "Collecting aiosignal>=1.1.2\n",
      "  Downloading aiosignal-1.2.0-py3-none-any.whl (8.2 kB)\n",
      "Collecting yarl<2.0,>=1.0\n",
      "  Downloading yarl-1.7.2-cp38-cp38-win_amd64.whl (122 kB)\n",
      "Collecting async-timeout<5.0,>=4.0.0a3\n",
      "  Downloading async_timeout-4.0.2-py3-none-any.whl (5.8 kB)\n",
      "Requirement already satisfied: attrs>=17.3.0 in c:\\users\\vg8rw\\anaconda3\\lib\\site-packages (from aiohttp>=3.7.4->line-bot-sdk) (20.3.0)\n",
      "Collecting multidict<7.0,>=4.5\n",
      "  Downloading multidict-6.0.2-cp38-cp38-win_amd64.whl (28 kB)\n",
      "Collecting charset-normalizer<3.0,>=2.0\n",
      "  Using cached charset_normalizer-2.0.12-py3-none-any.whl (39 kB)\n",
      "Collecting frozenlist>=1.1.1\n",
      "  Downloading frozenlist-1.3.0-cp38-cp38-win_amd64.whl (33 kB)\n",
      "Requirement already satisfied: idna<3,>=2.5 in c:\\users\\vg8rw\\anaconda3\\lib\\site-packages (from requests>=2.0->line-bot-sdk) (2.10)\n",
      "Requirement already satisfied: certifi>=2017.4.17 in c:\\users\\vg8rw\\anaconda3\\lib\\site-packages (from requests>=2.0->line-bot-sdk) (2020.12.5)\n",
      "Requirement already satisfied: urllib3<1.27,>=1.21.1 in c:\\users\\vg8rw\\anaconda3\\lib\\site-packages (from requests>=2.0->line-bot-sdk) (1.26.4)\n",
      "Requirement already satisfied: chardet<5,>=3.0.2 in c:\\users\\vg8rw\\anaconda3\\lib\\site-packages (from requests>=2.0->line-bot-sdk) (4.0.0)\n",
      "Installing collected packages: multidict, frozenlist, yarl, charset-normalizer, async-timeout, aiosignal, aiohttp, line-bot-sdk\n",
      "Successfully installed aiohttp-3.8.1 aiosignal-1.2.0 async-timeout-4.0.2 charset-normalizer-2.0.12 frozenlist-1.3.0 line-bot-sdk-2.2.1 multidict-6.0.2 yarl-1.7.2\n",
      "Note: you may need to restart the kernel to use updated packages.\n"
     ]
    }
   ],
   "source": [
    "pip install line-bot-sdk\n"
   ]
  },
  {
   "cell_type": "code",
   "execution_count": 12,
   "id": "8c515860",
   "metadata": {},
   "outputs": [
    {
     "name": "stdout",
     "output_type": "stream",
     "text": [
      " * Serving Flask app \"__main__\" (lazy loading)\n",
      " * Environment: production\n",
      "   WARNING: This is a development server. Do not use it in a production deployment.\n",
      "   Use a production WSGI server instead.\n",
      " * Debug mode: off\n"
     ]
    },
    {
     "name": "stderr",
     "output_type": "stream",
     "text": [
      " * Running on http://127.0.0.1:5000/ (Press CTRL+C to quit)\n"
     ]
    }
   ],
   "source": [
    "#Create LineBOT Service in Flask\n",
    "\n",
    "from flask import Flask,request,abort\n",
    "from linebot import LineBotApi,WebhookHandler\n",
    "from linebot.exceptions import InvalidSignatureError\n",
    "from linebot.models import MessageEvent,TextMessage,TextSendMessage \n",
    "\n",
    "app=Flask(__name__)\n",
    "handler=WebhookHandler('f28e0bb83af3e4ff819313c6a04d7d4f')\n",
    "line_bot_api=LineBotApi('Sz5oESZaLjhWIL/dP7HRKI8pmVBDvsiS6RvJGMFBU4X8cQ0Oi6GuoDzj1DmfZYvxCgcLAYj4ypJ+AME/5LGma55aSlmVPvQ/51414lhkzLkJ4tGHnPsCsHcR8jr4FreHlvthep6cDAwhY0PXwHVBYQdB04t89/1O/w1cDnyilFU=')\n",
    "\n",
    "\n",
    "@app.route(\"/callback\",methods=['POST'])\n",
    "def callback():\n",
    "    signature=request.headers['X-Line-Signature']\n",
    "    body=request.get_data(as_text=True)\n",
    "    try:\n",
    "        print(body,signature)\n",
    "        handler.handle(body,signature)\n",
    "    except InvalidSignatureError  :\n",
    "            abort(400)\n",
    "    return \"OK\"\n",
    "\n",
    "@handler.add(MessageEvent,message=TextMessage)\n",
    "def echo_message(event):\n",
    "    line_bot_api.reply_message(event.reply_token,TextSendMessage(text=event.message.text))\n",
    "\n",
    "if __name__ =='__main__':\n",
    "    app.run()"
   ]
  },
  {
   "cell_type": "code",
   "execution_count": null,
   "id": "5a1e227b",
   "metadata": {},
   "outputs": [],
   "source": []
  }
 ],
 "metadata": {
  "kernelspec": {
   "display_name": "Python 3",
   "language": "python",
   "name": "python3"
  },
  "language_info": {
   "codemirror_mode": {
    "name": "ipython",
    "version": 3
   },
   "file_extension": ".py",
   "mimetype": "text/x-python",
   "name": "python",
   "nbconvert_exporter": "python",
   "pygments_lexer": "ipython3",
   "version": "3.8.8"
  }
 },
 "nbformat": 4,
 "nbformat_minor": 5
}
