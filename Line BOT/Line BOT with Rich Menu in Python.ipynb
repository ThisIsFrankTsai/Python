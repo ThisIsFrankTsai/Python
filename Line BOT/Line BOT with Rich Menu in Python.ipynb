{
 "cells": [
  {
   "cell_type": "code",
   "execution_count": 5,
   "id": "30b601be",
   "metadata": {},
   "outputs": [
    {
     "name": "stdout",
     "output_type": "stream",
     "text": [
      " * Serving Flask app \"__main__\" (lazy loading)\n",
      " * Environment: production\n",
      "   WARNING: This is a development server. Do not use it in a production deployment.\n",
      "   Use a production WSGI server instead.\n",
      " * Debug mode: off\n"
     ]
    },
    {
     "name": "stderr",
     "output_type": "stream",
     "text": [
      " * Running on http://127.0.0.1:5000/ (Press CTRL+C to quit)\n"
     ]
    }
   ],
   "source": [
    "from flask import Flask,request,abort\n",
    "from linebot import LineBotApi,WebhookHandler\n",
    "from linebot.exceptions import InvalidSignatureError\n",
    "from linebot.models import MessageEvent,TextMessage,TextSendMessage,ImageSendMessage\n",
    "\n",
    "app=Flask(__name__)\n",
    "handler=WebhookHandler('f28e0bb83af3e4ff819313c6a04d7d4f')\n",
    "line_bot_api=LineBotApi('Sz5oESZaLjhWIL/dP7HRKI8pmVBDvsiS6RvJGMFBU4X8cQ0Oi6GuoDzj1DmfZYvxCgcLAYj4ypJ+AME/5LGma55aSlmVPvQ/51414lhkzLkJ4tGHnPsCsHcR8jr4FreHlvthep6cDAwhY0PXwHVBYQdB04t89/1O/w1cDnyilFU=')\n",
    "\n",
    "@app.route(\"/callback\",methods=['POST'])\n",
    "def callback():\n",
    "    signature=request.headers['X-Line-Signature']\n",
    "    body=request.get_data(as_text=True)\n",
    "    try:\n",
    "        print(body,signature)\n",
    "        handler.handle(body,signature)\n",
    "    except InvalidSignatureError  :\n",
    "            abort(400)\n",
    "    return \"OK\"\n",
    "\n",
    "@handler.add(MessageEvent,message=TextMessage)\n",
    "def handle_message(event):\n",
    "    if isinstance(event.message,TextMessage):\n",
    "        msg=event.message.text\n",
    "        if msg==\"新聞\":\n",
    "            fig_url=\"https://s.yimg.com/rz/p/yahoo_news_zh-Hant-TW_h_p_newsv2.png\" \n",
    "            line_bot_api.reply_message(event.reply_token,ImageSendMessage(original_content_url=fig_url,preview_image_url=fig_url))\n",
    "    \n",
    "        if msg==\"股市\":\n",
    "            fig_url=\"https://s.yimg.com/rz/p/yahoo_finance_zh-Hant-TW_h_p_financev2.png\" \n",
    "            line_bot_api.reply_message(event.reply_token,ImageSendMessage(original_content_url=fig_url,preview_image_url=fig_url))\n",
    "        \n",
    "        if msg==\"客服\":\n",
    "            txt=\"歡迎使用Frank LineBOT\"\n",
    "            line_bot_api.reply_message(event.reply_token,TextSendMessage(text=txt))\n",
    "\n",
    "\n",
    "if __name__ =='__main__':\n",
    "    app.run()"
   ]
  },
  {
   "cell_type": "code",
   "execution_count": null,
   "id": "eae42619",
   "metadata": {},
   "outputs": [],
   "source": []
  }
 ],
 "metadata": {
  "kernelspec": {
   "display_name": "Python 3",
   "language": "python",
   "name": "python3"
  },
  "language_info": {
   "codemirror_mode": {
    "name": "ipython",
    "version": 3
   },
   "file_extension": ".py",
   "mimetype": "text/x-python",
   "name": "python",
   "nbconvert_exporter": "python",
   "pygments_lexer": "ipython3",
   "version": "3.8.8"
  }
 },
 "nbformat": 4,
 "nbformat_minor": 5
}
