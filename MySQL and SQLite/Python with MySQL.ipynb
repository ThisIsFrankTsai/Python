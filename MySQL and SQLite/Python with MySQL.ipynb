{
 "cells": [
  {
   "cell_type": "code",
   "execution_count": 2,
   "id": "b96a6e36",
   "metadata": {},
   "outputs": [
    {
     "name": "stdout",
     "output_type": "stream",
     "text": [
      "Collecting pymysql\n",
      "  Downloading PyMySQL-1.0.2-py3-none-any.whl (43 kB)\n",
      "Installing collected packages: pymysql\n",
      "Successfully installed pymysql-1.0.2\n",
      "Note: you may need to restart the kernel to use updated packages.\n"
     ]
    }
   ],
   "source": [
    "pip install pymysql"
   ]
  },
  {
   "cell_type": "code",
   "execution_count": 7,
   "id": "b3421302",
   "metadata": {},
   "outputs": [
    {
     "data": {
      "text/plain": [
       "1"
      ]
     },
     "execution_count": 7,
     "metadata": {},
     "output_type": "execute_result"
    }
   ],
   "source": [
    "import pymysql\n",
    "conn=pymysql.connect(host='localhost',\n",
    "                    port=3306,\n",
    "                    user='root',\n",
    "                    charset='utf8',\n",
    "                    password='123')\n",
    "mycursor=conn.cursor()\n",
    "mycursor.execute(\"CREATE DATABASE mydb123\")"
   ]
  },
  {
   "cell_type": "code",
   "execution_count": 14,
   "id": "fd23ad09",
   "metadata": {},
   "outputs": [
    {
     "data": {
      "text/plain": [
       "0"
      ]
     },
     "execution_count": 14,
     "metadata": {},
     "output_type": "execute_result"
    }
   ],
   "source": [
    "import pymysql\n",
    "conn=pymysql.connect(host='localhost',\n",
    "                    port=3306,\n",
    "                    user='root',\n",
    "                    charset='utf8',\n",
    "                    password='123',\n",
    "                    database='mydb123')\n",
    "mycursor=conn.cursor()\n",
    "\n",
    "sql=\"\"\"\n",
    "CREATE TABLE IF NOT EXISTS students(\n",
    "ID int NOT NULL AUTO_INCREMENT PRIMARY KEY,\n",
    "Name varchar(10),\n",
    "Area varchar(10)\n",
    ")\"\"\"\n",
    "\n",
    "mycursor.execute(sql)\n"
   ]
  },
  {
   "cell_type": "code",
   "execution_count": 17,
   "id": "3fed5496",
   "metadata": {},
   "outputs": [
    {
     "name": "stdout",
     "output_type": "stream",
     "text": [
      "有1筆資料\n"
     ]
    }
   ],
   "source": [
    "import pymysql\n",
    "conn=pymysql.connect(host='localhost',\n",
    "                    port=3306,\n",
    "                    user='root',\n",
    "                    charset='utf8',\n",
    "                    password='123',\n",
    "                    database='mydb123')\n",
    "mycursor=conn.cursor()\n",
    "\n",
    "sql=\"\"\"\n",
    "INSERT INTO students(Name,Area) VALUES(%s,%s)\n",
    "\"\"\"\n",
    "\n",
    "val=(\"Frank\",\"Taipei\")\n",
    "\n",
    "mycursor.execute(sql,val)\n",
    "conn.commit()\n",
    "print(f'有{mycursor.rowcount}筆資料')"
   ]
  },
  {
   "cell_type": "code",
   "execution_count": 18,
   "id": "6a4f8f93",
   "metadata": {},
   "outputs": [
    {
     "name": "stdout",
     "output_type": "stream",
     "text": [
      "有5筆資料\n"
     ]
    }
   ],
   "source": [
    "import pymysql\n",
    "conn=pymysql.connect(host='localhost',\n",
    "                    port=3306,\n",
    "                    user='root',\n",
    "                    charset='utf8',\n",
    "                    password='123',\n",
    "                    database='mydb123')\n",
    "mycursor=conn.cursor()\n",
    "sql=\"\"\"\n",
    "INSERT INTO students(Name,Area) VALUES(%s,%s)\n",
    "\"\"\"\n",
    "\n",
    "val=[(\"Frank\",\"Taipei\"),\n",
    "     (\"Amy\",\"Toyky\"),\n",
    "     (\"John\",\"Linkou\"),\n",
    "     (\"Peter\",\"Taipei\"),\n",
    "     (\"Sam\",\"Keelung\")\n",
    "    ]\n",
    "mycursor.executemany(sql,val)\n",
    "conn.commit()\n",
    "print(f'有{mycursor.rowcount}筆資料')"
   ]
  },
  {
   "cell_type": "code",
   "execution_count": 30,
   "id": "53e8fab1",
   "metadata": {},
   "outputs": [
    {
     "name": "stdout",
     "output_type": "stream",
     "text": [
      "(1, 'Frank', 'Taipei')\n",
      "(2, 'Frank', 'Taipei')\n",
      "(3, 'Amy', 'Toyky')\n",
      "(4, 'John', 'Linkou')\n",
      "(5, 'Peter', 'Taipei')\n",
      "(6, 'Sam', 'Keelung')\n",
      "(1, 'Frank', 'Taipei')\n"
     ]
    }
   ],
   "source": [
    "import pymysql\n",
    "conn=pymysql.connect(host='localhost',\n",
    "                    port=3306,\n",
    "                    user='root',\n",
    "                    charset='utf8',\n",
    "                    password='123',\n",
    "                    database='mydb123')\n",
    "mycursor=conn.cursor()\n",
    "\n",
    "sql=\"\"\"\n",
    "SELECT * FROM students\n",
    "\"\"\"\n",
    "mycursor.execute(sql)\n",
    "result=mycursor.fetchall()\n",
    "\n",
    "for r in result:\n",
    "    print(r)\n",
    "\n",
    "mycursor.execute(sql)\n",
    "results=mycursor.fetchone()\n",
    "print(results)"
   ]
  },
  {
   "cell_type": "code",
   "execution_count": 31,
   "id": "50afc419",
   "metadata": {},
   "outputs": [
    {
     "name": "stdout",
     "output_type": "stream",
     "text": [
      "(1, 'Frank', 'Taipei')\n",
      "(2, 'Frank', 'Taipei')\n",
      "(5, 'Peter', 'Taipei')\n"
     ]
    }
   ],
   "source": [
    "import pymysql\n",
    "conn=pymysql.connect(host='localhost',\n",
    "                    port=3306,\n",
    "                    user='root',\n",
    "                    charset='utf8',\n",
    "                    password='123',\n",
    "                    database='mydb123')\n",
    "mycursor=conn.cursor()\n",
    "\n",
    "sql=\"\"\"\n",
    "SELECT * FROM students WHERE Area='Taipei'\n",
    "\"\"\"\n",
    "mycursor.execute(sql)\n",
    "result=mycursor.fetchall()\n",
    "\n",
    "for r in result:\n",
    "    print(r)\n",
    "\n"
   ]
  },
  {
   "cell_type": "code",
   "execution_count": 33,
   "id": "95bd20eb",
   "metadata": {
    "scrolled": false
   },
   "outputs": [
    {
     "name": "stdout",
     "output_type": "stream",
     "text": [
      "(1, 'Frank', 'Taiwan')\n",
      "(2, 'Frank', 'Taiwan')\n",
      "(3, 'Amy', 'Toyky')\n",
      "(4, 'John', 'Linkou')\n",
      "(5, 'Peter', 'Taiwan')\n",
      "(6, 'Sam', 'Keelung')\n"
     ]
    }
   ],
   "source": [
    "import pymysql\n",
    "conn=pymysql.connect(host='localhost',\n",
    "                    port=3306,\n",
    "                    user='root',\n",
    "                    charset='utf8',\n",
    "                    password='123',\n",
    "                    database='mydb123')\n",
    "mycursor=conn.cursor()\n",
    "\n",
    "sql=\n",
    "\"\"\"\n",
    "UPDATE students SET Area='Taiwan' WHERE Area='Taipei'\n",
    "\"\"\"\n",
    "\n",
    "mycursor.execute(sql)\n",
    "conn.commit()\n",
    "mycursor.execute(\"SELECT * FROM students\")\n",
    "result=mycursor.fetchall()\n",
    "for r in result:\n",
    "    print(r)\n"
   ]
  },
  {
   "cell_type": "code",
   "execution_count": 42,
   "id": "1a8a164f",
   "metadata": {},
   "outputs": [
    {
     "name": "stdout",
     "output_type": "stream",
     "text": [
      "(3, 'Amy', 'Toyky')\n",
      "(4, 'John', 'Linkou')\n",
      "(5, 'Peter', 'Taiwan')\n",
      "(6, 'Sam', 'Keelung')\n"
     ]
    }
   ],
   "source": [
    "import pymysql\n",
    "conn=pymysql.connect(host='localhost',\n",
    "                    port=3306,\n",
    "                    user='root',\n",
    "                    charset='utf8',\n",
    "                    password='123',\n",
    "                    database='mydb123')\n",
    "mycursor=conn.cursor()\n",
    "\n",
    "\n",
    "mycursor.execute(\"DELETE FROM students WHERE id='2'\")\n",
    "conn.commit()\n",
    "mycursor.execute(\"SELECT * FROM students\")\n",
    "result=mycursor.fetchall()\n",
    "for r in result:\n",
    "    print(r)"
   ]
  },
  {
   "cell_type": "code",
   "execution_count": 43,
   "id": "b421589a",
   "metadata": {},
   "outputs": [
    {
     "name": "stdout",
     "output_type": "stream",
     "text": [
      "(3, 'Amy', 'Toyky')\n",
      "(4, 'John', 'Linkou')\n",
      "(5, 'Peter', 'Taiwan')\n"
     ]
    }
   ],
   "source": [
    "import pymysql\n",
    "conn=pymysql.connect(host='localhost',\n",
    "                    port=3306,\n",
    "                    user='root',\n",
    "                    charset='utf8',\n",
    "                    password='123',\n",
    "                    database='mydb123')\n",
    "mycursor=conn.cursor()\n",
    "\n",
    "sql=\"\"\"\n",
    "SELECT * FROM students LIMIT 3\n",
    "\"\"\"\n",
    "\n",
    "mycursor.execute(sql)\n",
    "\n",
    "result=mycursor.fetchall()\n",
    "for r in result:\n",
    "    print(r)"
   ]
  },
  {
   "cell_type": "code",
   "execution_count": 44,
   "id": "118f9b10",
   "metadata": {},
   "outputs": [
    {
     "data": {
      "text/plain": [
       "0"
      ]
     },
     "execution_count": 44,
     "metadata": {},
     "output_type": "execute_result"
    }
   ],
   "source": [
    "import pymysql\n",
    "conn=pymysql.connect(host='localhost',\n",
    "                    port=3306,\n",
    "                    user='root',\n",
    "                    charset='utf8',\n",
    "                    password='123',\n",
    "                    database='mydb123')\n",
    "mycursor=conn.cursor()\n",
    "\n",
    "sql=\"\"\"\n",
    "DROP TABLE students\n",
    "\"\"\"\n",
    "mycursor.execute(sql)\n"
   ]
  },
  {
   "cell_type": "code",
   "execution_count": null,
   "id": "0ea86d0a",
   "metadata": {},
   "outputs": [],
   "source": []
  }
 ],
 "metadata": {
  "kernelspec": {
   "display_name": "Python 3",
   "language": "python",
   "name": "python3"
  },
  "language_info": {
   "codemirror_mode": {
    "name": "ipython",
    "version": 3
   },
   "file_extension": ".py",
   "mimetype": "text/x-python",
   "name": "python",
   "nbconvert_exporter": "python",
   "pygments_lexer": "ipython3",
   "version": "3.8.8"
  }
 },
 "nbformat": 4,
 "nbformat_minor": 5
}
