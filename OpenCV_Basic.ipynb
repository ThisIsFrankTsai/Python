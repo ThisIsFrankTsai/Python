{
 "cells": [
  {
   "cell_type": "code",
   "execution_count": 4,
   "id": "9546ee4b",
   "metadata": {},
   "outputs": [],
   "source": [
    "import cv2\n",
    "\n",
    "cv2.namedWindow(\"face1\",cv2.WINDOW_AUTOSIZE)\n",
    "cv2.namedWindow(\"face2\",cv2.WINDOW_AUTOSIZE)\n",
    "\n",
    "image1=cv2.imread(\"test.jpg\",1)\n",
    "image2=cv2.imread(\"test.jpg\",0)\n",
    "\n",
    "cv2.imwrite(\"test_save2.jpg\",image2)\n",
    "cv2.imwrite(\"test_save1.jpg\",image1)\n",
    "\n",
    "cv2.line(image1,(0,0),(150,50),(255,122,222),3)\n",
    "cv2.rectangle(image2,(0,0),(150,150),(33,122,255),3)\n",
    "cv2.circle(image2,(50,50),15,(33,122,255),3)\n",
    "cv2.putText(image1,\"I like Python\",(70,80),cv2.FONT_ITALIC,3,(255,0,0),4)\n",
    "\n",
    "cv2.imshow(\"face1\",image1)\n",
    "cv2.imshow(\"face2\",image2)\n",
    "cv2.waitKey(10000)\n",
    "\n",
    "cv2.destroyWindow(\"face1\")\n",
    "cv2.waitKey(10000)\n",
    "cv2.destroyAllWindows()\n",
    "\n",
    "\n"
   ]
  },
  {
   "cell_type": "code",
   "execution_count": 3,
   "id": "69773651",
   "metadata": {},
   "outputs": [],
   "source": [
    "import cv2\n",
    "from PIL import ImageColor,Image\n",
    "num=1\n",
    "path=r'C:\\Users\\vg8rw\\PycharmProjects\\FrankProject\\ch34 OpenCV\\opencv-4.5.5\\opencv-4.5.5\\data\\haarcascades\\haarcascade_frontalface_default.xml'\n",
    "face_cascade=cv2.CascadeClassifier(path)\n",
    "cv2.namedWindow(\"face1\",cv2.WINDOW_AUTOSIZE)\n",
    "image1=cv2.imread(\"123.jpg\",1)\n",
    "faces=face_cascade.detectMultiScale(image1,scaleFactor=1.1,minNeighbors=3,minSize=(20,20))\n",
    "cv2.rectangle(image1,(image1.shape[1]-540,image1.shape[0]-60),(image1.shape[1],image1.shape[0]),(0,255,255),-1)\n",
    "\n",
    "cv2.putText(image1,\"Finding\"+str(len(faces))+\"faces\",(image1.shape[1]-535,image1.shape[0]),cv2.FONT_ITALIC,3,(255,0,0),2)\n",
    "\n",
    "for (x,y,w,h) in faces:\n",
    "    cv2.rectangle(image1,(x,y),(x+w,y+h),(255,0,0),2)\n",
    "    filename=\"face\"+str(num)+\".jpg\"\n",
    "    image=Image.open(\"123.jpg\")\n",
    "    imageCrop=image.crop((x,y,x+w,y+h))\n",
    "    imageResize=imageCrop.resize((150,150),Image.ANTIALIAS)\n",
    "    imageResize.save(filename)\n",
    "    num+=1\n",
    "\n",
    "cv2.imshow(\"face1\",image1)\n",
    "cv2.waitKey(10000)\n",
    "\n",
    "cv2.destroyWindow(\"face1\")"
   ]
  },
  {
   "cell_type": "code",
   "execution_count": 11,
   "id": "ffc9111a",
   "metadata": {},
   "outputs": [
    {
     "name": "stdout",
     "output_type": "stream",
     "text": [
      "RMS: 0.0\n",
      "welcome\n"
     ]
    }
   ],
   "source": [
    "from functools import reduce\n",
    "from PIL import ImageColor,Image\n",
    "import cv2\n",
    "import math,operator\n",
    "\n",
    "h1=Image.open(\"123.jpg\").histogram()\n",
    "h2=Image.open(\"456.jpg\").histogram()\n",
    "RMS=math.sqrt(reduce(operator.add,list(map(lambda a,b:(a-b)**2,h1,h2)))/len(h1))\n",
    "\n",
    "if RMS<=100:\n",
    "    print(\"RMS:\",RMS)\n",
    "    print(\"welcome\")\n",
    "else:\n",
    "    print(\"RMS:\",RMS)\n",
    "    print(\"error\")"
   ]
  },
  {
   "cell_type": "code",
   "execution_count": null,
   "id": "d3632e8b",
   "metadata": {},
   "outputs": [],
   "source": []
  }
 ],
 "metadata": {
  "kernelspec": {
   "display_name": "Python 3",
   "language": "python",
   "name": "python3"
  },
  "language_info": {
   "codemirror_mode": {
    "name": "ipython",
    "version": 3
   },
   "file_extension": ".py",
   "mimetype": "text/x-python",
   "name": "python",
   "nbconvert_exporter": "python",
   "pygments_lexer": "ipython3",
   "version": "3.8.8"
  }
 },
 "nbformat": 4,
 "nbformat_minor": 5
}
