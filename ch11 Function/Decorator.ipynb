{
 "cells": [
  {
   "cell_type": "code",
   "execution_count": 8,
   "id": "947ca294",
   "metadata": {},
   "outputs": [
    {
     "name": "stdout",
     "output_type": "stream",
     "text": [
      "HELLO!WORLD!\n",
      "HELLO!FRANK!\n"
     ]
    }
   ],
   "source": [
    "#11-13 Decorator example\n",
    "def upper(func):\n",
    "    def newFunc(args):\n",
    "        oldresult=func(args)\n",
    "        newresult=oldresult.upper()\n",
    "       # print('函數名稱:',func.__name__)\n",
    "       # print('函數參數:',args)\n",
    "        return newresult\n",
    "    return newFunc\n",
    "\n",
    "def greeting(string):\n",
    "    return string\n",
    "\n",
    "mygreeting=upper(greeting)\n",
    "mytest=upper(greeting)\n",
    "\n",
    "\n",
    "print(mygreeting('Hello!World!'))\n",
    "print(mytest('Hello!Frank!'))"
   ]
  },
  {
   "cell_type": "code",
   "execution_count": null,
   "id": "5a4c1dfb",
   "metadata": {},
   "outputs": [],
   "source": []
  }
 ],
 "metadata": {
  "kernelspec": {
   "display_name": "Python 3",
   "language": "python",
   "name": "python3"
  },
  "language_info": {
   "codemirror_mode": {
    "name": "ipython",
    "version": 3
   },
   "file_extension": ".py",
   "mimetype": "text/x-python",
   "name": "python",
   "nbconvert_exporter": "python",
   "pygments_lexer": "ipython3",
   "version": "3.8.8"
  }
 },
 "nbformat": 4,
 "nbformat_minor": 5
}
