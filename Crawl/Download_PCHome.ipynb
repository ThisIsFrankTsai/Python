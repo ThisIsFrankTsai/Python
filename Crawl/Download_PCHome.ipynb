{
 "cells": [
  {
   "cell_type": "code",
   "execution_count": null,
   "id": "1a1a80ff",
   "metadata": {},
   "outputs": [],
   "source": [
    "import numpy as np\n",
    "import pandas as pd\n",
    "import requests \n",
    "import json\n",
    "\n",
    "url = 'https://ecshweb.pchome.com.tw/search/v3.3/all/results?q=iphone&page=1&sort=sale/dc'\n",
    "response = requests.get(url) \n",
    "prods=res['prods']\n",
    "\n",
    "import time\n",
    "page=1\n",
    "name_list        = []\n",
    "price_list       = []\n",
    "originPrice_list = []\n",
    "df = pd.DataFrame(columns=['name','price','originPrice'])\n",
    "while page<=10:\n",
    "    url = 'https://ecshweb.pchome.com.tw/search/v3.3/all/results?q=iphone&page='+str(page)+'&sort=sale/dc' \n",
    "    response = requests.get(url) \n",
    "    content = response.content.decode(encoding = 'utf-8')\n",
    "    res = json.loads(content)\n",
    "    prods=res['prods']\n",
    "    print('目前爬取頁面:',page)\n",
    "    print(url)\n",
    "    for each_prod in prods:\n",
    "        name        = each_prod['name']\n",
    "        price       = each_prod['price'] \n",
    "        originPrice = each_prod['originPrice']\n",
    "        name_list.append(name)\n",
    "        price_list.append(price)\n",
    "        originPrice_list.append(originPrice)\n",
    "    page = page+1\n",
    "    print('=====每頁爬取完畢=========','name籃子裡面的數量:',len(name_list))\n",
    "    time.sleep(3)\n",
    "\n",
    "df['name']= name_list\n",
    "df['price']= price_list\n",
    "df['originPrice']= originPrice_list\n",
    "df"
   ]
  }
 ],
 "metadata": {
  "kernelspec": {
   "display_name": "Python 3 (ipykernel)",
   "language": "python",
   "name": "python3"
  },
  "language_info": {
   "codemirror_mode": {
    "name": "ipython",
    "version": 3
   },
   "file_extension": ".py",
   "mimetype": "text/x-python",
   "name": "python",
   "nbconvert_exporter": "python",
   "pygments_lexer": "ipython3",
   "version": "3.9.12"
  }
 },
 "nbformat": 4,
 "nbformat_minor": 5
}
