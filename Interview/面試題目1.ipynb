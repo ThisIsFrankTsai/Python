{
 "cells": [
  {
   "cell_type": "code",
   "execution_count": 1,
   "id": "2714270e",
   "metadata": {},
   "outputs": [
    {
     "name": "stdout",
     "output_type": "stream",
     "text": [
      "stocks list (ex:2317,2330,2303)\n",
      "month start (ex:2020-01):\n",
      "month end   (ex:2022-02):\n",
      "save file path(ex: ./csv_data)\n"
     ]
    },
    {
     "ename": "ValueError",
     "evalue": "Neither `start` nor `end` can be NaT",
     "output_type": "error",
     "traceback": [
      "\u001b[1;31m---------------------------------------------------------------------------\u001b[0m",
      "\u001b[1;31mValueError\u001b[0m                                Traceback (most recent call last)",
      "Input \u001b[1;32mIn [1]\u001b[0m, in \u001b[0;36m<cell line: 62>\u001b[1;34m()\u001b[0m\n\u001b[0;32m     65\u001b[0m end_month   \u001b[38;5;241m=\u001b[39m \u001b[38;5;28mstr\u001b[39m(\u001b[38;5;28minput\u001b[39m(\u001b[38;5;124m'\u001b[39m\u001b[38;5;124mmonth end   (ex:2022-02):\u001b[39m\u001b[38;5;124m'\u001b[39m))\n\u001b[0;32m     66\u001b[0m save_file_path \u001b[38;5;241m=\u001b[39m \u001b[38;5;28mstr\u001b[39m(\u001b[38;5;28minput\u001b[39m(\u001b[38;5;124m'\u001b[39m\u001b[38;5;124msave file path(ex: ./csv_data)\u001b[39m\u001b[38;5;124m'\u001b[39m))\n\u001b[1;32m---> 68\u001b[0m months_range \u001b[38;5;241m=\u001b[39m [\u001b[38;5;28mstr\u001b[39m(date)\u001b[38;5;241m.\u001b[39mreplace(\u001b[38;5;124m'\u001b[39m\u001b[38;5;124m-\u001b[39m\u001b[38;5;124m'\u001b[39m,\u001b[38;5;124m'\u001b[39m\u001b[38;5;124m'\u001b[39m)\u001b[38;5;241m.\u001b[39msplit(\u001b[38;5;124m'\u001b[39m\u001b[38;5;124m \u001b[39m\u001b[38;5;124m'\u001b[39m)[\u001b[38;5;241m0\u001b[39m] \u001b[38;5;28;01mfor\u001b[39;00m date \u001b[38;5;129;01min\u001b[39;00m \u001b[43mpd\u001b[49m\u001b[38;5;241;43m.\u001b[39;49m\u001b[43mdate_range\u001b[49m\u001b[43m(\u001b[49m\u001b[43mstart\u001b[49m\u001b[38;5;241;43m=\u001b[39;49m\u001b[43mstart_month\u001b[49m\u001b[43m \u001b[49m\u001b[43m,\u001b[49m\u001b[43mend\u001b[49m\u001b[43m \u001b[49m\u001b[38;5;241;43m=\u001b[39;49m\u001b[43m \u001b[49m\u001b[43mend_month\u001b[49m\u001b[43m,\u001b[49m\u001b[43mfreq\u001b[49m\u001b[43m \u001b[49m\u001b[38;5;241;43m=\u001b[39;49m\u001b[43m \u001b[49m\u001b[38;5;124;43m'\u001b[39;49m\u001b[38;5;124;43mMS\u001b[39;49m\u001b[38;5;124;43m'\u001b[39;49m\u001b[43m)\u001b[49m]\n\u001b[0;32m     70\u001b[0m S\u001b[38;5;241m=\u001b[39mstock(save_file_path) \n\u001b[0;32m     71\u001b[0m S\u001b[38;5;241m.\u001b[39mrun(stocks_list,months_range,save_file_path)\n",
      "File \u001b[1;32m~\\anaconda3\\lib\\site-packages\\pandas\\core\\indexes\\datetimes.py:1070\u001b[0m, in \u001b[0;36mdate_range\u001b[1;34m(start, end, periods, freq, tz, normalize, name, closed, inclusive, **kwargs)\u001b[0m\n\u001b[0;32m   1067\u001b[0m \u001b[38;5;28;01mif\u001b[39;00m freq \u001b[38;5;129;01mis\u001b[39;00m \u001b[38;5;28;01mNone\u001b[39;00m \u001b[38;5;129;01mand\u001b[39;00m com\u001b[38;5;241m.\u001b[39many_none(periods, start, end):\n\u001b[0;32m   1068\u001b[0m     freq \u001b[38;5;241m=\u001b[39m \u001b[38;5;124m\"\u001b[39m\u001b[38;5;124mD\u001b[39m\u001b[38;5;124m\"\u001b[39m\n\u001b[1;32m-> 1070\u001b[0m dtarr \u001b[38;5;241m=\u001b[39m DatetimeArray\u001b[38;5;241m.\u001b[39m_generate_range(\n\u001b[0;32m   1071\u001b[0m     start\u001b[38;5;241m=\u001b[39mstart,\n\u001b[0;32m   1072\u001b[0m     end\u001b[38;5;241m=\u001b[39mend,\n\u001b[0;32m   1073\u001b[0m     periods\u001b[38;5;241m=\u001b[39mperiods,\n\u001b[0;32m   1074\u001b[0m     freq\u001b[38;5;241m=\u001b[39mfreq,\n\u001b[0;32m   1075\u001b[0m     tz\u001b[38;5;241m=\u001b[39mtz,\n\u001b[0;32m   1076\u001b[0m     normalize\u001b[38;5;241m=\u001b[39mnormalize,\n\u001b[0;32m   1077\u001b[0m     inclusive\u001b[38;5;241m=\u001b[39minclusive,\n\u001b[0;32m   1078\u001b[0m     \u001b[38;5;241m*\u001b[39m\u001b[38;5;241m*\u001b[39mkwargs,\n\u001b[0;32m   1079\u001b[0m )\n\u001b[0;32m   1080\u001b[0m \u001b[38;5;28;01mreturn\u001b[39;00m DatetimeIndex\u001b[38;5;241m.\u001b[39m_simple_new(dtarr, name\u001b[38;5;241m=\u001b[39mname)\n",
      "File \u001b[1;32m~\\anaconda3\\lib\\site-packages\\pandas\\core\\arrays\\datetimes.py:418\u001b[0m, in \u001b[0;36mDatetimeArray._generate_range\u001b[1;34m(cls, start, end, periods, freq, tz, normalize, ambiguous, nonexistent, inclusive)\u001b[0m\n\u001b[0;32m    415\u001b[0m     end \u001b[38;5;241m=\u001b[39m Timestamp(end)\n\u001b[0;32m    417\u001b[0m \u001b[38;5;28;01mif\u001b[39;00m start \u001b[38;5;129;01mis\u001b[39;00m NaT \u001b[38;5;129;01mor\u001b[39;00m end \u001b[38;5;129;01mis\u001b[39;00m NaT:\n\u001b[1;32m--> 418\u001b[0m     \u001b[38;5;28;01mraise\u001b[39;00m \u001b[38;5;167;01mValueError\u001b[39;00m(\u001b[38;5;124m\"\u001b[39m\u001b[38;5;124mNeither `start` nor `end` can be NaT\u001b[39m\u001b[38;5;124m\"\u001b[39m)\n\u001b[0;32m    420\u001b[0m left_inclusive, right_inclusive \u001b[38;5;241m=\u001b[39m validate_inclusive(inclusive)\n\u001b[0;32m    421\u001b[0m start, end, _normalized \u001b[38;5;241m=\u001b[39m _maybe_normalize_endpoints(start, end, normalize)\n",
      "\u001b[1;31mValueError\u001b[0m: Neither `start` nor `end` can be NaT"
     ]
    }
   ],
   "source": [
    "import plotly\n",
    "from plotly.graph_objs import Scatter,Layout\n",
    "from plotly.offline import plot\n",
    "\n",
    "import requests\n",
    "import pandas as pd\n",
    "import time\n",
    "import os\n",
    "from io import StringIO\n",
    "\n",
    "def truncate(sio):\n",
    "    sio.truncate(0)\n",
    "    sio.seek(0)\n",
    "    return sio\n",
    "\n",
    "class stock:\n",
    "    def __init__(self,save_file_path):\n",
    "        if not os.path.exists(save_file_path):\n",
    "            os.makedirs(save_file_path)\n",
    "        pass\n",
    "\n",
    "    def run(self,stocks_list,months_range,save_file_path):\n",
    "        for stock in stocks_list: \n",
    "            columns = [\"日期\",\"成交股數\",\"成交金額\",\"開盤價\",\"最高價\",\"最低價\",\"收盤價\",\"漲跌價差\",\"成交筆數\"]\n",
    "            my_df = pd.DataFrame(columns = columns)\n",
    "            for m in months_range: \n",
    "                url = 'https://www.twse.com.tw/exchangeReport/STOCK_DAY?response=csv&date='+ m +'&stockNo='+stock\n",
    "                print('processing:',url)\n",
    "                headers = {'User-Agent': 'Mozilla/5.0 (Windows NT 10.0; Win64; x64) AppleWebKit/537.36 (KHTML, like Gecko) Chrome/98.0.4758.102 Safari/537.36'}\n",
    "                res = requests.get(url,headers = headers)\n",
    "                io_csv_info = StringIO(res.text)\n",
    "                first_line=io_csv_info.readline()\n",
    "                io_csv_info.readline() \n",
    "\n",
    "                while True: \n",
    "                    line = io_csv_info.readline()\n",
    "                    info_list = line.split('\",\"')\n",
    "                    info_list[0]  = info_list[0].strip('\"')\n",
    "                    info_list[-1] = info_list[-1].strip('\",\\r\\n')\n",
    "                    \n",
    "                    if '\"說明:\"\\r\\n' in line :\n",
    "                        break\n",
    "\n",
    "                    df = pd.DataFrame([info_list], columns = columns) \n",
    "                    my_df = my_df.append(df , ignore_index = True) \n",
    "                truncate(io_csv_info) \n",
    "                time.sleep(7)\n",
    "            my_df.insert(1,\"股票代碼\",first_line[9:13],True)\n",
    "            my_df.insert(2,\"股票名稱\",first_line[14:20],True)    \n",
    "            my_df.to_csv(save_file_path + f'/{stock}_from_{start_month}_to_{end_month}.csv' , encoding = 'big5')\n",
    "            print(f'=====================finished {first_line[9:20]} crawl========================================')\n",
    "            \"\"\"\n",
    "            作圖\n",
    "            data=[\n",
    "                    Scatter(x=my_df[\"日期\"],y=my_df['收盤價'],name='收盤價'),\n",
    "                    Scatter(x=my_df[\"日期\"],y=my_df['最低價'],name='最低價'),\n",
    "                    Scatter(x=my_df[\"日期\"],y=my_df['最高價'],name='最高價')\n",
    "                    ]\n",
    "            plot({\"data\":data,\"layout\":Layout(title='個股統計圖')},auto_open=True)\n",
    "            \"\"\"\n",
    "            \n",
    "if __name__ == '__main__':          \n",
    "    stocks_list = str(input('stocks list (ex:2317,2330,2303)')).split(',')\n",
    "    start_month = str(input('month start (ex:2020-01):'))\n",
    "    end_month   = str(input('month end   (ex:2022-02):'))\n",
    "    save_file_path = str(input('save file path(ex: ./csv_data)'))\n",
    "\n",
    "    months_range = [str(date).replace('-','').split(' ')[0] for date in pd.date_range(start=start_month ,end = end_month,freq = 'MS')]\n",
    "    \n",
    "    S=stock(save_file_path) \n",
    "    S.run(stocks_list,months_range,save_file_path) \n",
    "\n"
   ]
  },
  {
   "cell_type": "code",
   "execution_count": null,
   "id": "30041a23",
   "metadata": {},
   "outputs": [],
   "source": []
  }
 ],
 "metadata": {
  "kernelspec": {
   "display_name": "Python 3 (ipykernel)",
   "language": "python",
   "name": "python3"
  },
  "language_info": {
   "codemirror_mode": {
    "name": "ipython",
    "version": 3
   },
   "file_extension": ".py",
   "mimetype": "text/x-python",
   "name": "python",
   "nbconvert_exporter": "python",
   "pygments_lexer": "ipython3",
   "version": "3.9.12"
  }
 },
 "nbformat": 4,
 "nbformat_minor": 5
}
