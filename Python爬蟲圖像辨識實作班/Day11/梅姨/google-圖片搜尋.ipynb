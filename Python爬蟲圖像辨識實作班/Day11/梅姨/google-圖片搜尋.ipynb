{
 "cells": [
  {
   "cell_type": "code",
   "execution_count": 11,
   "id": "357cd41f",
   "metadata": {},
   "outputs": [
    {
     "name": "stderr",
     "output_type": "stream",
     "text": [
      "C:\\Users\\vg8rw\\AppData\\Local\\Temp\\ipykernel_8808\\2761888918.py:7: DeprecationWarning: executable_path has been deprecated, please pass in a Service object\n",
      "  driver=webdriver.Chrome(\"F:\\Python\\Python 爬蟲圖像辨識實作班\\Day09\\\\chromedriver.exe\")\n"
     ]
    }
   ],
   "source": [
    "from selenium import webdriver\n",
    "from selenium.webdriver.support.wait import WebDriverWait\n",
    "from selenium.webdriver.support import expected_conditions as EC\n",
    "from selenium.webdriver.common.by import By\n",
    "from selenium.webdriver.common.keys import Keys\n",
    "\n",
    "driver=webdriver.Chrome(\"F:\\Python\\Python 爬蟲圖像辨識實作班\\Day09\\\\chromedriver.exe\")\n",
    "\n",
    "driver.get(\"https://www.google.com\")\n",
    "\n",
    "search=WebDriverWait(driver,10).until(EC.element_to_be_clickable((By.CSS_SELECTOR,'[title=\"Google 搜尋\"]')))\n",
    "search.send_keys(\"mary streep\")\n",
    "search.send_keys(Keys.ENTER)\n",
    "driver.find_element(By.XPATH,('//*[text()=\"圖片\"]')).click()\n",
    "driver.find_element(By.XPATH,('//*[text()=\"工具\"]')).click()\n",
    "driver.find_element(By.XPATH,('//*[text()=\"大小\"]')).click()\n",
    "driver.find_element(By.XPATH,('//*[text()=\"圖片\"]')).click()\n"
   ]
  },
  {
   "cell_type": "code",
   "execution_count": 10,
   "id": "4dc62e78",
   "metadata": {},
   "outputs": [
    {
     "ename": "WebDriverException",
     "evalue": "Message: chrome not reachable\n  (Session info: chrome=105.0.5195.127)\nStacktrace:\nBacktrace:\n\tOrdinal0 [0x008DDF13+2219795]\n\tOrdinal0 [0x00872841+1779777]\n\tOrdinal0 [0x00784100+803072]\n\tOrdinal0 [0x00779BF2+760818]\n\tOrdinal0 [0x0076CD35+707893]\n\tOrdinal0 [0x00771122+725282]\n\tOrdinal0 [0x00775699+743065]\n\tOrdinal0 [0x00785610+808464]\n\tOrdinal0 [0x007DE93A+1173818]\n\tOrdinal0 [0x007CE616+1107478]\n\tOrdinal0 [0x007A7F89+950153]\n\tOrdinal0 [0x007A8F56+954198]\n\tGetHandleVerifier [0x00BD2CB2+3040210]\n\tGetHandleVerifier [0x00BC2BB4+2974420]\n\tGetHandleVerifier [0x00976A0A+565546]\n\tGetHandleVerifier [0x00975680+560544]\n\tOrdinal0 [0x00879A5C+1808988]\n\tOrdinal0 [0x0087E3A8+1827752]\n\tOrdinal0 [0x0087E495+1827989]\n\tOrdinal0 [0x008880A4+1867940]\n\tBaseThreadInitThunk [0x75D9FA29+25]\n\tRtlGetAppContainerNamedObjectPath [0x77BB7B5E+286]\n\tRtlGetAppContainerNamedObjectPath [0x77BB7B2E+238]\n",
     "output_type": "error",
     "traceback": [
      "\u001b[1;31m---------------------------------------------------------------------------\u001b[0m",
      "\u001b[1;31mWebDriverException\u001b[0m                        Traceback (most recent call last)",
      "Input \u001b[1;32mIn [10]\u001b[0m, in \u001b[0;36m<cell line: 2>\u001b[1;34m()\u001b[0m\n\u001b[0;32m      1\u001b[0m \u001b[38;5;28;01mimport\u001b[39;00m \u001b[38;5;21;01mtime\u001b[39;00m\n\u001b[1;32m----> 2\u001b[0m anchor \u001b[38;5;241m=\u001b[39m \u001b[43mdriver\u001b[49m\u001b[38;5;241;43m.\u001b[39;49m\u001b[43mfind_elements\u001b[49m\u001b[43m(\u001b[49m\u001b[43mBy\u001b[49m\u001b[38;5;241;43m.\u001b[39;49m\u001b[43mCLASS_NAME\u001b[49m\u001b[43m,\u001b[49m\u001b[43m(\u001b[49m\u001b[38;5;124;43m\"\u001b[39;49m\u001b[38;5;124;43mwXeWr\u001b[39;49m\u001b[38;5;124;43m\"\u001b[39;49m\u001b[43m)\u001b[49m\u001b[43m)\u001b[49m\n\u001b[0;32m      3\u001b[0m anchor1 \u001b[38;5;241m=\u001b[39m []\n\u001b[0;32m      4\u001b[0m \u001b[38;5;28;01mfor\u001b[39;00m img \u001b[38;5;129;01min\u001b[39;00m anchor:\n",
      "File \u001b[1;32m~\\anaconda3\\lib\\site-packages\\selenium\\webdriver\\remote\\webdriver.py:1284\u001b[0m, in \u001b[0;36mWebDriver.find_elements\u001b[1;34m(self, by, value)\u001b[0m\n\u001b[0;32m   1280\u001b[0m     value \u001b[38;5;241m=\u001b[39m \u001b[38;5;124m'\u001b[39m\u001b[38;5;124m[name=\u001b[39m\u001b[38;5;124m\"\u001b[39m\u001b[38;5;132;01m%s\u001b[39;00m\u001b[38;5;124m\"\u001b[39m\u001b[38;5;124m]\u001b[39m\u001b[38;5;124m'\u001b[39m \u001b[38;5;241m%\u001b[39m value\n\u001b[0;32m   1282\u001b[0m \u001b[38;5;66;03m# Return empty list if driver returns null\u001b[39;00m\n\u001b[0;32m   1283\u001b[0m \u001b[38;5;66;03m# See https://github.com/SeleniumHQ/selenium/issues/4555\u001b[39;00m\n\u001b[1;32m-> 1284\u001b[0m \u001b[38;5;28;01mreturn\u001b[39;00m \u001b[38;5;28;43mself\u001b[39;49m\u001b[38;5;241;43m.\u001b[39;49m\u001b[43mexecute\u001b[49m\u001b[43m(\u001b[49m\u001b[43mCommand\u001b[49m\u001b[38;5;241;43m.\u001b[39;49m\u001b[43mFIND_ELEMENTS\u001b[49m\u001b[43m,\u001b[49m\u001b[43m \u001b[49m\u001b[43m{\u001b[49m\n\u001b[0;32m   1285\u001b[0m \u001b[43m    \u001b[49m\u001b[38;5;124;43m'\u001b[39;49m\u001b[38;5;124;43musing\u001b[39;49m\u001b[38;5;124;43m'\u001b[39;49m\u001b[43m:\u001b[49m\u001b[43m \u001b[49m\u001b[43mby\u001b[49m\u001b[43m,\u001b[49m\n\u001b[0;32m   1286\u001b[0m \u001b[43m    \u001b[49m\u001b[38;5;124;43m'\u001b[39;49m\u001b[38;5;124;43mvalue\u001b[39;49m\u001b[38;5;124;43m'\u001b[39;49m\u001b[43m:\u001b[49m\u001b[43m \u001b[49m\u001b[43mvalue\u001b[49m\u001b[43m}\u001b[49m\u001b[43m)\u001b[49m[\u001b[38;5;124m'\u001b[39m\u001b[38;5;124mvalue\u001b[39m\u001b[38;5;124m'\u001b[39m] \u001b[38;5;129;01mor\u001b[39;00m []\n",
      "File \u001b[1;32m~\\anaconda3\\lib\\site-packages\\selenium\\webdriver\\remote\\webdriver.py:430\u001b[0m, in \u001b[0;36mWebDriver.execute\u001b[1;34m(self, driver_command, params)\u001b[0m\n\u001b[0;32m    428\u001b[0m response \u001b[38;5;241m=\u001b[39m \u001b[38;5;28mself\u001b[39m\u001b[38;5;241m.\u001b[39mcommand_executor\u001b[38;5;241m.\u001b[39mexecute(driver_command, params)\n\u001b[0;32m    429\u001b[0m \u001b[38;5;28;01mif\u001b[39;00m response:\n\u001b[1;32m--> 430\u001b[0m     \u001b[38;5;28;43mself\u001b[39;49m\u001b[38;5;241;43m.\u001b[39;49m\u001b[43merror_handler\u001b[49m\u001b[38;5;241;43m.\u001b[39;49m\u001b[43mcheck_response\u001b[49m\u001b[43m(\u001b[49m\u001b[43mresponse\u001b[49m\u001b[43m)\u001b[49m\n\u001b[0;32m    431\u001b[0m     response[\u001b[38;5;124m'\u001b[39m\u001b[38;5;124mvalue\u001b[39m\u001b[38;5;124m'\u001b[39m] \u001b[38;5;241m=\u001b[39m \u001b[38;5;28mself\u001b[39m\u001b[38;5;241m.\u001b[39m_unwrap_value(\n\u001b[0;32m    432\u001b[0m         response\u001b[38;5;241m.\u001b[39mget(\u001b[38;5;124m'\u001b[39m\u001b[38;5;124mvalue\u001b[39m\u001b[38;5;124m'\u001b[39m, \u001b[38;5;28;01mNone\u001b[39;00m))\n\u001b[0;32m    433\u001b[0m     \u001b[38;5;28;01mreturn\u001b[39;00m response\n",
      "File \u001b[1;32m~\\anaconda3\\lib\\site-packages\\selenium\\webdriver\\remote\\errorhandler.py:247\u001b[0m, in \u001b[0;36mErrorHandler.check_response\u001b[1;34m(self, response)\u001b[0m\n\u001b[0;32m    245\u001b[0m         alert_text \u001b[38;5;241m=\u001b[39m value[\u001b[38;5;124m'\u001b[39m\u001b[38;5;124malert\u001b[39m\u001b[38;5;124m'\u001b[39m]\u001b[38;5;241m.\u001b[39mget(\u001b[38;5;124m'\u001b[39m\u001b[38;5;124mtext\u001b[39m\u001b[38;5;124m'\u001b[39m)\n\u001b[0;32m    246\u001b[0m     \u001b[38;5;28;01mraise\u001b[39;00m exception_class(message, screen, stacktrace, alert_text)  \u001b[38;5;66;03m# type: ignore[call-arg]  # mypy is not smart enough here\u001b[39;00m\n\u001b[1;32m--> 247\u001b[0m \u001b[38;5;28;01mraise\u001b[39;00m exception_class(message, screen, stacktrace)\n",
      "\u001b[1;31mWebDriverException\u001b[0m: Message: chrome not reachable\n  (Session info: chrome=105.0.5195.127)\nStacktrace:\nBacktrace:\n\tOrdinal0 [0x008DDF13+2219795]\n\tOrdinal0 [0x00872841+1779777]\n\tOrdinal0 [0x00784100+803072]\n\tOrdinal0 [0x00779BF2+760818]\n\tOrdinal0 [0x0076CD35+707893]\n\tOrdinal0 [0x00771122+725282]\n\tOrdinal0 [0x00775699+743065]\n\tOrdinal0 [0x00785610+808464]\n\tOrdinal0 [0x007DE93A+1173818]\n\tOrdinal0 [0x007CE616+1107478]\n\tOrdinal0 [0x007A7F89+950153]\n\tOrdinal0 [0x007A8F56+954198]\n\tGetHandleVerifier [0x00BD2CB2+3040210]\n\tGetHandleVerifier [0x00BC2BB4+2974420]\n\tGetHandleVerifier [0x00976A0A+565546]\n\tGetHandleVerifier [0x00975680+560544]\n\tOrdinal0 [0x00879A5C+1808988]\n\tOrdinal0 [0x0087E3A8+1827752]\n\tOrdinal0 [0x0087E495+1827989]\n\tOrdinal0 [0x008880A4+1867940]\n\tBaseThreadInitThunk [0x75D9FA29+25]\n\tRtlGetAppContainerNamedObjectPath [0x77BB7B5E+286]\n\tRtlGetAppContainerNamedObjectPath [0x77BB7B2E+238]\n"
     ]
    }
   ],
   "source": [
    "import time\n",
    "anchor = driver.find_elements(By.CLASS_NAME,(\"wXeWr\"))\n",
    "anchor1 = []\n",
    "for img in anchor:\n",
    "    time.sleep(1)\n",
    "    img.click()\n",
    "    anchor1.append(img.get_attribute(\"href\"))\n",
    "print(len(anchor1))\n",
    "print(anchor1)"
   ]
  },
  {
   "cell_type": "code",
   "execution_count": 12,
   "id": "3794e185",
   "metadata": {},
   "outputs": [
    {
     "name": "stdout",
     "output_type": "stream",
     "text": [
      "['https://upload.wikimedia.org/wikipedia/commons/4/46/Meryl_Streep_December_2018.jpg']\n",
      "['https://media.vogue.com.tw/photos/62b2e27d1248da7a59615f60/2:3/w_2560%2Cc_limit/GettyImages-569105665.jpg']\n",
      "['https://www.voguehk.com/media/2021/06/image-8.jpeg']\n",
      "['https://pbs.twimg.com/media/FL53J_eXEA4g9_i.jpg:large']\n",
      "['https://media.vogue.com.tw/photos/62b2e27f442ead79e526e7db/master/w_2000,h_2447,c_limit/GettyImages-537165557.jpg']\n",
      "['https://s.yimg.com/ny/api/res/1.2/gItDRvB4hBtL5Aj222hp3Q--/YXBwaWQ9aGlnaGxhbmRlcjt3PTY0MDtoPTk2MA--/https://s.yimg.com/uu/api/res/1.2/4vmVAeyOfMC9vgZm9LiEEg--~B/aD0xMjgwO3c9ODUzO2FwcGlkPXl0YWNoeW9u/https://media.zenfs.com/en/vogue_hk_606/e932406cbddf7de19e5303b1f4754ef9']\n",
      "['https://ids.si.edu/ids/deliveryService?id=NPG-NPG_84_TC153Streep-000002']\n",
      "['https://www.voguehk.com/media/2022/01/1357379498-853x1280.jpeg']\n",
      "['https://m.media-amazon.com/images/M/MV5BMTU4Mjk5MDExOF5BMl5BanBnXkFtZTcwOTU1MTMyMw@@._V1_.jpg']\n",
      "['https://media.gettyimages.com/photos/meryl-streep-american-actress-born-in-summit-new-jersey-who-has-and-picture-id2662157?s=612x612']\n",
      "['https://media.vogue.com.tw/photos/62b2e281f682456f478eb866/master/w_1600%2Cc_limit/GettyImages-525193160.jpg']\n",
      "['https://images.squarespace-cdn.com/content/v1/5d4df612655e95000135f374/1588015493663-TPW7C0CHKXQVOX1QYFO6/Meryl_Streep_by_Jack_Mitchell.jpg']\n",
      "['https://pbs.twimg.com/media/Ewiw1WsXIAAyUy9.jpg']\n",
      "[]\n",
      "['https://upload.wikimedia.org/wikipedia/commons/thumb/1/1a/Meryl_Streep_at_the_Tokyo_International_Film_Festival_2016_%2832801846044%29_%28cropped%29.jpg/800px-Meryl_Streep_at_the_Tokyo_International_Film_Festival_2016_%2832801846044%29_%28cropped%29.jpg']\n",
      "['https://media.allure.com/photos/62b4b7f0e0cb6a4db04b319d/16:9/w_3488,h_1962,c_limit/6-23%20meryl%20streep.jpg']\n",
      "['https://media.gettyimages.com/photos/the-american-actress-meryl-streep-picture-id2636680?s=612x612']\n",
      "['https://obs.line-scdn.net/0hokpt_BrzMERNDSSXzLhPE3VbPDV-aypNb2t8cjtdbCNkISRAJm5jJzxZaGgzPSIRbTt5JG5ZbCNlOyNCIQ/w644']\n",
      "['https://imagesvc.meredithcorp.io/v3/mm/image?url=https%3A%2F%2Fstatic.onecms.io%2Fwp-content%2Fuploads%2Fsites%2F6%2F2021%2F12%2F07%2FJennifer-Lawrence-Meryl-Streep.jpg']\n",
      "['https://im.marieclaire.com.tw/m800c533h100b0/assets/mc/202006/5EEDBD0C090401592638732.jpeg']\n",
      "['https://image-cdn.hypb.st/https%3A%2F%2Fhk.hypebeast.com%2Ffiles%2F2018%2F01%2FMeryl-Streep-Ai-Jen-Poo-Golden-Globes-2018-Times-up-1-1.jpg?fit=max&cbr=1&q=90&w=750&h=500']\n",
      "['https://i1.wp.com/popbee.com/image/2020/11/let-them-all-talk-meryl-streep-hbo-max-teaser.jpg?quality=95&']\n",
      "['https://cdn.britannica.com/15/206115-050-629E25D0/Meryl-Streep-2018.jpg']\n",
      "['https://s3.amazonaws.com/podcasts-image-uploads/meryl-streep-and-the-movies-with-zachary-scot-johnson-and-maryl-mcnally-6902523e8-large.jpg']\n",
      "['https://image.agentm.tw/images/artist/c85fbcd2-7766-4d2f-ba59-7f4ee183f936.jpg']\n",
      "['https://images-na.ssl-images-amazon.com/images/I/81drMHDBmXL.jpg']\n",
      "['https://im.marieclaire.com.tw/s450c253h100b0/assets/mc/202006/5EEDCD0799F8B1592642823.png']\n",
      "['https://pic.pimg.tw/alan0831/1624349990-2288576082-g_wn.jpg']\n",
      "['https://upload.wikimedia.org/wikipedia/commons/thumb/7/76/Meryl_Streep_at_the_Tokyo_International_Film_Festival_2016_%2832802149674%29_%28cropped%29.jpg/800px-Meryl_Streep_at_the_Tokyo_International_Film_Festival_2016_%2832802149674%29_%28cropped%29.jpg']\n",
      "['https://api.elle.com.hk/var/site/storage/images/_aliases/img_1040_780/fashion/meryl-streep-style/35383045-1-chi-HK/72-Meryl-Streep-Netflix-Don-t-Look-Up.jpg']\n",
      "['https://assets.juksy.com/files/articles/74657/800x_100_w-5a5585cd0a55a.jpg']\n",
      "['https://api.harpersbazaar.com.hk/var/site/storage/images/_aliases/img_640_w/celebrity/celebrity-life/meryl-streep-best-acceptance-speech/586350-1-chi-HK/Meryl-Streep-10.jpg']\n",
      "['https://i.insider.com/5eebcd04f0f41934fa344880?width=700']\n",
      "['https://www.biography.com/.image/ar_4:3%2Cc_fill%2Ccs_srgb%2Cfl_progressive%2Cq_auto:good%2Cw_1200/MTgwNDYwMzAwNTc3ODEwMjg0/gettyimages-493521662.jpg']\n",
      "['https://media1.popsugar-assets.com/files/thumbor/U1H5t8fNa7MeC8Vv1f_gB4Rs8ow/61x120:2301x2360/fit-in/2048xorig/filters:format_auto-!!-:strip_icc-!!-/2019/12/11/081/n/1922398/044720f95df19052e2bcb2.90964813_/i/Meryl-Streep.jpg']\n",
      "['https://prod-images.tcm.com/Master-Profile-Images/MerylStreep.185873.3.jpg']\n",
      "['https://i1.wp.com/popbee.com/image/2019/08/sdgsdgsdgsdgdsg.jpg?quality=95&']\n",
      "['https://cineuropa.org/imgCache/2015/12/16/1450278361084_0800x0800_0x0x0x0_1573377118957.jpg']\n",
      "[]\n",
      "['https://pbs.twimg.com/media/DS-ePJhW0AIDPw_.jpg']\n",
      "[]\n",
      "['https://i.marieclaire.com.tw/assets/mc/202006/5EEDCE34A02AE1592643124.jpeg']\n",
      "[]\n",
      "['https://pbs.twimg.com/media/FVyOO9iWIAAYFnf?format=jpg&name=small']\n",
      "['https://imagesvc.meredithcorp.io/v3/mm/image?url=https%3A%2F%2Fstatic.onecms.io%2Fwp-content%2Fuploads%2Fsites%2F6%2F2020%2F11%2F17%2Fmeryl-streep-films.jpg&q=60']\n",
      "['https://www.usmagazine.com/wp-content/uploads/2019/06/Meryl-Streep-Through-The-Years.jpg?w=1600&quality=86&strip=all']\n",
      "['https://www.yourholidaysinumbria.com/wp-content/uploads/2019/11/Meryl-Streep-Daniela-e1574779480472.jpg']\n",
      "['https://www.goldenglobes.com/sites/default/files/styles/homepage_carousel/public/people/cover_images/meryl_streep_071116_florence_foster_jenkins_4c_0.jpg?itok=ErCXwmY4']\n"
     ]
    }
   ],
   "source": [
    "img3 = []\n",
    "for img in anchor1:\n",
    "    driver.get(img)\n",
    "    time.sleep(3)\n",
    "    anchor2 = driver.find_elements(By.CLASS_NAME,(\"n3VNCb\"))\n",
    "    anchor3 = [img.get_attribute(\"src\") for img in anchor2]\n",
    "    anchor4 = [img for img in anchor3 if str(img).startswith(\"http\")]\n",
    "    print(anchor4)\n",
    "    if anchor4 != []:\n",
    "        img3.append(anchor4[0])"
   ]
  },
  {
   "cell_type": "code",
   "execution_count": 13,
   "id": "2a2f101f",
   "metadata": {},
   "outputs": [
    {
     "data": {
      "text/plain": [
       "'C:\\\\Users\\\\vg8rw\\\\PycharmProjects\\\\FrankProject\\\\【111政】Python 爬蟲圖像辨識實作班\\\\Day11\\\\梅姨'"
      ]
     },
     "execution_count": 13,
     "metadata": {},
     "output_type": "execute_result"
    }
   ],
   "source": [
    "import os\n",
    "path = os.getcwd()\n",
    "path = os.path.join(path,\"梅姨\")\n",
    "os.mkdir(path)\n",
    "path"
   ]
  },
  {
   "cell_type": "code",
   "execution_count": 14,
   "id": "bfe9513a",
   "metadata": {},
   "outputs": [
    {
     "name": "stdout",
     "output_type": "stream",
     "text": [
      "100% [............................................................................] 297332 / 297332C:\\Users\\vg8rw\\PycharmProjects\\FrankProject\\【111政】Python 爬蟲圖像辨識實作班\\Day11\\梅姨\\1.jpg\n",
      "100% [..........................................................................] 2905829 / 2905829C:\\Users\\vg8rw\\PycharmProjects\\FrankProject\\【111政】Python 爬蟲圖像辨識實作班\\Day11\\梅姨\\2.jpg\n",
      "error\n",
      "error\n",
      "100% [............................................................................] 682547 / 682547C:\\Users\\vg8rw\\PycharmProjects\\FrankProject\\【111政】Python 爬蟲圖像辨識實作班\\Day11\\梅姨\\5.jpg\n",
      "100% [..............................................................................] 79519 / 79519C:\\Users\\vg8rw\\PycharmProjects\\FrankProject\\【111政】Python 爬蟲圖像辨識實作班\\Day11\\梅姨\\6.jpg\n",
      "100% [..............................................................................] 70514 / 70514C:\\Users\\vg8rw\\PycharmProjects\\FrankProject\\【111政】Python 爬蟲圖像辨識實作班\\Day11\\梅姨\\7.jpg\n",
      "error\n",
      "100% [..............................................................................] 57848 / 57848C:\\Users\\vg8rw\\PycharmProjects\\FrankProject\\【111政】Python 爬蟲圖像辨識實作班\\Day11\\梅姨\\9.jpg\n",
      "100% [..............................................................................] 42352 / 42352C:\\Users\\vg8rw\\PycharmProjects\\FrankProject\\【111政】Python 爬蟲圖像辨識實作班\\Day11\\梅姨\\10.jpg\n",
      "100% [............................................................................] 911971 / 911971C:\\Users\\vg8rw\\PycharmProjects\\FrankProject\\【111政】Python 爬蟲圖像辨識實作班\\Day11\\梅姨\\11.jpg\n",
      "100% [..............................................................................] 45662 / 45662C:\\Users\\vg8rw\\PycharmProjects\\FrankProject\\【111政】Python 爬蟲圖像辨識實作班\\Day11\\梅姨\\12.jpg\n",
      "100% [............................................................................] 117249 / 117249C:\\Users\\vg8rw\\PycharmProjects\\FrankProject\\【111政】Python 爬蟲圖像辨識實作班\\Day11\\梅姨\\13.jpg\n",
      "error\n",
      "100% [............................................................................] 400376 / 400376C:\\Users\\vg8rw\\PycharmProjects\\FrankProject\\【111政】Python 爬蟲圖像辨識實作班\\Day11\\梅姨\\15.jpg\n",
      "100% [..............................................................................] 41254 / 41254C:\\Users\\vg8rw\\PycharmProjects\\FrankProject\\【111政】Python 爬蟲圖像辨識實作班\\Day11\\梅姨\\16.jpg\n",
      "100% [..............................................................................] 73533 / 73533C:\\Users\\vg8rw\\PycharmProjects\\FrankProject\\【111政】Python 爬蟲圖像辨識實作班\\Day11\\梅姨\\17.jpg\n",
      "100% [............................................................................] 249373 / 249373C:\\Users\\vg8rw\\PycharmProjects\\FrankProject\\【111政】Python 爬蟲圖像辨識實作班\\Day11\\梅姨\\18.jpg\n",
      "-1 / unknownC:\\Users\\vg8rw\\PycharmProjects\\FrankProject\\【111政】Python 爬蟲圖像辨識實作班\\Day11\\梅姨\\19.jpg\n",
      "100% [............................................................................] 127629 / 127629C:\\Users\\vg8rw\\PycharmProjects\\FrankProject\\【111政】Python 爬蟲圖像辨識實作班\\Day11\\梅姨\\20.jpg\n",
      "100% [............................................................................] 475976 / 475976C:\\Users\\vg8rw\\PycharmProjects\\FrankProject\\【111政】Python 爬蟲圖像辨識實作班\\Day11\\梅姨\\21.jpg\n",
      "100% [............................................................................] 144485 / 144485C:\\Users\\vg8rw\\PycharmProjects\\FrankProject\\【111政】Python 爬蟲圖像辨識實作班\\Day11\\梅姨\\22.jpg\n",
      "100% [............................................................................] 218548 / 218548C:\\Users\\vg8rw\\PycharmProjects\\FrankProject\\【111政】Python 爬蟲圖像辨識實作班\\Day11\\梅姨\\23.jpg\n",
      "100% [..............................................................................] 10332 / 10332C:\\Users\\vg8rw\\PycharmProjects\\FrankProject\\【111政】Python 爬蟲圖像辨識實作班\\Day11\\梅姨\\24.jpg\n",
      "100% [............................................................................] 389832 / 389832C:\\Users\\vg8rw\\PycharmProjects\\FrankProject\\【111政】Python 爬蟲圖像辨識實作班\\Day11\\梅姨\\25.jpg\n",
      "-1 / unknownC:\\Users\\vg8rw\\PycharmProjects\\FrankProject\\【111政】Python 爬蟲圖像辨識實作班\\Day11\\梅姨\\26.jpg\n",
      "100% [..............................................................................] 88491 / 88491C:\\Users\\vg8rw\\PycharmProjects\\FrankProject\\【111政】Python 爬蟲圖像辨識實作班\\Day11\\梅姨\\27.jpg\n",
      "error\n",
      "100% [............................................................................] 159554 / 159554C:\\Users\\vg8rw\\PycharmProjects\\FrankProject\\【111政】Python 爬蟲圖像辨識實作班\\Day11\\梅姨\\29.jpg\n",
      "error\n",
      "100% [..............................................................................] 27609 / 27609C:\\Users\\vg8rw\\PycharmProjects\\FrankProject\\【111政】Python 爬蟲圖像辨識實作班\\Day11\\梅姨\\31.jpg\n",
      "100% [..............................................................................] 46308 / 46308C:\\Users\\vg8rw\\PycharmProjects\\FrankProject\\【111政】Python 爬蟲圖像辨識實作班\\Day11\\梅姨\\32.jpg\n",
      "error\n",
      "100% [............................................................................] 662164 / 662164C:\\Users\\vg8rw\\PycharmProjects\\FrankProject\\【111政】Python 爬蟲圖像辨識實作班\\Day11\\梅姨\\34.jpg\n",
      "100% [..........................................................................] 1425255 / 1425255C:\\Users\\vg8rw\\PycharmProjects\\FrankProject\\【111政】Python 爬蟲圖像辨識實作班\\Day11\\梅姨\\35.jpg\n",
      "100% [............................................................................] 141999 / 141999C:\\Users\\vg8rw\\PycharmProjects\\FrankProject\\【111政】Python 爬蟲圖像辨識實作班\\Day11\\梅姨\\36.jpg\n",
      "100% [..............................................................................] 95167 / 95167C:\\Users\\vg8rw\\PycharmProjects\\FrankProject\\【111政】Python 爬蟲圖像辨識實作班\\Day11\\梅姨\\37.jpg\n",
      "100% [............................................................................] 163793 / 163793C:\\Users\\vg8rw\\PycharmProjects\\FrankProject\\【111政】Python 爬蟲圖像辨識實作班\\Day11\\梅姨\\38.jpg\n",
      "100% [............................................................................] 442496 / 442496C:\\Users\\vg8rw\\PycharmProjects\\FrankProject\\【111政】Python 爬蟲圖像辨識實作班\\Day11\\梅姨\\39.jpg\n",
      "100% [..............................................................................] 88839 / 88839C:\\Users\\vg8rw\\PycharmProjects\\FrankProject\\【111政】Python 爬蟲圖像辨識實作班\\Day11\\梅姨\\40.jpg\n",
      "-1 / unknownC:\\Users\\vg8rw\\PycharmProjects\\FrankProject\\【111政】Python 爬蟲圖像辨識實作班\\Day11\\梅姨\\41.jpg\n",
      "100% [............................................................................] 468900 / 468900C:\\Users\\vg8rw\\PycharmProjects\\FrankProject\\【111政】Python 爬蟲圖像辨識實作班\\Day11\\梅姨\\42.jpg\n",
      "100% [............................................................................] 133152 / 133152C:\\Users\\vg8rw\\PycharmProjects\\FrankProject\\【111政】Python 爬蟲圖像辨識實作班\\Day11\\梅姨\\43.jpg\n",
      "100% [..............................................................................] 60188 / 60188C:\\Users\\vg8rw\\PycharmProjects\\FrankProject\\【111政】Python 爬蟲圖像辨識實作班\\Day11\\梅姨\\44.jpg\n"
     ]
    }
   ],
   "source": [
    "import wget\n",
    "counter=1\n",
    "for i in img3:\n",
    "    try:\n",
    "        save_as=os.path.join(path,str(counter)+\".jpg\")\n",
    "        wget.download(i,save_as)\n",
    "        print(save_as)\n",
    "        counter+=1\n",
    "    except:\n",
    "        print(\"error\")\n",
    "        counter+=1\n",
    "        continue"
   ]
  },
  {
   "cell_type": "code",
   "execution_count": null,
   "id": "1f5c6464",
   "metadata": {},
   "outputs": [],
   "source": []
  }
 ],
 "metadata": {
  "kernelspec": {
   "display_name": "Python 3 (ipykernel)",
   "language": "python",
   "name": "python3"
  },
  "language_info": {
   "codemirror_mode": {
    "name": "ipython",
    "version": 3
   },
   "file_extension": ".py",
   "mimetype": "text/x-python",
   "name": "python",
   "nbconvert_exporter": "python",
   "pygments_lexer": "ipython3",
   "version": "3.9.12"
  }
 },
 "nbformat": 4,
 "nbformat_minor": 5
}
