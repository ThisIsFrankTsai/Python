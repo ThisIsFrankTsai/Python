{
 "cells": [
  {
   "cell_type": "code",
   "execution_count": 1,
   "id": "87e87c6f",
   "metadata": {},
   "outputs": [
    {
     "name": "stdout",
     "output_type": "stream",
     "text": [
      "6\n",
      "[0, 0, 0, 1, 1, 1]\n"
     ]
    }
   ],
   "source": [
    "import cv2 \n",
    "import numpy as np  #大多數習慣把numpy簡寫成np\n",
    "\n",
    "img = []\n",
    "img.append(cv2.imread(\"c1.jpg\",cv2.IMREAD_GRAYSCALE))  #將圖片加入字典裡，並轉為灰階\n",
    "img.append(cv2.imread(\"c2.jpg\",cv2.IMREAD_GRAYSCALE))\n",
    "img.append(cv2.imread(\"c3.jpg\",cv2.IMREAD_GRAYSCALE))\n",
    "img.append(cv2.imread(\"d1.jpg\",cv2.IMREAD_GRAYSCALE))\n",
    "img.append(cv2.imread(\"d2.jpg\",cv2.IMREAD_GRAYSCALE))\n",
    "img.append(cv2.imread(\"d3.jpg\",cv2.IMREAD_GRAYSCALE))\n",
    "\n",
    "labels = [0,0,0,1,1,1]  #上面的照片是題目，labels就是對應順序的答案\n",
    "\n",
    "print(len(img))\n",
    "print(labels)"
   ]
  },
  {
   "cell_type": "code",
   "execution_count": 20,
   "id": "152b98d5",
   "metadata": {},
   "outputs": [],
   "source": [
    "rec = cv2.face.LBPHFaceRecognizer_create()  #建置人臉識別器  #若無法建置，可能是沒安裝到opencv-contrib-python\n",
    "rec.train(img,np.array(labels))  #只能用np.array"
   ]
  },
  {
   "cell_type": "code",
   "execution_count": 21,
   "id": "83d64a04",
   "metadata": {},
   "outputs": [
    {
     "name": "stdout",
     "output_type": "stream",
     "text": [
      "label= 0\n",
      "confidence= 1.8099379919169658\n"
     ]
    }
   ],
   "source": [
    "predict_img = cv2.imread(\"c4.jpg\",cv2.IMREAD_GRAYSCALE)\n",
    "\n",
    "labels,confidence = rec.predict(predict_img)\n",
    "#confidence：可信度評估的數字，越接近0越準\n",
    "\n",
    "print(\"label=\",labels)\n",
    "print(\"confidence=\",confidence)"
   ]
  },
  {
   "cell_type": "code",
   "execution_count": 22,
   "id": "4198363b",
   "metadata": {},
   "outputs": [
    {
     "name": "stdout",
     "output_type": "stream",
     "text": [
      "此人是 老師\n"
     ]
    }
   ],
   "source": [
    "name = [\"老師\",\"師母\"]\n",
    "\n",
    "print(\"此人是\",name[labels])"
   ]
  },
  {
   "cell_type": "code",
   "execution_count": 23,
   "id": "09ed7f82",
   "metadata": {},
   "outputs": [
    {
     "name": "stdout",
     "output_type": "stream",
     "text": [
      "[1, 2, 3, 4]\n",
      "[1, 2, 3, 4, 1, 2, 3, 4, 1, 2, 3, 4]\n",
      "[ 3  6  9 12]\n"
     ]
    }
   ],
   "source": [
    "a = [1,2,3]\n",
    "\n",
    "a.append(4)  #自動將()內的資料加入字典裡\n",
    "print(a)\n",
    "\n",
    "b = np.array(a)\n",
    "print(a*3)\n",
    "print(b*3)  #np.array：1*3 ,2*3 ,3*3 ,4*3"
   ]
  },
  {
   "cell_type": "code",
   "execution_count": 8,
   "id": "660c3605",
   "metadata": {},
   "outputs": [
    {
     "name": "stdout",
     "output_type": "stream",
     "text": [
      "18\n",
      "[0, 0, 0, 0, 0, 0, 0, 0, 0, 0, 0, 0, 0, 0, 0, 0, 0, 0]\n"
     ]
    }
   ],
   "source": [
    "#練習\n",
    "import cv2 \n",
    "import numpy as np\n",
    "img = []\n",
    "labels = [] \n",
    "\n",
    "num = 0\n",
    "while num<9:\n",
    "    num+=1\n",
    "    img.append(cv2.imread(\"L\"+str(num)+\".jpg\",cv2.IMREAD_GRAYSCALE))  \n",
    "    labels.append(0)\n",
    "num = 0\n",
    "while num<9:\n",
    "    num+=1\n",
    "    img.append(cv2.imread(\"CH\"+str(num)+\".jpg\",cv2.IMREAD_GRAYSCALE))  \n",
    "    labels.append(0)\n",
    "\n",
    "print(len(img))\n",
    "print(labels)\n",
    "\n",
    "rec = cv2.face.LBPHFaceRecognizer_create()  \n",
    "rec.train(img,np.array(labels))  \n",
    "\n"
   ]
  },
  {
   "cell_type": "code",
   "execution_count": 9,
   "id": "739abaf8",
   "metadata": {},
   "outputs": [
    {
     "name": "stdout",
     "output_type": "stream",
     "text": [
      "label= 0\n",
      "confidence= 51.17594686919914\n",
      "此人是 劉德華\n"
     ]
    }
   ],
   "source": [
    "predict_img = cv2.imread(\"c4.jpg\",cv2.IMREAD_GRAYSCALE)\n",
    "\n",
    "labels,confidence = rec.predict(predict_img)\n",
    "#confidence：可信度評估的數字，越接近0越準\n",
    "\n",
    "print(\"label=\",labels)\n",
    "print(\"confidence=\",confidence)\n",
    "\n",
    "name = [\"劉德華\",\"周杰倫\"]\n",
    "\n",
    "print(\"此人是\",name[labels])"
   ]
  },
  {
   "cell_type": "code",
   "execution_count": null,
   "id": "f354c9bb",
   "metadata": {},
   "outputs": [],
   "source": []
  }
 ],
 "metadata": {
  "kernelspec": {
   "display_name": "Python 3 (ipykernel)",
   "language": "python",
   "name": "python3"
  },
  "language_info": {
   "codemirror_mode": {
    "name": "ipython",
    "version": 3
   },
   "file_extension": ".py",
   "mimetype": "text/x-python",
   "name": "python",
   "nbconvert_exporter": "python",
   "pygments_lexer": "ipython3",
   "version": "3.9.12"
  }
 },
 "nbformat": 4,
 "nbformat_minor": 5
}
