{
 "cells": [
  {
   "cell_type": "code",
   "execution_count": 2,
   "id": "d81c6330",
   "metadata": {},
   "outputs": [
    {
     "name": "stdout",
     "output_type": "stream",
     "text": [
      "6\n",
      "[0, 0, 0, 1, 1, 1]\n"
     ]
    }
   ],
   "source": [
    "import cv2\n",
    "import numpy as np\n",
    "\n",
    "img=[]\n",
    "img.append(cv2.imread('c1.jpg',cv2.IMREAD_GRAYSCALE))\n",
    "img.append(cv2.imread('c2.jpg',cv2.IMREAD_GRAYSCALE))\n",
    "img.append(cv2.imread('c3.jpg',cv2.IMREAD_GRAYSCALE))\n",
    "img.append(cv2.imread('d1.jpg',cv2.IMREAD_GRAYSCALE))\n",
    "img.append(cv2.imread('d2.jpg',cv2.IMREAD_GRAYSCALE))\n",
    "img.append(cv2.imread('d3.jpg',cv2.IMREAD_GRAYSCALE))\n",
    "\n",
    "labels=[0,0,0,1,1,1]\n",
    "\n",
    "print(len(img))\n",
    "print(labels)"
   ]
  },
  {
   "cell_type": "code",
   "execution_count": 4,
   "id": "abbab915",
   "metadata": {},
   "outputs": [],
   "source": [
    "rec=cv2.face.LBPHFaceRecognizer_create()\n",
    "\n",
    "rec.train(img,np.array(labels))"
   ]
  },
  {
   "cell_type": "code",
   "execution_count": 5,
   "id": "adb26750",
   "metadata": {},
   "outputs": [],
   "source": [
    "predict_img=cv2.imread('L10.jpg',cv2.IMREAD_GRAYSCALE)\n",
    "\n",
    "label,confidence=rec.predict(predict_img)"
   ]
  },
  {
   "cell_type": "code",
   "execution_count": 12,
   "id": "68b8351a",
   "metadata": {},
   "outputs": [
    {
     "name": "stdout",
     "output_type": "stream",
     "text": [
      "label= 0\n",
      "confidence= 1.8099379919169658\n"
     ]
    }
   ],
   "source": [
    "name=['Andy','Jay']\n",
    "\n",
    "print('label=',label)\n",
    "print('confidence=',confidence)"
   ]
  },
  {
   "cell_type": "code",
   "execution_count": 13,
   "id": "03c0908f",
   "metadata": {},
   "outputs": [
    {
     "name": "stdout",
     "output_type": "stream",
     "text": [
      "this is : teacher\"s wife\n"
     ]
    }
   ],
   "source": [
    "print('this is :',name[1])"
   ]
  },
  {
   "cell_type": "code",
   "execution_count": null,
   "id": "1949152d",
   "metadata": {},
   "outputs": [],
   "source": []
  }
 ],
 "metadata": {
  "kernelspec": {
   "display_name": "Python 3 (ipykernel)",
   "language": "python",
   "name": "python3"
  },
  "language_info": {
   "codemirror_mode": {
    "name": "ipython",
    "version": 3
   },
   "file_extension": ".py",
   "mimetype": "text/x-python",
   "name": "python",
   "nbconvert_exporter": "python",
   "pygments_lexer": "ipython3",
   "version": "3.9.12"
  }
 },
 "nbformat": 4,
 "nbformat_minor": 5
}
