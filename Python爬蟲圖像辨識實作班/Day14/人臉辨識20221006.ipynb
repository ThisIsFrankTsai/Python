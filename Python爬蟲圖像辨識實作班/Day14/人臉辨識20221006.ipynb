{
 "cells": [
  {
   "cell_type": "code",
   "execution_count": 11,
   "id": "d81c6330",
   "metadata": {},
   "outputs": [
    {
     "name": "stdout",
     "output_type": "stream",
     "text": [
      "18\n",
      "[0, 0, 0, 0, 0, 0, 0, 0, 0, 1, 1, 1, 1, 1, 1, 1, 1, 1]\n"
     ]
    }
   ],
   "source": [
    "import cv2\n",
    "import numpy as np\n",
    "\n",
    "img=[]\n",
    "num=0\n",
    "labels=[]\n",
    "\n",
    "while num<9:\n",
    "    num+=1\n",
    "    img.append(cv2.imread('L'+str(num)+'.jpg',cv2.IMREAD_GRAYSCALE))\n",
    "    labels.append(0)\n",
    "\n",
    "num=0\n",
    "while num<9:\n",
    "    num+=1\n",
    "    img.append(cv2.imread('CH'+str(num)+'.jpg',cv2.IMREAD_GRAYSCALE))\n",
    "    labels.append(1)\n",
    "    \n",
    "\n",
    "print(len(img))\n",
    "print(labels)"
   ]
  },
  {
   "cell_type": "code",
   "execution_count": 12,
   "id": "abbab915",
   "metadata": {},
   "outputs": [],
   "source": [
    "rec=cv2.face.LBPHFaceRecognizer_create()\n",
    "\n",
    "rec.train(img,np.array(labels))"
   ]
  },
  {
   "cell_type": "code",
   "execution_count": 16,
   "id": "adb26750",
   "metadata": {},
   "outputs": [],
   "source": [
    "predict_img=cv2.imread('CH10.jpg',cv2.IMREAD_GRAYSCALE)\n",
    "\n",
    "label,confidence=rec.predict(predict_img)"
   ]
  },
  {
   "cell_type": "code",
   "execution_count": 17,
   "id": "68b8351a",
   "metadata": {},
   "outputs": [
    {
     "name": "stdout",
     "output_type": "stream",
     "text": [
      "label= 1\n",
      "confidence= 70.43505983228134\n"
     ]
    }
   ],
   "source": [
    "name=['Andy','Jay']\n",
    "\n",
    "print('label=',label)\n",
    "print('confidence=',confidence)"
   ]
  },
  {
   "cell_type": "code",
   "execution_count": 18,
   "id": "03c0908f",
   "metadata": {},
   "outputs": [
    {
     "name": "stdout",
     "output_type": "stream",
     "text": [
      "this is : Jay\n"
     ]
    }
   ],
   "source": [
    "print('this is :',name[label])"
   ]
  },
  {
   "cell_type": "code",
   "execution_count": null,
   "id": "1949152d",
   "metadata": {},
   "outputs": [],
   "source": []
  }
 ],
 "metadata": {
  "kernelspec": {
   "display_name": "Python 3 (ipykernel)",
   "language": "python",
   "name": "python3"
  },
  "language_info": {
   "codemirror_mode": {
    "name": "ipython",
    "version": 3
   },
   "file_extension": ".py",
   "mimetype": "text/x-python",
   "name": "python",
   "nbconvert_exporter": "python",
   "pygments_lexer": "ipython3",
   "version": "3.9.12"
  }
 },
 "nbformat": 4,
 "nbformat_minor": 5
}
