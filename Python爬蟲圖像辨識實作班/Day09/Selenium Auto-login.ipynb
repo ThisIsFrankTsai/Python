{
 "cells": [
  {
   "cell_type": "code",
   "execution_count": 1,
   "id": "5767d7ed",
   "metadata": {},
   "outputs": [
    {
     "name": "stdout",
     "output_type": "stream",
     "text": [
      "Requirement already satisfied: selenium in c:\\users\\vg8rw\\anaconda3\\lib\\site-packages (4.1.5)\n",
      "Requirement already satisfied: trio~=0.17 in c:\\users\\vg8rw\\anaconda3\\lib\\site-packages (from selenium) (0.20.0)\n",
      "Requirement already satisfied: trio-websocket~=0.9 in c:\\users\\vg8rw\\anaconda3\\lib\\site-packages (from selenium) (0.9.2)\n",
      "Requirement already satisfied: urllib3[secure,socks]~=1.26 in c:\\users\\vg8rw\\anaconda3\\lib\\site-packages (from selenium) (1.26.9)\n",
      "Requirement already satisfied: sniffio in c:\\users\\vg8rw\\anaconda3\\lib\\site-packages (from trio~=0.17->selenium) (1.2.0)\n",
      "Requirement already satisfied: idna in c:\\users\\vg8rw\\anaconda3\\lib\\site-packages (from trio~=0.17->selenium) (3.3)\n",
      "Requirement already satisfied: sortedcontainers in c:\\users\\vg8rw\\anaconda3\\lib\\site-packages (from trio~=0.17->selenium) (2.4.0)\n",
      "Requirement already satisfied: outcome in c:\\users\\vg8rw\\anaconda3\\lib\\site-packages (from trio~=0.17->selenium) (1.1.0)\n",
      "Requirement already satisfied: cffi>=1.14 in c:\\users\\vg8rw\\anaconda3\\lib\\site-packages (from trio~=0.17->selenium) (1.15.0)\n",
      "Requirement already satisfied: async-generator>=1.9 in c:\\users\\vg8rw\\anaconda3\\lib\\site-packages (from trio~=0.17->selenium) (1.10)\n",
      "Requirement already satisfied: attrs>=19.2.0 in c:\\users\\vg8rw\\anaconda3\\lib\\site-packages (from trio~=0.17->selenium) (21.4.0)\n",
      "Requirement already satisfied: pycparser in c:\\users\\vg8rw\\anaconda3\\lib\\site-packages (from cffi>=1.14->trio~=0.17->selenium) (2.21)\n",
      "Requirement already satisfied: wsproto>=0.14 in c:\\users\\vg8rw\\anaconda3\\lib\\site-packages (from trio-websocket~=0.9->selenium) (1.1.0)\n",
      "Requirement already satisfied: PySocks!=1.5.7,<2.0,>=1.5.6 in c:\\users\\vg8rw\\anaconda3\\lib\\site-packages (from urllib3[secure,socks]~=1.26->selenium) (1.7.1)\n",
      "Requirement already satisfied: certifi in c:\\users\\vg8rw\\anaconda3\\lib\\site-packages (from urllib3[secure,socks]~=1.26->selenium) (2021.10.8)\n",
      "Requirement already satisfied: pyOpenSSL>=0.14 in c:\\users\\vg8rw\\anaconda3\\lib\\site-packages (from urllib3[secure,socks]~=1.26->selenium) (21.0.0)\n",
      "Requirement already satisfied: cryptography>=1.3.4 in c:\\users\\vg8rw\\anaconda3\\lib\\site-packages (from urllib3[secure,socks]~=1.26->selenium) (3.4.8)\n",
      "Requirement already satisfied: six>=1.5.2 in c:\\users\\vg8rw\\anaconda3\\lib\\site-packages (from pyOpenSSL>=0.14->urllib3[secure,socks]~=1.26->selenium) (1.16.0)\n",
      "Requirement already satisfied: h11<1,>=0.9.0 in c:\\users\\vg8rw\\anaconda3\\lib\\site-packages (from wsproto>=0.14->trio-websocket~=0.9->selenium) (0.13.0)\n"
     ]
    }
   ],
   "source": [
    "!pip install selenium\n"
   ]
  },
  {
   "cell_type": "code",
   "execution_count": 26,
   "id": "6fe59a0b",
   "metadata": {},
   "outputs": [
    {
     "name": "stderr",
     "output_type": "stream",
     "text": [
      "C:\\Users\\vg8rw\\AppData\\Local\\Temp\\ipykernel_11616\\3879969752.py:7: DeprecationWarning: executable_path has been deprecated, please pass in a Service object\n",
      "  driver=webdriver.Chrome(\"F:\\Python\\Python 爬蟲圖像辨識實作班\\Day09\\\\chromedriver.exe\")\n"
     ]
    }
   ],
   "source": [
    "from selenium import webdriver\n",
    "from selenium.webdriver.support.wait import WebDriverWait\n",
    "from selenium.webdriver.support import expected_conditions as EC\n",
    "from selenium.webdriver.common.by import By\n",
    "\n",
    "\n",
    "driver=webdriver.Chrome(\"F:\\Python\\Python 爬蟲圖像辨識實作班\\Day09\\\\chromedriver.exe\")\n",
    "\n",
    "driver.get(\"https://www.facebook.com\")\n",
    "\n",
    "username=WebDriverWait(driver,10).until(EC.element_to_be_clickable((By.CSS_SELECTOR,'input[name=\"email\"]')))\n",
    "#'input[name=\"email\"]'  小括號 且是用=\n",
    "username.send_keys()\n",
    "password=WebDriverWait(driver,10).until(EC.element_to_be_clickable((By.CSS_SELECTOR,'input[name=\"pass\"]')))\n",
    "password.send_keys()\n",
    "login=WebDriverWait(driver,10).until(EC.element_to_be_clickable((By.CSS_SELECTOR,'button[name=\"login\"]')))\n",
    "login.click()"
   ]
  },
  {
   "cell_type": "code",
   "execution_count": 32,
   "id": "0d53e335",
   "metadata": {},
   "outputs": [],
   "source": [
    "import json\n",
    "\n",
    "cookie=driver.get_cookies() #下載所有通知\n",
    "json=json.dumps(cookie)\n",
    "\n",
    "with open(\"facebook.json\",\"w\") as f:\n",
    "    f.write(json)\n",
    "    f.close\n",
    "    \n",
    "    \n"
   ]
  },
  {
   "cell_type": "code",
   "execution_count": 40,
   "id": "0a3655bb",
   "metadata": {},
   "outputs": [
    {
     "name": "stderr",
     "output_type": "stream",
     "text": [
      "C:\\Users\\vg8rw\\AppData\\Local\\Temp\\ipykernel_11616\\3493035914.py:11: DeprecationWarning: executable_path has been deprecated, please pass in a Service object\n",
      "  driver=webdriver.Chrome(\"F:\\Python\\Python 爬蟲圖像辨識實作班\\Day09\\\\chromedriver.exe\",options=option)\n"
     ]
    }
   ],
   "source": [
    "#先行登入過後，使用cookie自動登入並跳過登入，封鎖通知 \n",
    "import json\n",
    "from selenium import webdriver\n",
    "from selenium.webdriver.chrome.options import Options\n",
    "\n",
    "option=webdriver.ChromeOptions()\n",
    "prefs={\"profile.default_content_setting_values\":{\"notifications\":2}} #取消通知\n",
    "option.add_experimental_option(\"prefs\",prefs)\n",
    "\n",
    "driver=webdriver.Chrome(\"F:\\Python\\Python 爬蟲圖像辨識實作班\\Day09\\\\chromedriver.exe\",options=option)\n",
    "driver.get(\"https://www.facebook.com\")\n",
    "\n",
    "f1=open(\"facebook.json\")\n",
    "cookies=json.loads(f1.read())\n",
    "\n",
    "for c in cookies:\n",
    "    driver.add_cookie(c)\n",
    "driver.refresh()\n"
   ]
  },
  {
   "cell_type": "code",
   "execution_count": null,
   "id": "1b0065d2",
   "metadata": {},
   "outputs": [],
   "source": []
  }
 ],
 "metadata": {
  "kernelspec": {
   "display_name": "Python 3 (ipykernel)",
   "language": "python",
   "name": "python3"
  },
  "language_info": {
   "codemirror_mode": {
    "name": "ipython",
    "version": 3
   },
   "file_extension": ".py",
   "mimetype": "text/x-python",
   "name": "python",
   "nbconvert_exporter": "python",
   "pygments_lexer": "ipython3",
   "version": "3.9.12"
  }
 },
 "nbformat": 4,
 "nbformat_minor": 5
}
