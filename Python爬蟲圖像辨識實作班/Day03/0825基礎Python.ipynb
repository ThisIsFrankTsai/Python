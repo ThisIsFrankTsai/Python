{
 "cells": [
  {
   "cell_type": "code",
   "execution_count": 12,
   "id": "e3bc44a0",
   "metadata": {},
   "outputs": [
    {
     "name": "stdout",
     "output_type": "stream",
     "text": [
      "請輸入餐廳為稅金額:1000\n",
      "含服務費金額共: 1155.0 NTD\n"
     ]
    }
   ],
   "source": [
    "n=int(input(\"請輸入餐廳為稅金額:\"))\n",
    "print(f'含服務費金額共: {int(n)*1.05*1.1} NTD')"
   ]
  },
  {
   "cell_type": "code",
   "execution_count": null,
   "id": "dc29b01c",
   "metadata": {},
   "outputs": [],
   "source": []
  }
 ],
 "metadata": {
  "kernelspec": {
   "display_name": "Python 3 (ipykernel)",
   "language": "python",
   "name": "python3"
  },
  "language_info": {
   "codemirror_mode": {
    "name": "ipython",
    "version": 3
   },
   "file_extension": ".py",
   "mimetype": "text/x-python",
   "name": "python",
   "nbconvert_exporter": "python",
   "pygments_lexer": "ipython3",
   "version": "3.9.12"
  }
 },
 "nbformat": 4,
 "nbformat_minor": 5
}
