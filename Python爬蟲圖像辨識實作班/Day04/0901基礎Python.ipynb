{
 "cells": [
  {
   "cell_type": "code",
   "execution_count": 8,
   "id": "3deee599",
   "metadata": {},
   "outputs": [
    {
     "name": "stdout",
     "output_type": "stream",
     "text": [
      "pi : 3.14\n",
      "weather : typthoon\n",
      "name : python\n"
     ]
    }
   ],
   "source": [
    "word=\"hello world!\"\n",
    "list1=[1,2,3,4,5]\n",
    "dic1={\"pi\":3.14,\"weather\":\"typthoon\",\"name\":\"python\"}\n",
    "\n",
    "# for i in word:\n",
    "#     print(i)\n",
    "    \n",
    "# for i in list1:\n",
    "#     print(i)\n",
    "\n",
    "for i in dic1:\n",
    "    print(i,\":\",dic1[i])"
   ]
  },
  {
   "cell_type": "code",
   "execution_count": 20,
   "id": "0ea5ca48",
   "metadata": {},
   "outputs": [
    {
     "name": "stdout",
     "output_type": "stream",
     "text": [
      "1\n",
      "2\n",
      "3\n",
      "5\n",
      "8\n",
      "13\n",
      "21\n",
      "34\n",
      "55\n",
      "89\n",
      "144\n",
      "233\n",
      "377\n",
      "610\n",
      "987\n"
     ]
    }
   ],
   "source": [
    "#列出15個費氏數列 用for 迴圈\n",
    "a,b=0,1\n",
    "\n",
    "for i in range(0,15):\n",
    "    c=a+b\n",
    "    print(c)\n",
    "    a=b\n",
    "    b=c\n",
    "    \n",
    "    "
   ]
  },
  {
   "cell_type": "code",
   "execution_count": 25,
   "id": "77cd15fb",
   "metadata": {},
   "outputs": [
    {
     "name": "stdout",
     "output_type": "stream",
     "text": [
      "5\n",
      "總共骰了: 1\n",
      "1\n",
      "總共骰了: 2\n",
      "1\n",
      "總共骰了: 3\n",
      "6\n",
      "總共骰了: 4\n"
     ]
    }
   ],
   "source": [
    "# \n",
    "import random\n",
    "count=1\n",
    "while True :\n",
    "    a=random.randint(1,6)\n",
    "    \n",
    "    print(a)\n",
    "    print(\"總共骰了:\",count)\n",
    "    count+=1\n",
    "    if a == 6:\n",
    "        break\n",
    "    "
   ]
  },
  {
   "cell_type": "code",
   "execution_count": null,
   "id": "3a16549a",
   "metadata": {},
   "outputs": [],
   "source": []
  },
  {
   "cell_type": "code",
   "execution_count": null,
   "id": "3f0914ab",
   "metadata": {},
   "outputs": [],
   "source": []
  }
 ],
 "metadata": {
  "kernelspec": {
   "display_name": "Python 3 (ipykernel)",
   "language": "python",
   "name": "python3"
  },
  "language_info": {
   "codemirror_mode": {
    "name": "ipython",
    "version": 3
   },
   "file_extension": ".py",
   "mimetype": "text/x-python",
   "name": "python",
   "nbconvert_exporter": "python",
   "pygments_lexer": "ipython3",
   "version": "3.9.12"
  }
 },
 "nbformat": 4,
 "nbformat_minor": 5
}
