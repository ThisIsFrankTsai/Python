{
 "cells": [
  {
   "cell_type": "code",
   "execution_count": 7,
   "id": "fcabe2d1",
   "metadata": {},
   "outputs": [
    {
     "name": "stdout",
     "output_type": "stream",
     "text": [
      "圖書館 - Google 搜尋全部新聞圖片影片國家圖書龍山分館台南市立图书圖書只是圖書館藏臺中市立最美圖書台南圖書大學圖書新竹    快收藏！此生必去十大特色圖書館第7名《華燈》也取景│旅...   news.tvbs.com.tw        屏東縣立圖書館總館-鄉鎮市圖書館   www.cultural.pthg.gov.tw        如何愛上圖書館？｜親子天下   www.parenting.com.tw        臺中市立圖書館-關於我們-簡介   www.library.taichung.gov.tw...        宜蘭縣公共圖書館   library.e-land.gov.tw        公共图书馆- 维基百科，自由的百科全书   zh.wikipedia.org        臺南市立圖書館   www.tnpl.tn.edu.tw        中正區圖書館- 基隆市公共圖書館   kllib.klccab.gov.tw        台灣最美大學圖書館之一、人文薈萃的建築美學「政大達賢圖...   immay.tw        不只是圖書館- TDRI   www.tdri.org.tw        關西首間蔦屋書店圖書館「和歌山市民圖書館Ki:no和歌...   matcha-jp.com        國立故宮博物院參觀> 行政區、其它空間與設施> 圖書館...   www.npm.gov.tw        臺南市立圖書館總館| 台南旅遊網   www.twtainan.net        彷彿走入魔法圖書館！超美麗的日本角川武藏野博物館|...   www.japaholic.com        世界閱讀日】歐美掀起殺館潮圖書館哀歌響遍   www.hk01.com        書蟲一生必訪的圖書館！《悅讀：紐約公共圖書館》揭開宏偉...   www.wowlavie.com        嘉義縣公共圖書館   www.cycab.gov.tw        瑞典過日子》圖書館只能看舊書破書？瑞典人這樣把新鮮知識...   www.storm.mg        解密台南新總圖：一座超乎想像的新時代圖書館-...   www.verse.com.tw        閒置大樓成森林系書房！竹市最大圖書館龍山分館今啟用|...   udn.com    下一頁 >244 新北市林口區 - 根據你的 IP 位址 - 瞭解詳情登入設定隱私權服務條款 \n"
     ]
    }
   ],
   "source": [
    "import requests\n",
    "from bs4 import BeautifulSoup\n",
    "\n",
    "url=\"https://www.google.com.tw/search?q=%E5%9C%96%E6%9B%B8%E9%A4%A8&sxsrf=ALiCzsbxVJzukcj8b5gtVFS5sCMwAW4DEg:1663069911383&source=lnms&tbm=isch&sa=X&ved=2ahUKEwjEsbea2pH6AhUMgFYBHRjQCpwQ_AUoA3oECAIQBQ&biw=1920&bih=937&dpr=1\"\n",
    "\n",
    "res=requests.get(url)\n",
    "img=BeautifulSoup(res.text)\n",
    "print(img.text)"
   ]
  },
  {
   "cell_type": "code",
   "execution_count": null,
   "id": "cced76cb",
   "metadata": {},
   "outputs": [],
   "source": []
  }
 ],
 "metadata": {
  "kernelspec": {
   "display_name": "Python 3 (ipykernel)",
   "language": "python",
   "name": "python3"
  },
  "language_info": {
   "codemirror_mode": {
    "name": "ipython",
    "version": 3
   },
   "file_extension": ".py",
   "mimetype": "text/x-python",
   "name": "python",
   "nbconvert_exporter": "python",
   "pygments_lexer": "ipython3",
   "version": "3.9.12"
  }
 },
 "nbformat": 4,
 "nbformat_minor": 5
}
