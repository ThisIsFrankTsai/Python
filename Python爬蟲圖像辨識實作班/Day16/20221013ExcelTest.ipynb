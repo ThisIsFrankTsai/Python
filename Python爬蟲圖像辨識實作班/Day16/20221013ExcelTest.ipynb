{
 "cells": [
  {
   "cell_type": "code",
   "execution_count": 1,
   "id": "a167a809",
   "metadata": {},
   "outputs": [
    {
     "name": "stdout",
     "output_type": "stream",
     "text": [
      "25250.0 30000.0\n"
     ]
    }
   ],
   "source": [
    "#e='月薪 2.8萬~3.5萬元'\n",
    "#e='月薪 3萬元以上'\n",
    "#e='面議（經常性薪資4萬/月含以上）'\n",
    "#e='月薪 36,050元'\n",
    "e='月薪 25,250~3萬元'\n",
    "#e='月薪 41,800~52,900元'\n",
    "#e='年薪 120萬~160萬元'\n",
    "\n",
    "\n",
    "f = e[:2]  #取前兩個字\n",
    "\n",
    "price = \"\"\n",
    "for word in e:\n",
    "    if word == \"0\" or word == \"1\" or word == \"2\" or word == \"3\" or word == \"4\" or word == \"5\" or word == \"6\" or word == \"7\" or word == \"8\" or word == \"9\" or word == \"萬\" or word == \"~\" or word == \".\":\n",
    "        price += word  #=>price= price +word\n",
    "        \n",
    "low_price = \"\"\n",
    "high_price = \"\"\n",
    "if \"~\" in price:\n",
    "    low_price = price[0:price.find(\"~\")]\n",
    "    high_price = price[price.find(\"~\")+1:len(price)]  #以上包含，以下不包含，不+1會包含\"~\"\n",
    "else:\n",
    "    low_price = price\n",
    "    high_price = price        \n",
    "        \n",
    "if \"萬\" in low_price:\n",
    "    low_price = float(low_price[:low_price.find(\"萬\")])*10000\n",
    "else:\n",
    "    low_price = float(low_price)\n",
    "if \"萬\" in high_price:\n",
    "    high_price = float(high_price[:high_price.find(\"萬\")])*10000\n",
    "else:\n",
    "    high_price = float(high_price)    \n",
    "\n",
    "print(low_price,high_price)\n"
   ]
  },
  {
   "cell_type": "code",
   "execution_count": null,
   "id": "d74db6aa",
   "metadata": {},
   "outputs": [],
   "source": []
  }
 ],
 "metadata": {
  "kernelspec": {
   "display_name": "Python 3 (ipykernel)",
   "language": "python",
   "name": "python3"
  },
  "language_info": {
   "codemirror_mode": {
    "name": "ipython",
    "version": 3
   },
   "file_extension": ".py",
   "mimetype": "text/x-python",
   "name": "python",
   "nbconvert_exporter": "python",
   "pygments_lexer": "ipython3",
   "version": "3.9.12"
  }
 },
 "nbformat": 4,
 "nbformat_minor": 5
}
