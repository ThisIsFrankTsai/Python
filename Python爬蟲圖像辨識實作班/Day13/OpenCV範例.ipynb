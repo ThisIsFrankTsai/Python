{
 "cells": [
  {
   "cell_type": "code",
   "execution_count": 11,
   "id": "643420c1",
   "metadata": {},
   "outputs": [
    {
     "data": {
      "text/plain": [
       "-1"
      ]
     },
     "execution_count": 11,
     "metadata": {},
     "output_type": "execute_result"
    }
   ],
   "source": [
    "#OpenCV範例\n",
    "import cv2\n",
    "\n",
    "img=cv2.imread('5566.jpg')\n",
    "gray=cv2.cvtColor(img,cv2.COLOR_BGR2GRAY)\n",
    "\n",
    "faceCascade=cv2.CascadeClassifier('haarcascade_frontalface_default.xml')\n",
    "\n",
    "faces=faceCascade.detectMultiScale(\n",
    "        gary,\n",
    "        scaleFactor=1.12,\n",
    "        minNeighbors=3,\n",
    "        minSize=(5,5)\n",
    ")\n",
    "#gray代表是灰階圖片\n",
    "# minNeighbors 辨識敏感度\n",
    "#是圖像的縮放比例\n",
    "#minSize檢測目標的最小尺寸\n",
    "\n",
    "#人臉偵測指令，畫方寬\n",
    "\n",
    "for (x,y,w,h) in faces:\n",
    "    cv2.rectangle(img,(x,y),(x+w,y+w),(0,255,0),2)  #辨識的圖片,左上角座標,右下角座標,線條顏色代碼,線條粗細\n",
    "\n",
    "#print(faces)\n",
    "cv2.imshow('5566',img)\n",
    "cv2.waitKey()\n"
   ]
  },
  {
   "cell_type": "code",
   "execution_count": null,
   "id": "94a6e465",
   "metadata": {},
   "outputs": [],
   "source": [
    "#人臉偵測指令，畫方寬\n",
    "\n",
    "for (x,y,w,h) in faces:\n",
    "    cv2.rectangle(img,(x,y),(x+w,y+w),(0,255,0),2)  #/辨識的圖片,左上角座標,右下角座標,線條顏色代碼,線條粗細"
   ]
  }
 ],
 "metadata": {
  "kernelspec": {
   "display_name": "Python 3 (ipykernel)",
   "language": "python",
   "name": "python3"
  },
  "language_info": {
   "codemirror_mode": {
    "name": "ipython",
    "version": 3
   },
   "file_extension": ".py",
   "mimetype": "text/x-python",
   "name": "python",
   "nbconvert_exporter": "python",
   "pygments_lexer": "ipython3",
   "version": "3.9.12"
  }
 },
 "nbformat": 4,
 "nbformat_minor": 5
}
