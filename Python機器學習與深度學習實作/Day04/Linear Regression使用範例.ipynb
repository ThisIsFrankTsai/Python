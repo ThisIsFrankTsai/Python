{
 "cells": [
  {
   "cell_type": "code",
   "execution_count": 1,
   "id": "48c3e070",
   "metadata": {},
   "outputs": [],
   "source": [
    "import numpy as np\n",
    "import matplotlib.pyplot as plt\n",
    "\n",
    "#產生資料點\n",
    "x = np.linspace(0, 5, 100)"
   ]
  },
  {
   "cell_type": "code",
   "execution_count": 5,
   "id": "4bcbd367",
   "metadata": {},
   "outputs": [],
   "source": [
    "y = 1.2*x + 0.8 + 0.4*np.random.randn(100) #預期 產生100筆資料"
   ]
  },
  {
   "cell_type": "code",
   "execution_count": 4,
   "id": "1f64ca99",
   "metadata": {},
   "outputs": [
    {
     "data": {
      "text/plain": [
       "<matplotlib.collections.PathCollection at 0x19865b28430>"
      ]
     },
     "execution_count": 4,
     "metadata": {},
     "output_type": "execute_result"
    },
    {
     "data": {
      "image/png": "[encoded data removed]",
      "text/plain": [
       "<Figure size 432x288 with 1 Axes>"
      ]
     },
     "metadata": {
      "needs_background": "light"
     },
     "output_type": "display_data"
    }
   ],
   "source": [
    "plt.scatter(x,y)"
   ]
  },
  {
   "cell_type": "code",
   "execution_count": 7,
   "id": "3fba1f7e",
   "metadata": {},
   "outputs": [
    {
     "data": {
      "text/plain": [
       "80"
      ]
     },
     "execution_count": 7,
     "metadata": {},
     "output_type": "execute_result"
    }
   ],
   "source": [
    "#將資料分成訓練集跟測試集\n",
    "from sklearn.model_selection import train_test_split\n",
    "\n",
    "x_train, x_test, y_train, y_test = train_test_split(x, y, test_size=0.2, random_state=9487)\n",
    "\n",
    "len(x_train)"
   ]
  },
  {
   "cell_type": "code",
   "execution_count": 8,
   "id": "f88c8b66",
   "metadata": {},
   "outputs": [
    {
     "data": {
      "text/plain": [
       "20"
      ]
     },
     "execution_count": 8,
     "metadata": {},
     "output_type": "execute_result"
    }
   ],
   "source": [
    "len(x_test)"
   ]
  },
  {
   "cell_type": "code",
   "execution_count": 9,
   "id": "14578792",
   "metadata": {},
   "outputs": [],
   "source": [
    "x_train = x_train.reshape(80,1)"
   ]
  },
  {
   "cell_type": "code",
   "execution_count": 17,
   "id": "20a84b4a",
   "metadata": {},
   "outputs": [
    {
     "data": {
      "text/plain": [
       "array([[4.64646465],\n",
       "       [0.50505051],\n",
       "       [2.42424242],\n",
       "       [4.39393939],\n",
       "       [0.15151515],\n",
       "       [4.44444444],\n",
       "       [0.90909091],\n",
       "       [3.58585859],\n",
       "       [4.5959596 ],\n",
       "       [1.26262626],\n",
       "       [3.98989899],\n",
       "       [3.08080808],\n",
       "       [0.        ],\n",
       "       [3.33333333],\n",
       "       [4.54545455],\n",
       "       [4.09090909],\n",
       "       [1.41414141],\n",
       "       [0.3030303 ],\n",
       "       [2.27272727],\n",
       "       [0.35353535],\n",
       "       [2.57575758],\n",
       "       [0.60606061],\n",
       "       [0.05050505],\n",
       "       [2.22222222],\n",
       "       [2.92929293],\n",
       "       [4.24242424],\n",
       "       [1.96969697],\n",
       "       [3.68686869],\n",
       "       [3.43434343],\n",
       "       [2.37373737],\n",
       "       [3.73737374],\n",
       "       [2.62626263],\n",
       "       [3.38383838],\n",
       "       [1.51515152],\n",
       "       [2.47474747],\n",
       "       [4.04040404],\n",
       "       [4.74747475],\n",
       "       [2.67676768],\n",
       "       [2.12121212],\n",
       "       [3.18181818],\n",
       "       [2.17171717],\n",
       "       [4.19191919],\n",
       "       [2.07070707],\n",
       "       [0.80808081],\n",
       "       [2.97979798],\n",
       "       [0.45454545],\n",
       "       [3.93939394],\n",
       "       [1.21212121],\n",
       "       [2.77777778],\n",
       "       [3.78787879],\n",
       "       [1.76767677],\n",
       "       [4.49494949],\n",
       "       [0.65656566],\n",
       "       [3.63636364],\n",
       "       [1.06060606],\n",
       "       [0.25252525],\n",
       "       [1.56565657],\n",
       "       [4.29292929],\n",
       "       [1.81818182],\n",
       "       [3.88888889],\n",
       "       [4.34343434],\n",
       "       [3.13131313],\n",
       "       [2.52525253],\n",
       "       [3.23232323],\n",
       "       [0.55555556],\n",
       "       [1.31313131],\n",
       "       [1.01010101],\n",
       "       [4.6969697 ],\n",
       "       [0.4040404 ],\n",
       "       [2.32323232],\n",
       "       [4.94949495],\n",
       "       [1.46464646],\n",
       "       [2.87878788],\n",
       "       [0.85858586],\n",
       "       [1.91919192],\n",
       "       [4.14141414],\n",
       "       [0.95959596],\n",
       "       [0.75757576],\n",
       "       [3.53535354],\n",
       "       [1.61616162]])"
      ]
     },
     "execution_count": 17,
     "metadata": {},
     "output_type": "execute_result"
    }
   ],
   "source": [
    "x_train"
   ]
  },
  {
   "cell_type": "code",
   "execution_count": 10,
   "id": "9bf7806b",
   "metadata": {},
   "outputs": [],
   "source": [
    "x_test = x_test.reshape(20,1)"
   ]
  },
  {
   "cell_type": "code",
   "execution_count": 16,
   "id": "78745cbd",
   "metadata": {},
   "outputs": [
    {
     "data": {
      "text/plain": [
       "array([[2.72727273],\n",
       "       [3.83838384],\n",
       "       [0.2020202 ],\n",
       "       [0.1010101 ],\n",
       "       [3.48484848],\n",
       "       [3.03030303],\n",
       "       [5.        ],\n",
       "       [1.71717172],\n",
       "       [1.16161616],\n",
       "       [2.82828283],\n",
       "       [1.86868687],\n",
       "       [1.66666667],\n",
       "       [4.7979798 ],\n",
       "       [1.11111111],\n",
       "       [4.8989899 ],\n",
       "       [0.70707071],\n",
       "       [2.02020202],\n",
       "       [1.36363636],\n",
       "       [3.28282828],\n",
       "       [4.84848485]])"
      ]
     },
     "execution_count": 16,
     "metadata": {},
     "output_type": "execute_result"
    }
   ],
   "source": [
    "x_test"
   ]
  },
  {
   "cell_type": "code",
   "execution_count": null,
   "id": "f917b93d",
   "metadata": {},
   "outputs": [],
   "source": []
  },
  {
   "cell_type": "code",
   "execution_count": 12,
   "id": "f3d25b77",
   "metadata": {},
   "outputs": [
    {
     "data": {
      "text/plain": [
       "array([2.44194017])"
      ]
     },
     "execution_count": 12,
     "metadata": {},
     "output_type": "execute_result"
    }
   ],
   "source": [
    "#使用 sklearn 裡面的Linear Regression\n",
    "#1. 載入模型\n",
    "from sklearn.linear_model import LinearRegression\n",
    "#2. 建立模型\n",
    "regr = LinearRegression()\n",
    "#3. 訓練模型\n",
    "regr.fit(x_train, y_train)\n",
    "#4. 使用模型來做預測\n",
    "regr.predict([[1.3]])\n"
   ]
  },
  {
   "cell_type": "code",
   "execution_count": 13,
   "id": "eb8154b5",
   "metadata": {},
   "outputs": [
    {
     "data": {
      "text/plain": [
       "array([4.05505979, 2.67238583])"
      ]
     },
     "execution_count": 13,
     "metadata": {},
     "output_type": "execute_result"
    }
   ],
   "source": [
    "regr.predict([[2.7],[1.5]])"
   ]
  },
  {
   "cell_type": "code",
   "execution_count": 14,
   "id": "4c135247",
   "metadata": {},
   "outputs": [],
   "source": [
    "Y = regr.predict(x_test)"
   ]
  },
  {
   "cell_type": "code",
   "execution_count": 15,
   "id": "99605f11",
   "metadata": {
    "scrolled": true
   },
   "outputs": [
    {
     "data": {
      "text/plain": [
       "[<matplotlib.lines.Line2D at 0x1986855f880>]"
      ]
     },
     "execution_count": 15,
     "metadata": {},
     "output_type": "execute_result"
    },
    {
     "data": {
      "image/png": "[encoded data removed]",
      "text/plain": [
       "<Figure size 432x288 with 1 Axes>"
      ]
     },
     "metadata": {
      "needs_background": "light"
     },
     "output_type": "display_data"
    }
   ],
   "source": [
    "plt.scatter(x_test,y_test)\n",
    "plt.plot(x_test, Y, 'r')"
   ]
  },
  {
   "cell_type": "code",
   "execution_count": null,
   "id": "2f40f2c9",
   "metadata": {},
   "outputs": [],
   "source": []
  }
 ],
 "metadata": {
  "kernelspec": {
   "display_name": "Python 3 (ipykernel)",
   "language": "python",
   "name": "python3"
  },
  "language_info": {
   "codemirror_mode": {
    "name": "ipython",
    "version": 3
   },
   "file_extension": ".py",
   "mimetype": "text/x-python",
   "name": "python",
   "nbconvert_exporter": "python",
   "pygments_lexer": "ipython3",
   "version": "3.9.12"
  }
 },
 "nbformat": 4,
 "nbformat_minor": 5
}
