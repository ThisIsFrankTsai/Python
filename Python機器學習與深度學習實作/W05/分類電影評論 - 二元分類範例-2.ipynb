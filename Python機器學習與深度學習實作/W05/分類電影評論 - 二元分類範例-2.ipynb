{
 "cells": [
  {
   "cell_type": "code",
   "execution_count": 1,
   "id": "63df0b32",
   "metadata": {},
   "outputs": [],
   "source": [
    "#載入 IMDB 資料集\n",
    "from tensorflow.keras.datasets import imdb  #從 keras.datasets 套件中匯入 imdb 資料\n",
    "\n",
    "(train_data, train_labels),(test_data, test_labels)= imdb.load_data(\n",
    "    num_words=10000)  #從 imdb 中讀取, 只有在訓練集當中最常用的前 10,000 個單字才會被載入, 分別存入 (訓練資料, 訓練標籤) 和 (測試資料, 測試標籤)"
   ]
  },
  {
   "cell_type": "code",
   "execution_count": 2,
   "id": "cba6c77b",
   "metadata": {},
   "outputs": [
    {
     "data": {
      "text/plain": [
       "[1,\n",
       " 14,\n",
       " 22,\n",
       " 16,\n",
       " 43,\n",
       " 530,\n",
       " 973,\n",
       " 1622,\n",
       " 1385,\n",
       " 65,\n",
       " 458,\n",
       " 4468,\n",
       " 66,\n",
       " 3941,\n",
       " 4,\n",
       " 173,\n",
       " 36,\n",
       " 256,\n",
       " 5,\n",
       " 25,\n",
       " 100,\n",
       " 43,\n",
       " 838,\n",
       " 112,\n",
       " 50,\n",
       " 670,\n",
       " 2,\n",
       " 9,\n",
       " 35,\n",
       " 480,\n",
       " 284,\n",
       " 5,\n",
       " 150,\n",
       " 4,\n",
       " 172,\n",
       " 112,\n",
       " 167,\n",
       " 2,\n",
       " 336,\n",
       " 385,\n",
       " 39,\n",
       " 4,\n",
       " 172,\n",
       " 4536,\n",
       " 1111,\n",
       " 17,\n",
       " 546,\n",
       " 38,\n",
       " 13,\n",
       " 447,\n",
       " 4,\n",
       " 192,\n",
       " 50,\n",
       " 16,\n",
       " 6,\n",
       " 147,\n",
       " 2025,\n",
       " 19,\n",
       " 14,\n",
       " 22,\n",
       " 4,\n",
       " 1920,\n",
       " 4613,\n",
       " 469,\n",
       " 4,\n",
       " 22,\n",
       " 71,\n",
       " 87,\n",
       " 12,\n",
       " 16,\n",
       " 43,\n",
       " 530,\n",
       " 38,\n",
       " 76,\n",
       " 15,\n",
       " 13,\n",
       " 1247,\n",
       " 4,\n",
       " 22,\n",
       " 17,\n",
       " 515,\n",
       " 17,\n",
       " 12,\n",
       " 16,\n",
       " 626,\n",
       " 18,\n",
       " 2,\n",
       " 5,\n",
       " 62,\n",
       " 386,\n",
       " 12,\n",
       " 8,\n",
       " 316,\n",
       " 8,\n",
       " 106,\n",
       " 5,\n",
       " 4,\n",
       " 2223,\n",
       " 5244,\n",
       " 16,\n",
       " 480,\n",
       " 66,\n",
       " 3785,\n",
       " 33,\n",
       " 4,\n",
       " 130,\n",
       " 12,\n",
       " 16,\n",
       " 38,\n",
       " 619,\n",
       " 5,\n",
       " 25,\n",
       " 124,\n",
       " 51,\n",
       " 36,\n",
       " 135,\n",
       " 48,\n",
       " 25,\n",
       " 1415,\n",
       " 33,\n",
       " 6,\n",
       " 22,\n",
       " 12,\n",
       " 215,\n",
       " 28,\n",
       " 77,\n",
       " 52,\n",
       " 5,\n",
       " 14,\n",
       " 407,\n",
       " 16,\n",
       " 82,\n",
       " 2,\n",
       " 8,\n",
       " 4,\n",
       " 107,\n",
       " 117,\n",
       " 5952,\n",
       " 15,\n",
       " 256,\n",
       " 4,\n",
       " 2,\n",
       " 7,\n",
       " 3766,\n",
       " 5,\n",
       " 723,\n",
       " 36,\n",
       " 71,\n",
       " 43,\n",
       " 530,\n",
       " 476,\n",
       " 26,\n",
       " 400,\n",
       " 317,\n",
       " 46,\n",
       " 7,\n",
       " 4,\n",
       " 2,\n",
       " 1029,\n",
       " 13,\n",
       " 104,\n",
       " 88,\n",
       " 4,\n",
       " 381,\n",
       " 15,\n",
       " 297,\n",
       " 98,\n",
       " 32,\n",
       " 2071,\n",
       " 56,\n",
       " 26,\n",
       " 141,\n",
       " 6,\n",
       " 194,\n",
       " 7486,\n",
       " 18,\n",
       " 4,\n",
       " 226,\n",
       " 22,\n",
       " 21,\n",
       " 134,\n",
       " 476,\n",
       " 26,\n",
       " 480,\n",
       " 5,\n",
       " 144,\n",
       " 30,\n",
       " 5535,\n",
       " 18,\n",
       " 51,\n",
       " 36,\n",
       " 28,\n",
       " 224,\n",
       " 92,\n",
       " 25,\n",
       " 104,\n",
       " 4,\n",
       " 226,\n",
       " 65,\n",
       " 16,\n",
       " 38,\n",
       " 1334,\n",
       " 88,\n",
       " 12,\n",
       " 16,\n",
       " 283,\n",
       " 5,\n",
       " 16,\n",
       " 4472,\n",
       " 113,\n",
       " 103,\n",
       " 32,\n",
       " 15,\n",
       " 16,\n",
       " 5345,\n",
       " 19,\n",
       " 178,\n",
       " 32]"
      ]
     },
     "execution_count": 2,
     "metadata": {},
     "output_type": "execute_result"
    }
   ],
   "source": [
    "train_data[0]  #取第 0 篇評論"
   ]
  },
  {
   "cell_type": "code",
   "execution_count": 3,
   "id": "3021035f",
   "metadata": {},
   "outputs": [
    {
     "data": {
      "text/plain": [
       "1"
      ]
     },
     "execution_count": 3,
     "metadata": {},
     "output_type": "execute_result"
    }
   ],
   "source": [
    "train_labels[0]  #第 0 篇評論的評價 : 1=正評；0=負評"
   ]
  },
  {
   "cell_type": "code",
   "execution_count": 4,
   "id": "e5605254",
   "metadata": {},
   "outputs": [
    {
     "name": "stdout",
     "output_type": "stream",
     "text": [
      "25000 [1 0 0 ... 0 1 0]\n"
     ]
    }
   ],
   "source": [
    "print(len(train_labels), train_labels)"
   ]
  },
  {
   "cell_type": "code",
   "execution_count": 5,
   "id": "2429a9a0",
   "metadata": {},
   "outputs": [
    {
     "ename": "MemoryError",
     "evalue": "Unable to allocate 1.86 GiB for an array with shape (25000, 10000) and data type float64",
     "output_type": "error",
     "traceback": [
      "\u001b[1;31m---------------------------------------------------------------------------\u001b[0m",
      "\u001b[1;31mMemoryError\u001b[0m                               Traceback (most recent call last)",
      "Input \u001b[1;32mIn [5]\u001b[0m, in \u001b[0;36m<cell line: 11>\u001b[1;34m()\u001b[0m\n\u001b[0;32m      8\u001b[0m     \u001b[38;5;28;01mreturn\u001b[39;00m results\n\u001b[0;32m     10\u001b[0m x_train \u001b[38;5;241m=\u001b[39m vectorize_sequences(train_data)  \u001b[38;5;66;03m#向量化訓練資料\u001b[39;00m\n\u001b[1;32m---> 11\u001b[0m x_test \u001b[38;5;241m=\u001b[39m \u001b[43mvectorize_sequences\u001b[49m\u001b[43m(\u001b[49m\u001b[43mtest_data\u001b[49m\u001b[43m)\u001b[49m\n",
      "Input \u001b[1;32mIn [5]\u001b[0m, in \u001b[0;36mvectorize_sequences\u001b[1;34m(sequences, dimension)\u001b[0m\n\u001b[0;32m      4\u001b[0m \u001b[38;5;28;01mdef\u001b[39;00m \u001b[38;5;21mvectorize_sequences\u001b[39m(sequences, dimension\u001b[38;5;241m=\u001b[39m\u001b[38;5;241m10000\u001b[39m):  \u001b[38;5;66;03m#sequences 將傳入 train_data\u001b[39;00m\n\u001b[1;32m----> 5\u001b[0m     results \u001b[38;5;241m=\u001b[39m \u001b[43mnp\u001b[49m\u001b[38;5;241;43m.\u001b[39;49m\u001b[43mzeros\u001b[49m\u001b[43m(\u001b[49m\u001b[43m(\u001b[49m\u001b[38;5;28;43mlen\u001b[39;49m\u001b[43m(\u001b[49m\u001b[43msequences\u001b[49m\u001b[43m)\u001b[49m\u001b[43m,\u001b[49m\u001b[43m \u001b[49m\u001b[43mdimension\u001b[49m\u001b[43m)\u001b[49m\u001b[43m)\u001b[49m\n\u001b[0;32m      6\u001b[0m     \u001b[38;5;28;01mfor\u001b[39;00m i, sequence \u001b[38;5;129;01min\u001b[39;00m \u001b[38;5;28menumerate\u001b[39m(sequences):  \u001b[38;5;66;03m#用 enumerate 取元素值\u001b[39;00m\n\u001b[0;32m      7\u001b[0m         results[i, sequence] \u001b[38;5;241m=\u001b[39m \u001b[38;5;241m1.\u001b[39m   \u001b[38;5;66;03m#將 result[i] 特定索引值的數值設定為 1\u001b[39;00m\n",
      "\u001b[1;31mMemoryError\u001b[0m: Unable to allocate 1.86 GiB for an array with shape (25000, 10000) and data type float64"
     ]
    }
   ],
   "source": [
    "#將整數 list 編碼成二元矩陣\n",
    "import numpy as np  #匯入 numpy 模組, 後續程式以 np 使用\n",
    "\n",
    "def vectorize_sequences(sequences, dimension=10000):  #sequences 將傳入 train_data\n",
    "    results = np.zeros((len(sequences), dimension))\n",
    "    for i, sequence in enumerate(sequences):  #用 enumerate 取元素值\n",
    "        results[i, sequence] = 1.   #將 result[i] 特定索引值的數值設定為 1\n",
    "    return results\n",
    "    \n",
    "x_train = vectorize_sequences(train_data)  #向量化訓練資料\n",
    "x_test = vectorize_sequences(test_data)  #向量化測試資料"
   ]
  },
  {
   "cell_type": "code",
   "execution_count": 6,
   "id": "7e98fd29",
   "metadata": {},
   "outputs": [
    {
     "data": {
      "text/plain": [
       "(10000, array([0., 1., 1., ..., 0., 0., 0.]))"
      ]
     },
     "execution_count": 6,
     "metadata": {},
     "output_type": "execute_result"
    }
   ],
   "source": [
    "len(x_train[0]), x_train[0]"
   ]
  },
  {
   "cell_type": "code",
   "execution_count": 8,
   "id": "d99c3493",
   "metadata": {},
   "outputs": [],
   "source": [
    "y_train = np.asarray(train_labels).astype('float32')  #向量化訓練標籤\n",
    "y_test = np.asarray(test_labels).astype('float32')  #向量化測試標籤"
   ]
  },
  {
   "cell_type": "code",
   "execution_count": 9,
   "id": "80e86213",
   "metadata": {},
   "outputs": [],
   "source": [
    "#建立模型\n",
    "from tensorflow.keras import models\n",
    "from tensorflow.keras import layers\n",
    "\n",
    "model = models.Sequential()  #使用 models 模組的 Sequential 類別, 建立一個物件讓新增的神經網路層可以進行堆疊\n",
    "model.add(layers.Dense(16, activation='relu', input_shape=(10000, )))  #輸入層\n",
    "model.add(layers.Dense(16, activation='relu'))  #隱藏層\n",
    "model.add(layers.Dense(1, activation='sigmoid'))  #輸出層"
   ]
  },
  {
   "cell_type": "code",
   "execution_count": 10,
   "id": "f32fb6e0",
   "metadata": {},
   "outputs": [],
   "source": [
    "#編譯模型\n",
    "from tensorflow.keras import optimizers\n",
    "\n",
    "model.compile(optimizer='rmsprop',\n",
    "              loss='binary_crossentropy',\n",
    "              metrics=['acc'])  #建立訓練模型"
   ]
  },
  {
   "cell_type": "code",
   "execution_count": 11,
   "id": "c8e0053d",
   "metadata": {},
   "outputs": [],
   "source": [
    "#設定驗證資料集\n",
    "x_val = x_train[:10000]  #取輸入資料的前 10000 個做驗證 (val)\n",
    "partial_x_train = x_train[10000:]  #輸入資料的第 10000 個開始才是訓練資料\n",
    "y_val = y_train[:10000]  #對應的, 要取標籤的前 10000 個做為驗證標籤\n",
    "partial_y_train = y_train[10000:]  #從標籤的第 10000 個開始才是訓練資料的標籤"
   ]
  },
  {
   "cell_type": "code",
   "execution_count": 12,
   "id": "4adb17ab",
   "metadata": {},
   "outputs": [
    {
     "name": "stdout",
     "output_type": "stream",
     "text": [
      "Epoch 1/20\n",
      "30/30 [==============================] - 3s 57ms/step - loss: 0.5127 - acc: 0.7873 - val_loss: 0.3798 - val_acc: 0.8732\n",
      "Epoch 2/20\n",
      "30/30 [==============================] - 1s 31ms/step - loss: 0.3014 - acc: 0.9046 - val_loss: 0.3152 - val_acc: 0.8788\n",
      "Epoch 3/20\n",
      "30/30 [==============================] - 1s 23ms/step - loss: 0.2216 - acc: 0.9295 - val_loss: 0.2799 - val_acc: 0.8872\n",
      "Epoch 4/20\n",
      "30/30 [==============================] - 1s 25ms/step - loss: 0.1747 - acc: 0.9435 - val_loss: 0.2756 - val_acc: 0.8877\n",
      "Epoch 5/20\n",
      "30/30 [==============================] - 1s 33ms/step - loss: 0.1421 - acc: 0.9544 - val_loss: 0.3039 - val_acc: 0.8800\n",
      "Epoch 6/20\n",
      "30/30 [==============================] - 1s 27ms/step - loss: 0.1180 - acc: 0.9623 - val_loss: 0.2926 - val_acc: 0.8849\n",
      "Epoch 7/20\n",
      "30/30 [==============================] - 1s 26ms/step - loss: 0.0933 - acc: 0.9746 - val_loss: 0.3322 - val_acc: 0.8779\n",
      "Epoch 8/20\n",
      "30/30 [==============================] - 1s 28ms/step - loss: 0.0805 - acc: 0.9777 - val_loss: 0.3289 - val_acc: 0.8794\n",
      "Epoch 9/20\n",
      "30/30 [==============================] - 1s 30ms/step - loss: 0.0654 - acc: 0.9819 - val_loss: 0.3704 - val_acc: 0.8761\n",
      "Epoch 10/20\n",
      "30/30 [==============================] - 1s 23ms/step - loss: 0.0524 - acc: 0.9875 - val_loss: 0.3742 - val_acc: 0.8775\n",
      "Epoch 11/20\n",
      "30/30 [==============================] - 1s 24ms/step - loss: 0.0433 - acc: 0.9907 - val_loss: 0.4013 - val_acc: 0.8750\n",
      "Epoch 12/20\n",
      "30/30 [==============================] - 1s 28ms/step - loss: 0.0327 - acc: 0.9939 - val_loss: 0.4324 - val_acc: 0.8762\n",
      "Epoch 13/20\n",
      "30/30 [==============================] - 1s 25ms/step - loss: 0.0283 - acc: 0.9945 - val_loss: 0.4626 - val_acc: 0.8719\n",
      "Epoch 14/20\n",
      "30/30 [==============================] - 1s 22ms/step - loss: 0.0219 - acc: 0.9968 - val_loss: 0.4933 - val_acc: 0.8728\n",
      "Epoch 15/20\n",
      "30/30 [==============================] - 1s 25ms/step - loss: 0.0160 - acc: 0.9981 - val_loss: 0.5953 - val_acc: 0.8555\n",
      "Epoch 16/20\n",
      "30/30 [==============================] - 1s 24ms/step - loss: 0.0108 - acc: 0.9995 - val_loss: 0.5827 - val_acc: 0.8674\n",
      "Epoch 17/20\n",
      "30/30 [==============================] - 1s 24ms/step - loss: 0.0115 - acc: 0.9981 - val_loss: 0.5999 - val_acc: 0.8696\n",
      "Epoch 18/20\n",
      "30/30 [==============================] - 1s 24ms/step - loss: 0.0065 - acc: 0.9996 - val_loss: 0.6677 - val_acc: 0.8659\n",
      "Epoch 19/20\n",
      "30/30 [==============================] - 1s 27ms/step - loss: 0.0082 - acc: 0.9983 - val_loss: 0.6659 - val_acc: 0.8675\n",
      "Epoch 20/20\n",
      "30/30 [==============================] - 1s 24ms/step - loss: 0.0031 - acc: 0.9999 - val_loss: 0.6897 - val_acc: 0.8668\n"
     ]
    }
   ],
   "source": [
    "#訓練模型\n",
    "#呼叫 fit() 開始訓練 (使用 partial_x_train 輸入資料、 partial_y_train 標籤、20 個訓練週期、一次訓練週期使用 512 筆資料\n",
    "history = model.fit(partial_x_train,\n",
    "                    partial_y_train,\n",
    "                    epochs=20,\n",
    "                    batch_size=512,\n",
    "                    validation_data=(x_val, y_val))  #同時傳入驗證集的資料與標籤"
   ]
  },
  {
   "cell_type": "code",
   "execution_count": 13,
   "id": "47ffe642",
   "metadata": {},
   "outputs": [
    {
     "data": {
      "text/plain": [
       "dict_keys(['loss', 'acc', 'val_loss', 'val_acc'])"
      ]
     },
     "execution_count": 13,
     "metadata": {},
     "output_type": "execute_result"
    }
   ],
   "source": [
    "history_dict = history.history\n",
    "history_dict.keys()"
   ]
  },
  {
   "cell_type": "code",
   "execution_count": 14,
   "id": "c15538dc",
   "metadata": {},
   "outputs": [
    {
     "data": {
      "image/png": "[encoded data removed]",
      "text/plain": [
       "<Figure size 432x288 with 1 Axes>"
      ]
     },
     "metadata": {
      "needs_background": "light"
     },
     "output_type": "display_data"
    }
   ],
   "source": [
    "#程式 3.9 繪製訓練與驗證的損失分數\n",
    "import matplotlib.pyplot as plt  #匯入 matplotlib.pyplot 模組, 後續程式用 plt 使用\n",
    "\n",
    "history_dict = history.history\n",
    "loss_values = history_dict['loss']  #取得每次訓練的 loss 訓練損失分數並存成 loss_values 變數\n",
    "val_loss_values = history_dict['val_loss']  #取得每次驗證的 val_loss 驗證損失分數並指定給 val_loss_values 變數\n",
    "\n",
    "\n",
    "epochs = range(1, len(loss_values)+ 1)  #len(loss_values) 項目個數為 20,範圍從 1 到 21 (不含 21) 的期間\n",
    "\n",
    "plt.plot(epochs, loss_values, 'go', label='Training loss')  #以 'b' 指定用藍色線條畫出 x 軸為訓練週期、y 軸為驗證損失分數的圖表, 標籤設為驗證損失分數\n",
    "plt.plot(epochs, val_loss_values, 'b--.', label='Validation loss')  #以 'bo' 指定用藍色點點畫出 x 軸為訓練週期、y 軸為訓練損失分數的圖表, 標籤設為訓練損失分數\n",
    "plt.title('Training and validation loss')\n",
    "plt.xlabel('Epochs')  #將此圖表標題的 x 軸設為訓練週期分數\n",
    "plt.ylabel('Loss')  #將此圖表標題的 y 軸設為損失\n",
    "plt.legend()  #可以追加每個輸出圖表的圖像名稱\n",
    "\n",
    "plt.show()  #顯示圖表"
   ]
  },
  {
   "cell_type": "code",
   "execution_count": 15,
   "id": "e146f876",
   "metadata": {},
   "outputs": [
    {
     "data": {
      "image/png": "[encoded data removed]",
      "text/plain": [
       "<Figure size 432x288 with 1 Axes>"
      ]
     },
     "metadata": {
      "needs_background": "light"
     },
     "output_type": "display_data"
    }
   ],
   "source": [
    "#程式 3.10 繪製訓練和驗證的準確度\n",
    "plt.clf()  #清除圖表\n",
    "acc = history_dict['acc']\n",
    "val_acc = history_dict['val_acc']\n",
    "\n",
    "plt.plot(epochs, acc, 'go', label='Training acc')\n",
    "plt.plot(epochs, val_acc, 'b--.', label='Validation acc')\n",
    "plt.title('Training and validation accuracy')\n",
    "plt.xlabel('Epochs')\n",
    "plt.ylabel('Accuracy')\n",
    "plt.legend()\n",
    "\n",
    "plt.show()"
   ]
  },
  {
   "cell_type": "code",
   "execution_count": null,
   "id": "efe2ca8d",
   "metadata": {},
   "outputs": [],
   "source": []
  }
 ],
 "metadata": {
  "kernelspec": {
   "display_name": "Python 3 (ipykernel)",
   "language": "python",
   "name": "python3"
  },
  "language_info": {
   "codemirror_mode": {
    "name": "ipython",
    "version": 3
   },
   "file_extension": ".py",
   "mimetype": "text/x-python",
   "name": "python",
   "nbconvert_exporter": "python",
   "pygments_lexer": "ipython3",
   "version": "3.9.12"
  }
 },
 "nbformat": 4,
 "nbformat_minor": 5
}
