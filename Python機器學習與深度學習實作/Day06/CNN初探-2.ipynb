{
 "cells": [
  {
   "cell_type": "code",
   "execution_count": 1,
   "id": "92a496dc",
   "metadata": {},
   "outputs": [],
   "source": [
    "import tensorflow\n",
    "import tensorflow.keras as ks\n",
    "#載入資料、準備資料\n",
    "from keras.datasets import mnist\n",
    "\n",
    "(train_images, train_labels), (test_images, test_labels) = mnist.load_data()\n",
    "\n"
   ]
  },
  {
   "cell_type": "code",
   "execution_count": 2,
   "id": "ffaea651",
   "metadata": {},
   "outputs": [
    {
     "data": {
      "image/png": "[encoded data removed]",
      "text/plain": [
       "<Figure size 432x288 with 1 Axes>"
      ]
     },
     "metadata": {
      "needs_background": "light"
     },
     "output_type": "display_data"
    }
   ],
   "source": [
    "#顯示第 4 個數字的圖像\n",
    "digit = train_images[4]\n",
    "\n",
    "import matplotlib.pyplot as plt\n",
    "plt.imshow(digit, cmap=plt.cm.binary)\n",
    "plt.show()"
   ]
  },
  {
   "cell_type": "code",
   "execution_count": 3,
   "id": "f03a286b",
   "metadata": {},
   "outputs": [],
   "source": [
    "#試試看基本的類神經網路\n",
    "\n",
    "# 舊版是這樣\n",
    "#from keras import models\n",
    "#from keras import layers\n",
    "#from keras.datasets import mnist\n",
    "#from keras.utils import to_categorical\n",
    "\n",
    "from tensorflow.keras import models\n",
    "from tensorflow.keras import layers\n",
    "from tensorflow.keras.datasets import mnist\n",
    "from tensorflow.keras.utils import to_categorical\n",
    "\n",
    "#- 加入padding參數，這個就是我們之前說的，四周圍沒有值的部份(超出的範圍)要怎麼處理"
   ]
  },
  {
   "cell_type": "code",
   "execution_count": 5,
   "id": "326b98c7",
   "metadata": {},
   "outputs": [
    {
     "name": "stdout",
     "output_type": "stream",
     "text": [
      "Model: \"sequential_1\"\n",
      "_________________________________________________________________\n",
      " Layer (type)                Output Shape              Param #   \n",
      "=================================================================\n",
      " conv2d_3 (Conv2D)           (None, 28, 28, 32)        320       \n",
      "                                                                 \n",
      " max_pooling2d_2 (MaxPooling  (None, 14, 14, 32)       0         \n",
      " 2D)                                                             \n",
      "                                                                 \n",
      " conv2d_4 (Conv2D)           (None, 14, 14, 64)        18496     \n",
      "                                                                 \n",
      " max_pooling2d_3 (MaxPooling  (None, 7, 7, 64)         0         \n",
      " 2D)                                                             \n",
      "                                                                 \n",
      " conv2d_5 (Conv2D)           (None, 7, 7, 64)          36928     \n",
      "                                                                 \n",
      "=================================================================\n",
      "Total params: 55,744\n",
      "Trainable params: 55,744\n",
      "Non-trainable params: 0\n",
      "_________________________________________________________________\n"
     ]
    }
   ],
   "source": [
    "\n",
    "# 建立一個小型的cnn\n",
    "from tensorflow.keras import layers\n",
    "from tensorflow.keras import models\n",
    "\n",
    "model = models.Sequential()\n",
    "\n",
    "model.add( layers.Conv2D(32, (3, 3), activation='relu', padding='same', input_shape=(28, 28, 1)) )\n",
    "model.add( layers.MaxPooling2D((2, 2)) )\n",
    "\n",
    "model.add( layers.Conv2D(64, (3, 3), activation='relu', padding='same') )\n",
    "model.add( layers.MaxPooling2D((2, 2)) )\n",
    "\n",
    "model.add( layers.Conv2D(64, (3, 3), activation='relu', padding='same') )\n",
    "\n",
    "model.summary()"
   ]
  },
  {
   "cell_type": "code",
   "execution_count": 7,
   "id": "be39467d",
   "metadata": {},
   "outputs": [
    {
     "name": "stdout",
     "output_type": "stream",
     "text": [
      "Model: \"sequential_1\"\n",
      "_________________________________________________________________\n",
      " Layer (type)                Output Shape              Param #   \n",
      "=================================================================\n",
      " conv2d_3 (Conv2D)           (None, 28, 28, 32)        320       \n",
      "                                                                 \n",
      " max_pooling2d_2 (MaxPooling  (None, 14, 14, 32)       0         \n",
      " 2D)                                                             \n",
      "                                                                 \n",
      " conv2d_4 (Conv2D)           (None, 14, 14, 64)        18496     \n",
      "                                                                 \n",
      " max_pooling2d_3 (MaxPooling  (None, 7, 7, 64)         0         \n",
      " 2D)                                                             \n",
      "                                                                 \n",
      " conv2d_5 (Conv2D)           (None, 7, 7, 64)          36928     \n",
      "                                                                 \n",
      " flatten (Flatten)           (None, 3136)              0         \n",
      "                                                                 \n",
      " dense (Dense)               (None, 64)                200768    \n",
      "                                                                 \n",
      " dense_1 (Dense)             (None, 10)                650       \n",
      "                                                                 \n",
      " flatten_1 (Flatten)         (None, 10)                0         \n",
      "                                                                 \n",
      " dense_2 (Dense)             (None, 64)                704       \n",
      "                                                                 \n",
      " dense_3 (Dense)             (None, 10)                650       \n",
      "                                                                 \n",
      "=================================================================\n",
      "Total params: 258,516\n",
      "Trainable params: 258,516\n",
      "Non-trainable params: 0\n",
      "_________________________________________________________________\n"
     ]
    }
   ],
   "source": [
    "# 再加入Dense密集層，這邊需要先展平\n",
    "\n",
    "model.add( layers.Flatten() )\n",
    "model.add( layers.Dense(64, activation='relu') )\n",
    "model.add( layers.Dense(10, activation='softmax') )\n",
    "\n",
    "\n",
    "model.summary()"
   ]
  },
  {
   "cell_type": "code",
   "execution_count": 9,
   "id": "fb139b91",
   "metadata": {},
   "outputs": [],
   "source": [
    "#- 備資料\n",
    "(train_images, train_labels), (test_images, test_labels) = mnist.load_data()\n",
    "\n",
    "#- 整理資料\n",
    "train_images = train_images.reshape((60000, 28, 28, 1))  #reshape 是 NumPy 陣列的 method\n",
    "train_images = train_images.astype('float32') / 255\n",
    "\n",
    "test_images = test_images.reshape((10000, 28, 28, 1))\n",
    "test_images = test_images.astype('float32') / 255\n",
    "\n",
    "#- 準備標籤\n",
    "train_labels = to_categorical(train_labels)\n",
    "test_labels = to_categorical(test_labels)"
   ]
  },
  {
   "cell_type": "code",
   "execution_count": 10,
   "id": "fb202523",
   "metadata": {},
   "outputs": [
    {
     "name": "stdout",
     "output_type": "stream",
     "text": [
      "Epoch 1/5\n",
      "938/938 [==============================] - 59s 61ms/step - loss: 0.8389 - accuracy: 0.6636\n",
      "Epoch 2/5\n",
      "938/938 [==============================] - 55s 58ms/step - loss: 0.1242 - accuracy: 0.9789\n",
      "Epoch 3/5\n",
      "938/938 [==============================] - 55s 59ms/step - loss: 0.0625 - accuracy: 0.9865\n",
      "Epoch 4/5\n",
      "938/938 [==============================] - 54s 58ms/step - loss: 0.0442 - accuracy: 0.9903\n",
      "Epoch 5/5\n",
      "938/938 [==============================] - 54s 58ms/step - loss: 0.0360 - accuracy: 0.9914\n"
     ]
    },
    {
     "data": {
      "text/plain": [
       "<keras.callbacks.History at 0x21504661460>"
      ]
     },
     "execution_count": 10,
     "metadata": {},
     "output_type": "execute_result"
    }
   ],
   "source": [
    "# compile 並訓練\n",
    "\n",
    "model.compile(optimizer='rmsprop',\n",
    "             loss='categorical_crossentropy',\n",
    "             metrics=['accuracy'])\n",
    "model.fit(train_images, train_labels, epochs=5, batch_size=64)"
   ]
  },
  {
   "cell_type": "code",
   "execution_count": 11,
   "id": "de01191d",
   "metadata": {},
   "outputs": [
    {
     "name": "stdout",
     "output_type": "stream",
     "text": [
      "313/313 [==============================] - 2s 7ms/step - loss: 0.0406 - accuracy: 0.9903\n"
     ]
    }
   ],
   "source": [
    "# 再使用測試資料進行評估\n",
    "test_loss, test_acc = model.evaluate(test_images, test_labels)"
   ]
  },
  {
   "cell_type": "code",
   "execution_count": 14,
   "id": "60159ed8",
   "metadata": {},
   "outputs": [],
   "source": [
    "#加入Dropout\n",
    "#- 備資料\n",
    "(train_images, train_labels), (test_images, test_labels) = mnist.load_data()\n",
    "\n",
    "#- 整理資料\n",
    "train_images = train_images.reshape((60000, 28, 28, 1))  #reshape 是 NumPy 陣列的 method\n",
    "train_images = train_images.astype('float32') / 255\n",
    "\n",
    "test_images = test_images.reshape((10000, 28, 28, 1))\n",
    "test_images = test_images.astype('float32') / 255\n",
    "\n",
    "#- 準備標籤\n",
    "train_labels = to_categorical(train_labels)\n",
    "test_labels = to_categorical(test_labels)"
   ]
  },
  {
   "cell_type": "code",
   "execution_count": 15,
   "id": "079b2a0e",
   "metadata": {},
   "outputs": [],
   "source": [
    "# 建立一個小型的cnn\n",
    "from tensorflow.keras import layers\n",
    "from tensorflow.keras import models\n",
    "\n",
    "model = models.Sequential()\n",
    "\n",
    "model.add( layers.Conv2D(32, (3, 3), activation='relu', padding='same', input_shape=(28, 28, 1)) )\n",
    "model.add( layers.MaxPooling2D((2, 2)) )\n",
    "\n",
    "model.add( layers.Conv2D(64, (3, 3), activation='relu', padding='same') )\n",
    "model.add( layers.MaxPooling2D((2, 2)) )\n",
    "\n",
    "model.add( layers.Conv2D(64, (3, 3), activation='relu', padding='same') )"
   ]
  },
  {
   "cell_type": "code",
   "execution_count": 17,
   "id": "cbce9f1d",
   "metadata": {},
   "outputs": [
    {
     "name": "stdout",
     "output_type": "stream",
     "text": [
      "Model: \"sequential_3\"\n",
      "_________________________________________________________________\n",
      " Layer (type)                Output Shape              Param #   \n",
      "=================================================================\n",
      " conv2d_9 (Conv2D)           (None, 28, 28, 32)        320       \n",
      "                                                                 \n",
      " max_pooling2d_6 (MaxPooling  (None, 14, 14, 32)       0         \n",
      " 2D)                                                             \n",
      "                                                                 \n",
      " conv2d_10 (Conv2D)          (None, 14, 14, 64)        18496     \n",
      "                                                                 \n",
      " max_pooling2d_7 (MaxPooling  (None, 7, 7, 64)         0         \n",
      " 2D)                                                             \n",
      "                                                                 \n",
      " conv2d_11 (Conv2D)          (None, 7, 7, 64)          36928     \n",
      "                                                                 \n",
      " flatten_2 (Flatten)         (None, 3136)              0         \n",
      "                                                                 \n",
      " dense_4 (Dense)             (None, 64)                200768    \n",
      "                                                                 \n",
      " dropout (Dropout)           (None, 64)                0         \n",
      "                                                                 \n",
      " dense_5 (Dense)             (None, 10)                650       \n",
      "                                                                 \n",
      " flatten_3 (Flatten)         (None, 10)                0         \n",
      "                                                                 \n",
      " dense_6 (Dense)             (None, 64)                704       \n",
      "                                                                 \n",
      " dropout_1 (Dropout)         (None, 64)                0         \n",
      "                                                                 \n",
      " dense_7 (Dense)             (None, 10)                650       \n",
      "                                                                 \n",
      "=================================================================\n",
      "Total params: 258,516\n",
      "Trainable params: 258,516\n",
      "Non-trainable params: 0\n",
      "_________________________________________________________________\n"
     ]
    }
   ],
   "source": [
    "# 再加入Dense密集層，這邊需要先展平\n",
    "\n",
    "model.add( layers.Flatten() )\n",
    "model.add( layers.Dense(64, activation='relu') )\n",
    "model.add( layers.Dropout(0.5) )\n",
    "model.add( layers.Dense(10, activation='softmax') )\n",
    "\n",
    "\n",
    "model.summary()"
   ]
  },
  {
   "cell_type": "code",
   "execution_count": 18,
   "id": "3f87397b",
   "metadata": {},
   "outputs": [
    {
     "name": "stdout",
     "output_type": "stream",
     "text": [
      "Epoch 1/5\n",
      "938/938 [==============================] - 53s 55ms/step - loss: 1.0656 - accuracy: 0.6055\n",
      "Epoch 2/5\n",
      "938/938 [==============================] - 52s 55ms/step - loss: 0.3517 - accuracy: 0.8934\n",
      "Epoch 3/5\n",
      "938/938 [==============================] - 51s 54ms/step - loss: 0.1820 - accuracy: 0.9636\n",
      "Epoch 4/5\n",
      "938/938 [==============================] - 52s 55ms/step - loss: 0.1399 - accuracy: 0.9729\n",
      "Epoch 5/5\n",
      "938/938 [==============================] - 52s 56ms/step - loss: 0.1241 - accuracy: 0.9760\n"
     ]
    },
    {
     "data": {
      "text/plain": [
       "<keras.callbacks.History at 0x215069da790>"
      ]
     },
     "execution_count": 18,
     "metadata": {},
     "output_type": "execute_result"
    }
   ],
   "source": [
    "# compile 並訓練\n",
    "\n",
    "model.compile(optimizer='rmsprop',\n",
    "             loss='categorical_crossentropy',\n",
    "             metrics=['accuracy'])\n",
    "model.fit(train_images, train_labels, epochs=5, batch_size=64)"
   ]
  },
  {
   "cell_type": "code",
   "execution_count": 19,
   "id": "31c044bf",
   "metadata": {},
   "outputs": [
    {
     "name": "stdout",
     "output_type": "stream",
     "text": [
      "313/313 [==============================] - 2s 7ms/step - loss: 0.0664 - accuracy: 0.9844\n"
     ]
    }
   ],
   "source": [
    "# 再使用測試資料進行評估\n",
    "test_loss, test_acc = model.evaluate(test_images, test_labels)"
   ]
  },
  {
   "cell_type": "code",
   "execution_count": null,
   "id": "30742a90",
   "metadata": {},
   "outputs": [],
   "source": []
  }
 ],
 "metadata": {
  "kernelspec": {
   "display_name": "Python 3 (ipykernel)",
   "language": "python",
   "name": "python3"
  },
  "language_info": {
   "codemirror_mode": {
    "name": "ipython",
    "version": 3
   },
   "file_extension": ".py",
   "mimetype": "text/x-python",
   "name": "python",
   "nbconvert_exporter": "python",
   "pygments_lexer": "ipython3",
   "version": "3.9.12"
  }
 },
 "nbformat": 4,
 "nbformat_minor": 5
}
