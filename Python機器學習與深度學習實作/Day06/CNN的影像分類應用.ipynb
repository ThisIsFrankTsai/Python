{
 "cells": [
  {
   "cell_type": "code",
   "execution_count": 16,
   "id": "0d941952",
   "metadata": {},
   "outputs": [],
   "source": [
    "#ref: https://www.twblogs.net/a/5e4f584abd9eee101e851e85\n",
    "\n",
    "import os, shutil\n",
    "# The path to the directory where the original\n",
    "# dataset was uncompressed（原始數據集解壓目錄的路徑）\n",
    "original_dataset_dir = './kaggle_original_data'\n",
    "if not os.path.exists(original_dataset_dir):\n",
    "    os.mkdir(original_dataset_dir)\n",
    "\n",
    "# The directory where we will\n",
    "# store our smaller dataset（保存較小數據集的目錄）\n",
    "base_dir = './cats_and_dogs_small'\n",
    "if not os.path.exists(base_dir):\n",
    "    os.mkdir(base_dir)\n",
    "\n",
    "# Directories for our training, validation and test splits\n",
    "#（分別對應劃分後的訓練、 驗證和測試的目錄）\n",
    "train_dir = os.path.join(base_dir, 'train')\n",
    "if not os.path.exists(train_dir):\n",
    "    os.mkdir(train_dir)\n",
    "# Directory with our training cat pictures(貓的訓練圖像目錄)\n",
    "train_cats_dir = os.path.join(train_dir, 'cats')\n",
    "if not os.path.exists(train_cats_dir):\n",
    "    os.mkdir(train_cats_dir)\n",
    "\n",
    "# Directory with our training dog pictures(狗的訓練圖像目錄)\n",
    "train_dogs_dir = os.path.join(train_dir, 'dogs')\n",
    "if not os.path.exists(train_dogs_dir):\n",
    "    os.mkdir(train_dogs_dir)\n",
    "validation_dir = os.path.join(base_dir, 'validation')\n",
    "if not os.path.exists(validation_dir):\n",
    "    os.mkdir(validation_dir)\n",
    "    # Directory with our validation cat pictures(貓的驗證圖像目錄)\n",
    "validation_cats_dir = os.path.join(validation_dir, 'cats')\n",
    "if not os.path.exists(validation_cats_dir):\n",
    "    os.mkdir(validation_cats_dir)\n",
    "\n",
    "# Directory with our validation dog pictures(狗的驗證圖像目錄)\n",
    "validation_dogs_dir = os.path.join(validation_dir, 'dogs')\n",
    "if not os.path.exists(validation_dogs_dir):\n",
    "    os.mkdir(validation_dogs_dir)\n",
    "    \n",
    "test_dir = os.path.join(base_dir, 'test')\n",
    "if not os.path.exists(test_dir):\n",
    "    os.mkdir(test_dir)\n",
    "    # Directory with our test cat pictures（貓的測試圖像目錄）\n",
    "test_cats_dir = os.path.join(test_dir, 'cats')\n",
    "if not os.path.exists(test_cats_dir):\n",
    "    os.mkdir(test_cats_dir)\n",
    "\n",
    "# Directory with our test dog pictures（狗的測試圖像目錄）\n",
    "test_dogs_dir = os.path.join(test_dir, 'dogs')\n",
    "if not os.path.exists(test_dogs_dir):\n",
    "    os.mkdir(test_dogs_dir)"
   ]
  },
  {
   "cell_type": "code",
   "execution_count": 17,
   "id": "6bb58ae1",
   "metadata": {},
   "outputs": [],
   "source": [
    "# Copy first 1000 cat images to train_cats_dir（將前 1000 張貓的圖像複製 到 train_cats_dir）\n",
    "fnames = ['cat.{}.jpg'.format(i) for i in range(1000)]\n",
    "for fname in fnames:\n",
    "    src = os.path.join(original_dataset_dir, fname)\n",
    "    dst = os.path.join(train_cats_dir, fname)\n",
    "    shutil.copyfile(src, dst)\n",
    "    \n",
    "# Copy next 500 cat images to validation_cats_dir（將 接 下 來 500 張 貓 的 圖像 復 制到 validation_cats_dir）\n",
    "fnames = ['cat.{}.jpg'.format(i) for i in range(1000, 1500)]\n",
    "for fname in fnames:\n",
    "    src = os.path.join(original_dataset_dir, fname)\n",
    "    dst = os.path.join(validation_cats_dir, fname)\n",
    "    shutil.copyfile(src, dst)\n",
    "    \n",
    "# Copy next 500 cat images to test_cats_dir（將 接 下 來的 500 張 貓 的 圖像 複製到 test_cats_dir）\n",
    "fnames = ['cat.{}.jpg'.format(i) for i in range(1500, 2000)]\n",
    "for fname in fnames:\n",
    "    src = os.path.join(original_dataset_dir, fname)\n",
    "    dst = os.path.join(test_cats_dir, fname)\n",
    "    shutil.copyfile(src, dst)\n",
    "    \n",
    "# Copy first 1000 dog images to train_dogs_dir（將前 1000 張狗的圖像複製 到 train_dogs_dir）\n",
    "fnames = ['dog.{}.jpg'.format(i) for i in range(1000)]\n",
    "for fname in fnames:\n",
    "    src = os.path.join(original_dataset_dir, fname)\n",
    "    dst = os.path.join(train_dogs_dir, fname)\n",
    "    shutil.copyfile(src, dst)\n",
    "    \n",
    "# Copy next 500 dog images to validation_dogs_dir（將接下來 500 張狗的圖像復 制到 validation_dogs_dir）\n",
    "fnames = ['dog.{}.jpg'.format(i) for i in range(1000, 1500)]\n",
    "for fname in fnames:\n",
    "    src = os.path.join(original_dataset_dir, fname)\n",
    "    dst = os.path.join(validation_dogs_dir, fname)\n",
    "    shutil.copyfile(src, dst)\n",
    "    \n",
    "# Copy next 500 dog images to test_dogs_dir（將接下來 500 張狗的圖像複製到 test_dogs_dir）\n",
    "fnames = ['dog.{}.jpg'.format(i) for i in range(1500, 2000)]\n",
    "for fname in fnames:\n",
    "    src = os.path.join(original_dataset_dir, fname)\n",
    "    dst = os.path.join(test_dogs_dir, fname)\n",
    "    shutil.copyfile(src, dst)"
   ]
  },
  {
   "cell_type": "code",
   "execution_count": 18,
   "id": "ee67611b",
   "metadata": {},
   "outputs": [
    {
     "name": "stdout",
     "output_type": "stream",
     "text": [
      "total training cat images: 1000\n",
      "total training dog images: 1000\n",
      "total validation cat images: 500\n",
      "total validation dog images: 500\n",
      "total test cat images: 500\n",
      "total test dog images: 500\n"
     ]
    }
   ],
   "source": [
    "#check our train / test data number\n",
    "print('total training cat images:', len(os.listdir(train_cats_dir)))\n",
    "\n",
    "print('total training dog images:', len(os.listdir(train_dogs_dir)))\n",
    "\n",
    "print('total validation cat images:', len(os.listdir(validation_cats_dir)))\n",
    "\n",
    "print('total validation dog images:', len(os.listdir(validation_dogs_dir)))\n",
    "\n",
    "print('total test cat images:', len(os.listdir(test_cats_dir)))\n",
    "\n",
    "print('total test dog images:', len(os.listdir(test_dogs_dir)))"
   ]
  },
  {
   "cell_type": "code",
   "execution_count": 19,
   "id": "eeb59b74",
   "metadata": {},
   "outputs": [
    {
     "name": "stdout",
     "output_type": "stream",
     "text": [
      "Model: \"sequential\"\n",
      "_________________________________________________________________\n",
      " Layer (type)                Output Shape              Param #   \n",
      "=================================================================\n",
      " conv2d (Conv2D)             (None, 148, 148, 32)      896       \n",
      "                                                                 \n",
      " max_pooling2d (MaxPooling2D  (None, 74, 74, 32)       0         \n",
      " )                                                               \n",
      "                                                                 \n",
      " conv2d_1 (Conv2D)           (None, 72, 72, 64)        18496     \n",
      "                                                                 \n",
      " max_pooling2d_1 (MaxPooling  (None, 36, 36, 64)       0         \n",
      " 2D)                                                             \n",
      "                                                                 \n",
      " conv2d_2 (Conv2D)           (None, 34, 34, 128)       73856     \n",
      "                                                                 \n",
      " max_pooling2d_2 (MaxPooling  (None, 17, 17, 128)      0         \n",
      " 2D)                                                             \n",
      "                                                                 \n",
      " conv2d_3 (Conv2D)           (None, 15, 15, 128)       147584    \n",
      "                                                                 \n",
      " max_pooling2d_3 (MaxPooling  (None, 7, 7, 128)        0         \n",
      " 2D)                                                             \n",
      "                                                                 \n",
      " flatten (Flatten)           (None, 6272)              0         \n",
      "                                                                 \n",
      " dense (Dense)               (None, 512)               3211776   \n",
      "                                                                 \n",
      " dense_1 (Dense)             (None, 1)                 513       \n",
      "                                                                 \n",
      "=================================================================\n",
      "Total params: 3,453,121\n",
      "Trainable params: 3,453,121\n",
      "Non-trainable params: 0\n",
      "_________________________________________________________________\n"
     ]
    }
   ],
   "source": [
    "#網絡中特徵圖的深度在逐漸增大（從 32 增大到 128），而特徵圖的尺寸在逐漸減小（從148×148 減小到 7×7）。這幾乎是所有卷積神經網絡的模式。\n",
    "\n",
    "from tensorflow.keras import models\n",
    "from tensorflow.keras import layers\n",
    "\n",
    "model = models.Sequential()\n",
    "model.add(layers.Conv2D(32, (3, 3), activation='relu',\n",
    "                        input_shape=(150, 150, 3)))\n",
    "model.add(layers.MaxPooling2D((2, 2)))\n",
    "model.add(layers.Conv2D(64, (3, 3), activation='relu'))\n",
    "model.add(layers.MaxPooling2D((2, 2)))\n",
    "model.add(layers.Conv2D(128, (3, 3), activation='relu'))\n",
    "model.add(layers.MaxPooling2D((2, 2)))\n",
    "model.add(layers.Conv2D(128, (3, 3), activation='relu'))\n",
    "model.add(layers.MaxPooling2D((2, 2)))\n",
    "model.add(layers.Flatten())\n",
    "model.add(layers.Dense(512, activation='relu'))\n",
    "model.add(layers.Dense(1, activation='sigmoid'))\n",
    "\n",
    "model.summary()"
   ]
  },
  {
   "cell_type": "code",
   "execution_count": 20,
   "id": "ccfc8011",
   "metadata": {},
   "outputs": [
    {
     "name": "stderr",
     "output_type": "stream",
     "text": [
      "C:\\Users\\vg8rw\\anaconda3\\lib\\site-packages\\keras\\optimizers\\optimizer_v2\\rmsprop.py:140: UserWarning: The `lr` argument is deprecated, use `learning_rate` instead.\n",
      "  super().__init__(name, **kwargs)\n"
     ]
    }
   ],
   "source": [
    "from tensorflow.keras import optimizers\n",
    "\n",
    "model.compile(loss='binary_crossentropy',\n",
    "              optimizer=optimizers.RMSprop(lr=1e-4),\n",
    "              metrics=['acc'])"
   ]
  },
  {
   "cell_type": "code",
   "execution_count": 21,
   "id": "622ebb46",
   "metadata": {},
   "outputs": [
    {
     "name": "stdout",
     "output_type": "stream",
     "text": [
      "Found 2000 images belonging to 2 classes.\n",
      "Found 1000 images belonging to 2 classes.\n"
     ]
    }
   ],
   "source": [
    "from tensorflow.keras.preprocessing.image import ImageDataGenerator\n",
    "\n",
    "# All images will be rescaled by 1./255（將所有圖像乘以 1/255 縮放）\n",
    "train_datagen = ImageDataGenerator(rescale=1./255)\n",
    "test_datagen = ImageDataGenerator(rescale=1./255)\n",
    "\n",
    "train_generator = train_datagen.flow_from_directory(\n",
    "        # This is the target directory（目標目錄）\n",
    "        train_dir,\n",
    "        # All images will be resized to 150x150（將所有圖像的大小調整爲 150×150）\n",
    "        target_size=(150, 150),\n",
    "        batch_size=20,\n",
    "        # Since we use binary_crossentropy loss, we need binary labels（因爲使用了 binary_crossentropy損失，所以需要用二進制標籤）\n",
    "        class_mode='binary')\n",
    "\n",
    "validation_generator = test_datagen.flow_from_directory(\n",
    "        validation_dir,\n",
    "        target_size=(150, 150),\n",
    "        batch_size=20,\n",
    "        class_mode='binary')"
   ]
  },
  {
   "cell_type": "code",
   "execution_count": 22,
   "id": "4d4d354f",
   "metadata": {},
   "outputs": [
    {
     "name": "stdout",
     "output_type": "stream",
     "text": [
      "data batch shape: (20, 150, 150, 3)\n",
      "labels batch shape: (20,)\n"
     ]
    }
   ],
   "source": [
    "for data_batch, labels_batch in train_generator:\n",
    "    print('data batch shape:', data_batch.shape)\n",
    "    print('labels batch shape:', labels_batch.shape)\n",
    "    break"
   ]
  },
  {
   "cell_type": "code",
   "execution_count": 23,
   "id": "665370c0",
   "metadata": {},
   "outputs": [
    {
     "name": "stdout",
     "output_type": "stream",
     "text": [
      "Epoch 1/30\n"
     ]
    },
    {
     "name": "stderr",
     "output_type": "stream",
     "text": [
      "C:\\Users\\vg8rw\\AppData\\Local\\Temp\\ipykernel_7620\\3259228942.py:1: UserWarning: `Model.fit_generator` is deprecated and will be removed in a future version. Please use `Model.fit`, which supports generators.\n",
      "  history = model.fit_generator(\n"
     ]
    },
    {
     "name": "stdout",
     "output_type": "stream",
     "text": [
      "100/100 [==============================] - 70s 685ms/step - loss: 0.6909 - acc: 0.5330 - val_loss: 0.6736 - val_acc: 0.5870\n",
      "Epoch 2/30\n",
      "100/100 [==============================] - 59s 592ms/step - loss: 0.6562 - acc: 0.6200 - val_loss: 0.6437 - val_acc: 0.6070\n",
      "Epoch 3/30\n",
      "100/100 [==============================] - 60s 598ms/step - loss: 0.6099 - acc: 0.6645 - val_loss: 0.6161 - val_acc: 0.6450\n",
      "Epoch 4/30\n",
      "100/100 [==============================] - 60s 605ms/step - loss: 0.5734 - acc: 0.7020 - val_loss: 0.5922 - val_acc: 0.6820\n",
      "Epoch 5/30\n",
      "100/100 [==============================] - 61s 612ms/step - loss: 0.5449 - acc: 0.7265 - val_loss: 0.5743 - val_acc: 0.7010\n",
      "Epoch 6/30\n",
      "100/100 [==============================] - 69s 688ms/step - loss: 0.5165 - acc: 0.7355 - val_loss: 0.5593 - val_acc: 0.7110\n",
      "Epoch 7/30\n",
      "100/100 [==============================] - 73s 726ms/step - loss: 0.4969 - acc: 0.7590 - val_loss: 0.5450 - val_acc: 0.7240\n",
      "Epoch 8/30\n",
      "100/100 [==============================] - 68s 685ms/step - loss: 0.4691 - acc: 0.7735 - val_loss: 0.5401 - val_acc: 0.7140\n",
      "Epoch 9/30\n",
      "100/100 [==============================] - 61s 611ms/step - loss: 0.4447 - acc: 0.7920 - val_loss: 0.5766 - val_acc: 0.7110\n",
      "Epoch 10/30\n",
      "100/100 [==============================] - 65s 655ms/step - loss: 0.4246 - acc: 0.8050 - val_loss: 0.5720 - val_acc: 0.7170\n",
      "Epoch 11/30\n",
      "100/100 [==============================] - 70s 702ms/step - loss: 0.3920 - acc: 0.8305 - val_loss: 0.5447 - val_acc: 0.7340\n",
      "Epoch 12/30\n",
      "100/100 [==============================] - 71s 708ms/step - loss: 0.3863 - acc: 0.8270 - val_loss: 0.5498 - val_acc: 0.7280\n",
      "Epoch 13/30\n",
      "100/100 [==============================] - 67s 670ms/step - loss: 0.3494 - acc: 0.8550 - val_loss: 0.5628 - val_acc: 0.7300\n",
      "Epoch 14/30\n",
      "100/100 [==============================] - 67s 667ms/step - loss: 0.3311 - acc: 0.8555 - val_loss: 0.5197 - val_acc: 0.7500\n",
      "Epoch 15/30\n",
      "100/100 [==============================] - 66s 659ms/step - loss: 0.3197 - acc: 0.8665 - val_loss: 0.6154 - val_acc: 0.7230\n",
      "Epoch 16/30\n",
      "100/100 [==============================] - 67s 669ms/step - loss: 0.2985 - acc: 0.8780 - val_loss: 0.5312 - val_acc: 0.7450\n",
      "Epoch 17/30\n",
      "100/100 [==============================] - 64s 641ms/step - loss: 0.2687 - acc: 0.8905 - val_loss: 0.6435 - val_acc: 0.7270\n",
      "Epoch 18/30\n",
      "100/100 [==============================] - 63s 635ms/step - loss: 0.2547 - acc: 0.8975 - val_loss: 0.5692 - val_acc: 0.7470\n",
      "Epoch 19/30\n",
      "100/100 [==============================] - 65s 646ms/step - loss: 0.2317 - acc: 0.9130 - val_loss: 0.6335 - val_acc: 0.7350\n",
      "Epoch 20/30\n",
      "100/100 [==============================] - 66s 654ms/step - loss: 0.2152 - acc: 0.9215 - val_loss: 0.6120 - val_acc: 0.7460\n",
      "Epoch 21/30\n",
      "100/100 [==============================] - 64s 644ms/step - loss: 0.1972 - acc: 0.9245 - val_loss: 0.7747 - val_acc: 0.7150\n",
      "Epoch 22/30\n",
      "100/100 [==============================] - 65s 650ms/step - loss: 0.1777 - acc: 0.9350 - val_loss: 0.6211 - val_acc: 0.7350\n",
      "Epoch 23/30\n",
      "100/100 [==============================] - 66s 661ms/step - loss: 0.1590 - acc: 0.9415 - val_loss: 0.6510 - val_acc: 0.7470\n",
      "Epoch 24/30\n",
      "100/100 [==============================] - 74s 738ms/step - loss: 0.1417 - acc: 0.9510 - val_loss: 0.6649 - val_acc: 0.7430\n",
      "Epoch 25/30\n",
      "100/100 [==============================] - 79s 792ms/step - loss: 0.1259 - acc: 0.9590 - val_loss: 0.6618 - val_acc: 0.7520\n",
      "Epoch 26/30\n",
      "100/100 [==============================] - 65s 649ms/step - loss: 0.1142 - acc: 0.9600 - val_loss: 0.7043 - val_acc: 0.7430\n",
      "Epoch 27/30\n",
      "100/100 [==============================] - 65s 648ms/step - loss: 0.0922 - acc: 0.9730 - val_loss: 0.7390 - val_acc: 0.7330\n",
      "Epoch 28/30\n",
      "100/100 [==============================] - 62s 620ms/step - loss: 0.0873 - acc: 0.9710 - val_loss: 0.7499 - val_acc: 0.7400\n",
      "Epoch 29/30\n",
      "100/100 [==============================] - 64s 638ms/step - loss: 0.0734 - acc: 0.9795 - val_loss: 1.0246 - val_acc: 0.7140\n",
      "Epoch 30/30\n",
      "100/100 [==============================] - 60s 602ms/step - loss: 0.0621 - acc: 0.9860 - val_loss: 0.8461 - val_acc: 0.7390\n"
     ]
    }
   ],
   "source": [
    "history = model.fit_generator(\n",
    "      train_generator,\n",
    "      steps_per_epoch=100,\n",
    "      epochs=30,\n",
    "      validation_data=validation_generator,\n",
    "      validation_steps=50)"
   ]
  },
  {
   "cell_type": "code",
   "execution_count": 24,
   "id": "f5fdcf44",
   "metadata": {},
   "outputs": [],
   "source": [
    "#save model\n",
    "\n",
    "model.save('cats_and_dogs_small_1.h5')"
   ]
  },
  {
   "cell_type": "code",
   "execution_count": 25,
   "id": "3df304ce",
   "metadata": {},
   "outputs": [
    {
     "data": {
      "image/png": "[encoded data removed]",
      "text/plain": [
       "<Figure size 432x288 with 1 Axes>"
      ]
     },
     "metadata": {
      "needs_background": "light"
     },
     "output_type": "display_data"
    },
    {
     "data": {
      "image/png": "[encoded data removed]",
      "text/plain": [
       "<Figure size 432x288 with 1 Axes>"
      ]
     },
     "metadata": {
      "needs_background": "light"
     },
     "output_type": "display_data"
    }
   ],
   "source": [
    "#draw a chart\n",
    "%matplotlib inline\n",
    "import matplotlib.pyplot as plt\n",
    "\n",
    "acc = history.history['acc']\n",
    "val_acc = history.history['val_acc']\n",
    "loss = history.history['loss']\n",
    "val_loss = history.history['val_loss']\n",
    "\n",
    "epochs = range(len(acc))\n",
    "\n",
    "plt.plot(epochs, acc, 'bo', label='Training acc')\n",
    "plt.plot(epochs, val_acc, 'b', label='Validation acc')\n",
    "plt.title('Training and validation accuracy')\n",
    "plt.legend()\n",
    "\n",
    "plt.figure()\n",
    "\n",
    "plt.plot(epochs, loss, 'bo', label='Training loss')\n",
    "plt.plot(epochs, val_loss, 'b', label='Validation loss')\n",
    "plt.title('Training and validation loss')\n",
    "plt.legend()\n",
    "\n",
    "plt.show()"
   ]
  },
  {
   "cell_type": "code",
   "execution_count": null,
   "id": "d63e77de",
   "metadata": {},
   "outputs": [],
   "source": []
  },
  {
   "cell_type": "code",
   "execution_count": null,
   "id": "c982680a",
   "metadata": {},
   "outputs": [],
   "source": []
  },
  {
   "cell_type": "code",
   "execution_count": null,
   "id": "439239ae",
   "metadata": {},
   "outputs": [],
   "source": []
  },
  {
   "cell_type": "code",
   "execution_count": null,
   "id": "834f91c6",
   "metadata": {},
   "outputs": [],
   "source": []
  }
 ],
 "metadata": {
  "kernelspec": {
   "display_name": "Python 3 (ipykernel)",
   "language": "python",
   "name": "python3"
  },
  "language_info": {
   "codemirror_mode": {
    "name": "ipython",
    "version": 3
   },
   "file_extension": ".py",
   "mimetype": "text/x-python",
   "name": "python",
   "nbconvert_exporter": "python",
   "pygments_lexer": "ipython3",
   "version": "3.9.12"
  }
 },
 "nbformat": 4,
 "nbformat_minor": 5
}
