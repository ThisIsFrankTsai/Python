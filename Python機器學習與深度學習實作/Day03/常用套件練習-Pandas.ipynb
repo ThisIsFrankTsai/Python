{
 "cells": [
  {
   "cell_type": "code",
   "execution_count": 1,
   "id": "49f84058",
   "metadata": {},
   "outputs": [
    {
     "data": {
      "text/plain": [
       "'1.4.2'"
      ]
     },
     "execution_count": 1,
     "metadata": {},
     "output_type": "execute_result"
    }
   ],
   "source": [
    "import pandas as pd\n",
    "import numpy as np\n",
    "from datetime import datetime\n",
    "pd.__version__"
   ]
  },
  {
   "cell_type": "code",
   "execution_count": 2,
   "id": "7fc934d0",
   "metadata": {},
   "outputs": [
    {
     "data": {
      "text/plain": [
       "0    1\n",
       "1    2\n",
       "2    3\n",
       "3    4\n",
       "4    5\n",
       "dtype: int64"
      ]
     },
     "execution_count": 2,
     "metadata": {},
     "output_type": "execute_result"
    }
   ],
   "source": [
    "#Serial\n",
    "s1 = pd.Series([1, 2, 3, 4, 5])\n",
    "s1\n"
   ]
  },
  {
   "cell_type": "code",
   "execution_count": 3,
   "id": "cc344767",
   "metadata": {},
   "outputs": [
    {
     "data": {
      "text/plain": [
       "0    1\n",
       "1    2\n",
       "2    3\n",
       "3    4\n",
       "4    5\n",
       "dtype: int64"
      ]
     },
     "execution_count": 3,
     "metadata": {},
     "output_type": "execute_result"
    }
   ],
   "source": [
    "s2 = pd.Series([1, 2, 3, 4, 5])\n",
    "s2"
   ]
  },
  {
   "cell_type": "code",
   "execution_count": 4,
   "id": "fbc8422b",
   "metadata": {},
   "outputs": [
    {
     "data": {
      "text/plain": [
       "0     2\n",
       "1     4\n",
       "2     6\n",
       "3     8\n",
       "4    10\n",
       "dtype: int64"
      ]
     },
     "execution_count": 4,
     "metadata": {},
     "output_type": "execute_result"
    }
   ],
   "source": [
    "s1+s2"
   ]
  },
  {
   "cell_type": "code",
   "execution_count": 8,
   "id": "9d2ce042",
   "metadata": {},
   "outputs": [
    {
     "data": {
      "text/plain": [
       "array([[-0.9929308 ,  1.23859569, -1.06752656,  0.38603188],\n",
       "       [ 0.33470157, -0.02693811,  0.56803731,  0.79909433],\n",
       "       [ 1.06155937, -0.01255294,  1.03095317, -0.92852698],\n",
       "       [-0.97352366, -0.95330495, -1.29087395,  0.96488626],\n",
       "       [-0.73340254,  0.39431544, -0.10116659,  0.21474026],\n",
       "       [ 1.02595446,  0.46227592,  0.97757443, -0.76521835],\n",
       "       [ 0.06255187, -2.11394341,  0.09692328,  1.2232987 ],\n",
       "       [ 0.25954055, -2.35442382,  1.01357922,  0.17306466],\n",
       "       [ 1.05506203, -0.76081778,  3.56080735, -0.28565137],\n",
       "       [-1.21457473,  0.16672795, -0.7147546 , -0.89620205]])"
      ]
     },
     "execution_count": 8,
     "metadata": {},
     "output_type": "execute_result"
    }
   ],
   "source": [
    "#DataFrame\n",
    "data = np.random.randn(10, 4)\n",
    "data"
   ]
  },
  {
   "cell_type": "code",
   "execution_count": 9,
   "id": "f25e91a9",
   "metadata": {},
   "outputs": [
    {
     "data": {
      "text/html": [
       "<div>\n",
       "<style scoped>\n",
       "    .dataframe tbody tr th:only-of-type {\n",
       "        vertical-align: middle;\n",
       "    }\n",
       "\n",
       "    .dataframe tbody tr th {\n",
       "        vertical-align: top;\n",
       "    }\n",
       "\n",
       "    .dataframe thead th {\n",
       "        text-align: right;\n",
       "    }\n",
       "</style>\n",
       "<table border=\"1\" class=\"dataframe\">\n",
       "  <thead>\n",
       "    <tr style=\"text-align: right;\">\n",
       "      <th></th>\n",
       "      <th>0</th>\n",
       "      <th>1</th>\n",
       "      <th>2</th>\n",
       "      <th>3</th>\n",
       "    </tr>\n",
       "  </thead>\n",
       "  <tbody>\n",
       "    <tr>\n",
       "      <th>0</th>\n",
       "      <td>-0.992931</td>\n",
       "      <td>1.238596</td>\n",
       "      <td>-1.067527</td>\n",
       "      <td>0.386032</td>\n",
       "    </tr>\n",
       "    <tr>\n",
       "      <th>1</th>\n",
       "      <td>0.334702</td>\n",
       "      <td>-0.026938</td>\n",
       "      <td>0.568037</td>\n",
       "      <td>0.799094</td>\n",
       "    </tr>\n",
       "    <tr>\n",
       "      <th>2</th>\n",
       "      <td>1.061559</td>\n",
       "      <td>-0.012553</td>\n",
       "      <td>1.030953</td>\n",
       "      <td>-0.928527</td>\n",
       "    </tr>\n",
       "    <tr>\n",
       "      <th>3</th>\n",
       "      <td>-0.973524</td>\n",
       "      <td>-0.953305</td>\n",
       "      <td>-1.290874</td>\n",
       "      <td>0.964886</td>\n",
       "    </tr>\n",
       "    <tr>\n",
       "      <th>4</th>\n",
       "      <td>-0.733403</td>\n",
       "      <td>0.394315</td>\n",
       "      <td>-0.101167</td>\n",
       "      <td>0.214740</td>\n",
       "    </tr>\n",
       "    <tr>\n",
       "      <th>5</th>\n",
       "      <td>1.025954</td>\n",
       "      <td>0.462276</td>\n",
       "      <td>0.977574</td>\n",
       "      <td>-0.765218</td>\n",
       "    </tr>\n",
       "    <tr>\n",
       "      <th>6</th>\n",
       "      <td>0.062552</td>\n",
       "      <td>-2.113943</td>\n",
       "      <td>0.096923</td>\n",
       "      <td>1.223299</td>\n",
       "    </tr>\n",
       "    <tr>\n",
       "      <th>7</th>\n",
       "      <td>0.259541</td>\n",
       "      <td>-2.354424</td>\n",
       "      <td>1.013579</td>\n",
       "      <td>0.173065</td>\n",
       "    </tr>\n",
       "    <tr>\n",
       "      <th>8</th>\n",
       "      <td>1.055062</td>\n",
       "      <td>-0.760818</td>\n",
       "      <td>3.560807</td>\n",
       "      <td>-0.285651</td>\n",
       "    </tr>\n",
       "    <tr>\n",
       "      <th>9</th>\n",
       "      <td>-1.214575</td>\n",
       "      <td>0.166728</td>\n",
       "      <td>-0.714755</td>\n",
       "      <td>-0.896202</td>\n",
       "    </tr>\n",
       "  </tbody>\n",
       "</table>\n",
       "</div>"
      ],
      "text/plain": [
       "          0         1         2         3\n",
       "0 -0.992931  1.238596 -1.067527  0.386032\n",
       "1  0.334702 -0.026938  0.568037  0.799094\n",
       "2  1.061559 -0.012553  1.030953 -0.928527\n",
       "3 -0.973524 -0.953305 -1.290874  0.964886\n",
       "4 -0.733403  0.394315 -0.101167  0.214740\n",
       "5  1.025954  0.462276  0.977574 -0.765218\n",
       "6  0.062552 -2.113943  0.096923  1.223299\n",
       "7  0.259541 -2.354424  1.013579  0.173065\n",
       "8  1.055062 -0.760818  3.560807 -0.285651\n",
       "9 -1.214575  0.166728 -0.714755 -0.896202"
      ]
     },
     "execution_count": 9,
     "metadata": {},
     "output_type": "execute_result"
    }
   ],
   "source": [
    "df = pd.DataFrame(data)\n",
    "df"
   ]
  },
  {
   "cell_type": "code",
   "execution_count": 10,
   "id": "178de9f4",
   "metadata": {},
   "outputs": [
    {
     "data": {
      "text/html": [
       "<div>\n",
       "<style scoped>\n",
       "    .dataframe tbody tr th:only-of-type {\n",
       "        vertical-align: middle;\n",
       "    }\n",
       "\n",
       "    .dataframe tbody tr th {\n",
       "        vertical-align: top;\n",
       "    }\n",
       "\n",
       "    .dataframe thead th {\n",
       "        text-align: right;\n",
       "    }\n",
       "</style>\n",
       "<table border=\"1\" class=\"dataframe\">\n",
       "  <thead>\n",
       "    <tr style=\"text-align: right;\">\n",
       "      <th></th>\n",
       "      <th>No1</th>\n",
       "      <th>No2</th>\n",
       "      <th>No3</th>\n",
       "      <th>No4</th>\n",
       "    </tr>\n",
       "  </thead>\n",
       "  <tbody>\n",
       "    <tr>\n",
       "      <th>0</th>\n",
       "      <td>-0.992931</td>\n",
       "      <td>1.238596</td>\n",
       "      <td>-1.067527</td>\n",
       "      <td>0.386032</td>\n",
       "    </tr>\n",
       "    <tr>\n",
       "      <th>1</th>\n",
       "      <td>0.334702</td>\n",
       "      <td>-0.026938</td>\n",
       "      <td>0.568037</td>\n",
       "      <td>0.799094</td>\n",
       "    </tr>\n",
       "    <tr>\n",
       "      <th>2</th>\n",
       "      <td>1.061559</td>\n",
       "      <td>-0.012553</td>\n",
       "      <td>1.030953</td>\n",
       "      <td>-0.928527</td>\n",
       "    </tr>\n",
       "    <tr>\n",
       "      <th>3</th>\n",
       "      <td>-0.973524</td>\n",
       "      <td>-0.953305</td>\n",
       "      <td>-1.290874</td>\n",
       "      <td>0.964886</td>\n",
       "    </tr>\n",
       "    <tr>\n",
       "      <th>4</th>\n",
       "      <td>-0.733403</td>\n",
       "      <td>0.394315</td>\n",
       "      <td>-0.101167</td>\n",
       "      <td>0.214740</td>\n",
       "    </tr>\n",
       "    <tr>\n",
       "      <th>5</th>\n",
       "      <td>1.025954</td>\n",
       "      <td>0.462276</td>\n",
       "      <td>0.977574</td>\n",
       "      <td>-0.765218</td>\n",
       "    </tr>\n",
       "    <tr>\n",
       "      <th>6</th>\n",
       "      <td>0.062552</td>\n",
       "      <td>-2.113943</td>\n",
       "      <td>0.096923</td>\n",
       "      <td>1.223299</td>\n",
       "    </tr>\n",
       "    <tr>\n",
       "      <th>7</th>\n",
       "      <td>0.259541</td>\n",
       "      <td>-2.354424</td>\n",
       "      <td>1.013579</td>\n",
       "      <td>0.173065</td>\n",
       "    </tr>\n",
       "    <tr>\n",
       "      <th>8</th>\n",
       "      <td>1.055062</td>\n",
       "      <td>-0.760818</td>\n",
       "      <td>3.560807</td>\n",
       "      <td>-0.285651</td>\n",
       "    </tr>\n",
       "    <tr>\n",
       "      <th>9</th>\n",
       "      <td>-1.214575</td>\n",
       "      <td>0.166728</td>\n",
       "      <td>-0.714755</td>\n",
       "      <td>-0.896202</td>\n",
       "    </tr>\n",
       "  </tbody>\n",
       "</table>\n",
       "</div>"
      ],
      "text/plain": [
       "        No1       No2       No3       No4\n",
       "0 -0.992931  1.238596 -1.067527  0.386032\n",
       "1  0.334702 -0.026938  0.568037  0.799094\n",
       "2  1.061559 -0.012553  1.030953 -0.928527\n",
       "3 -0.973524 -0.953305 -1.290874  0.964886\n",
       "4 -0.733403  0.394315 -0.101167  0.214740\n",
       "5  1.025954  0.462276  0.977574 -0.765218\n",
       "6  0.062552 -2.113943  0.096923  1.223299\n",
       "7  0.259541 -2.354424  1.013579  0.173065\n",
       "8  1.055062 -0.760818  3.560807 -0.285651\n",
       "9 -1.214575  0.166728 -0.714755 -0.896202"
      ]
     },
     "execution_count": 10,
     "metadata": {},
     "output_type": "execute_result"
    }
   ],
   "source": [
    "df.columns = ['No1', 'No2', 'No3', 'No4']\n",
    "df"
   ]
  },
  {
   "cell_type": "code",
   "execution_count": 11,
   "id": "342e9871",
   "metadata": {},
   "outputs": [
    {
     "data": {
      "text/html": [
       "<div>\n",
       "<style scoped>\n",
       "    .dataframe tbody tr th:only-of-type {\n",
       "        vertical-align: middle;\n",
       "    }\n",
       "\n",
       "    .dataframe tbody tr th {\n",
       "        vertical-align: top;\n",
       "    }\n",
       "\n",
       "    .dataframe thead th {\n",
       "        text-align: right;\n",
       "    }\n",
       "</style>\n",
       "<table border=\"1\" class=\"dataframe\">\n",
       "  <thead>\n",
       "    <tr style=\"text-align: right;\">\n",
       "      <th></th>\n",
       "      <th>No1</th>\n",
       "      <th>No2</th>\n",
       "      <th>No3</th>\n",
       "      <th>No4</th>\n",
       "    </tr>\n",
       "  </thead>\n",
       "  <tbody>\n",
       "    <tr>\n",
       "      <th>2016-01-01</th>\n",
       "      <td>-0.992931</td>\n",
       "      <td>1.238596</td>\n",
       "      <td>-1.067527</td>\n",
       "      <td>0.386032</td>\n",
       "    </tr>\n",
       "    <tr>\n",
       "      <th>2016-01-02</th>\n",
       "      <td>0.334702</td>\n",
       "      <td>-0.026938</td>\n",
       "      <td>0.568037</td>\n",
       "      <td>0.799094</td>\n",
       "    </tr>\n",
       "    <tr>\n",
       "      <th>2016-01-03</th>\n",
       "      <td>1.061559</td>\n",
       "      <td>-0.012553</td>\n",
       "      <td>1.030953</td>\n",
       "      <td>-0.928527</td>\n",
       "    </tr>\n",
       "    <tr>\n",
       "      <th>2016-01-04</th>\n",
       "      <td>-0.973524</td>\n",
       "      <td>-0.953305</td>\n",
       "      <td>-1.290874</td>\n",
       "      <td>0.964886</td>\n",
       "    </tr>\n",
       "    <tr>\n",
       "      <th>2016-01-05</th>\n",
       "      <td>-0.733403</td>\n",
       "      <td>0.394315</td>\n",
       "      <td>-0.101167</td>\n",
       "      <td>0.214740</td>\n",
       "    </tr>\n",
       "    <tr>\n",
       "      <th>2016-01-06</th>\n",
       "      <td>1.025954</td>\n",
       "      <td>0.462276</td>\n",
       "      <td>0.977574</td>\n",
       "      <td>-0.765218</td>\n",
       "    </tr>\n",
       "    <tr>\n",
       "      <th>2016-01-07</th>\n",
       "      <td>0.062552</td>\n",
       "      <td>-2.113943</td>\n",
       "      <td>0.096923</td>\n",
       "      <td>1.223299</td>\n",
       "    </tr>\n",
       "    <tr>\n",
       "      <th>2016-01-08</th>\n",
       "      <td>0.259541</td>\n",
       "      <td>-2.354424</td>\n",
       "      <td>1.013579</td>\n",
       "      <td>0.173065</td>\n",
       "    </tr>\n",
       "    <tr>\n",
       "      <th>2016-01-09</th>\n",
       "      <td>1.055062</td>\n",
       "      <td>-0.760818</td>\n",
       "      <td>3.560807</td>\n",
       "      <td>-0.285651</td>\n",
       "    </tr>\n",
       "    <tr>\n",
       "      <th>2016-01-10</th>\n",
       "      <td>-1.214575</td>\n",
       "      <td>0.166728</td>\n",
       "      <td>-0.714755</td>\n",
       "      <td>-0.896202</td>\n",
       "    </tr>\n",
       "  </tbody>\n",
       "</table>\n",
       "</div>"
      ],
      "text/plain": [
       "                 No1       No2       No3       No4\n",
       "2016-01-01 -0.992931  1.238596 -1.067527  0.386032\n",
       "2016-01-02  0.334702 -0.026938  0.568037  0.799094\n",
       "2016-01-03  1.061559 -0.012553  1.030953 -0.928527\n",
       "2016-01-04 -0.973524 -0.953305 -1.290874  0.964886\n",
       "2016-01-05 -0.733403  0.394315 -0.101167  0.214740\n",
       "2016-01-06  1.025954  0.462276  0.977574 -0.765218\n",
       "2016-01-07  0.062552 -2.113943  0.096923  1.223299\n",
       "2016-01-08  0.259541 -2.354424  1.013579  0.173065\n",
       "2016-01-09  1.055062 -0.760818  3.560807 -0.285651\n",
       "2016-01-10 -1.214575  0.166728 -0.714755 -0.896202"
      ]
     },
     "execution_count": 11,
     "metadata": {},
     "output_type": "execute_result"
    }
   ],
   "source": [
    "df.index = pd.date_range('2016-01-01', periods=10)\n",
    "df"
   ]
  },
  {
   "cell_type": "code",
   "execution_count": 12,
   "id": "c24c0eee",
   "metadata": {},
   "outputs": [
    {
     "data": {
      "text/plain": [
       "No1    1.025954\n",
       "No2    0.462276\n",
       "No3    0.977574\n",
       "No4   -0.765218\n",
       "Name: 2016-01-06 00:00:00, dtype: float64"
      ]
     },
     "execution_count": 12,
     "metadata": {},
     "output_type": "execute_result"
    }
   ],
   "source": [
    "df.loc['2016-01-06'] #根據index存取資料"
   ]
  },
  {
   "cell_type": "code",
   "execution_count": 13,
   "id": "33dcbd7c",
   "metadata": {},
   "outputs": [
    {
     "data": {
      "text/plain": [
       "2016-01-01   -0.992931\n",
       "2016-01-02    0.334702\n",
       "2016-01-03    1.061559\n",
       "2016-01-04   -0.973524\n",
       "2016-01-05   -0.733403\n",
       "2016-01-06    1.025954\n",
       "2016-01-07    0.062552\n",
       "2016-01-08    0.259541\n",
       "2016-01-09    1.055062\n",
       "2016-01-10   -1.214575\n",
       "Freq: D, Name: No1, dtype: float64"
      ]
     },
     "execution_count": 13,
     "metadata": {},
     "output_type": "execute_result"
    }
   ],
   "source": [
    "df['No1'] #根據column存取資料"
   ]
  },
  {
   "cell_type": "code",
   "execution_count": 16,
   "id": "0de32d3a",
   "metadata": {},
   "outputs": [
    {
     "data": {
      "text/plain": [
       "No1   -0.973524\n",
       "No2   -0.953305\n",
       "No3   -1.290874\n",
       "No4    0.964886\n",
       "Name: 2016-01-04 00:00:00, dtype: float64"
      ]
     },
     "execution_count": 16,
     "metadata": {},
     "output_type": "execute_result"
    }
   ],
   "source": [
    "df.iloc[3] #index 用數字表示,從0起算"
   ]
  },
  {
   "cell_type": "code",
   "execution_count": 21,
   "id": "eaaeb513",
   "metadata": {},
   "outputs": [
    {
     "data": {
      "text/html": [
       "<div>\n",
       "<style scoped>\n",
       "    .dataframe tbody tr th:only-of-type {\n",
       "        vertical-align: middle;\n",
       "    }\n",
       "\n",
       "    .dataframe tbody tr th {\n",
       "        vertical-align: top;\n",
       "    }\n",
       "\n",
       "    .dataframe thead th {\n",
       "        text-align: right;\n",
       "    }\n",
       "</style>\n",
       "<table border=\"1\" class=\"dataframe\">\n",
       "  <thead>\n",
       "    <tr style=\"text-align: right;\">\n",
       "      <th></th>\n",
       "      <th>Name</th>\n",
       "      <th>Date</th>\n",
       "      <th>TSP</th>\n",
       "      <th>PM10</th>\n",
       "      <th>Chloride</th>\n",
       "      <th>Nitrate</th>\n",
       "      <th>Sulfate</th>\n",
       "      <th>Lead</th>\n",
       "      <th>Dust</th>\n",
       "    </tr>\n",
       "  </thead>\n",
       "  <tbody>\n",
       "    <tr>\n",
       "      <th>0</th>\n",
       "      <td>大社工業區</td>\n",
       "      <td>2018年1月</td>\n",
       "      <td>93</td>\n",
       "      <td>NaN</td>\n",
       "      <td>NaN</td>\n",
       "      <td>NaN</td>\n",
       "      <td>NaN</td>\n",
       "      <td>0.029</td>\n",
       "      <td>3.60</td>\n",
       "    </tr>\n",
       "    <tr>\n",
       "      <th>1</th>\n",
       "      <td>大寮區公所</td>\n",
       "      <td>2018年1月</td>\n",
       "      <td>79</td>\n",
       "      <td>NaN</td>\n",
       "      <td>NaN</td>\n",
       "      <td>NaN</td>\n",
       "      <td>NaN</td>\n",
       "      <td>0.042</td>\n",
       "      <td>1.54</td>\n",
       "    </tr>\n",
       "    <tr>\n",
       "      <th>2</th>\n",
       "      <td>大樹監測站</td>\n",
       "      <td>2018年1月</td>\n",
       "      <td>61</td>\n",
       "      <td>NaN</td>\n",
       "      <td>NaN</td>\n",
       "      <td>NaN</td>\n",
       "      <td>NaN</td>\n",
       "      <td>0.020</td>\n",
       "      <td>1.18</td>\n",
       "    </tr>\n",
       "    <tr>\n",
       "      <th>3</th>\n",
       "      <td>仁武國中</td>\n",
       "      <td>2018年1月</td>\n",
       "      <td>79</td>\n",
       "      <td>NaN</td>\n",
       "      <td>NaN</td>\n",
       "      <td>NaN</td>\n",
       "      <td>NaN</td>\n",
       "      <td>0.058</td>\n",
       "      <td>2.68</td>\n",
       "    </tr>\n",
       "    <tr>\n",
       "      <th>4</th>\n",
       "      <td>半屏山電信局</td>\n",
       "      <td>2018年1月</td>\n",
       "      <td>104</td>\n",
       "      <td>67.0</td>\n",
       "      <td>NaN</td>\n",
       "      <td>NaN</td>\n",
       "      <td>NaN</td>\n",
       "      <td>0.014</td>\n",
       "      <td>1.21</td>\n",
       "    </tr>\n",
       "  </tbody>\n",
       "</table>\n",
       "</div>"
      ],
      "text/plain": [
       "     Name     Date  TSP  PM10  Chloride  Nitrate  Sulfate   Lead  Dust\n",
       "0   大社工業區  2018年1月   93   NaN       NaN      NaN      NaN  0.029  3.60\n",
       "1   大寮區公所  2018年1月   79   NaN       NaN      NaN      NaN  0.042  1.54\n",
       "2   大樹監測站  2018年1月   61   NaN       NaN      NaN      NaN  0.020  1.18\n",
       "3    仁武國中  2018年1月   79   NaN       NaN      NaN      NaN  0.058  2.68\n",
       "4  半屏山電信局  2018年1月  104  67.0       NaN      NaN      NaN  0.014  1.21"
      ]
     },
     "execution_count": 21,
     "metadata": {},
     "output_type": "execute_result"
    }
   ],
   "source": [
    "#df = pd.read_csv(\"2018_kh_data.csv\", encoding=\"utf8\", header=0)\n",
    "df = pd.read_csv(\"2018_kh_data.csv\", encoding=\"Big5\", header=0)\n",
    "df.head()"
   ]
  },
  {
   "cell_type": "code",
   "execution_count": 22,
   "id": "c1f6f7a7",
   "metadata": {},
   "outputs": [
    {
     "data": {
      "text/html": [
       "<div>\n",
       "<style scoped>\n",
       "    .dataframe tbody tr th:only-of-type {\n",
       "        vertical-align: middle;\n",
       "    }\n",
       "\n",
       "    .dataframe tbody tr th {\n",
       "        vertical-align: top;\n",
       "    }\n",
       "\n",
       "    .dataframe thead th {\n",
       "        text-align: right;\n",
       "    }\n",
       "</style>\n",
       "<table border=\"1\" class=\"dataframe\">\n",
       "  <thead>\n",
       "    <tr style=\"text-align: right;\">\n",
       "      <th></th>\n",
       "      <th>Name</th>\n",
       "      <th>Date</th>\n",
       "      <th>TSP</th>\n",
       "      <th>PM10</th>\n",
       "      <th>Chloride</th>\n",
       "      <th>Nitrate</th>\n",
       "      <th>Sulfate</th>\n",
       "      <th>Lead</th>\n",
       "      <th>Dust</th>\n",
       "    </tr>\n",
       "  </thead>\n",
       "  <tbody>\n",
       "    <tr>\n",
       "      <th>226</th>\n",
       "      <td>前鎮國小</td>\n",
       "      <td>2018年12月</td>\n",
       "      <td>111</td>\n",
       "      <td>68.0</td>\n",
       "      <td>6.65</td>\n",
       "      <td>25.6</td>\n",
       "      <td>18.5</td>\n",
       "      <td>0.043</td>\n",
       "      <td>2.38</td>\n",
       "    </tr>\n",
       "    <tr>\n",
       "      <th>227</th>\n",
       "      <td>莊敬國小</td>\n",
       "      <td>2018年12月</td>\n",
       "      <td>110</td>\n",
       "      <td>83.0</td>\n",
       "      <td>7.20</td>\n",
       "      <td>24.1</td>\n",
       "      <td>16.5</td>\n",
       "      <td>0.031</td>\n",
       "      <td>1.84</td>\n",
       "    </tr>\n",
       "    <tr>\n",
       "      <th>228</th>\n",
       "      <td>愛國國小</td>\n",
       "      <td>2018年12月</td>\n",
       "      <td>100</td>\n",
       "      <td>49.0</td>\n",
       "      <td>7.34</td>\n",
       "      <td>27.8</td>\n",
       "      <td>16.6</td>\n",
       "      <td>0.030</td>\n",
       "      <td>2.09</td>\n",
       "    </tr>\n",
       "    <tr>\n",
       "      <th>229</th>\n",
       "      <td>楠梓區清潔隊</td>\n",
       "      <td>2018年12月</td>\n",
       "      <td>84</td>\n",
       "      <td>52.0</td>\n",
       "      <td>1.74</td>\n",
       "      <td>14.4</td>\n",
       "      <td>10.6</td>\n",
       "      <td>0.001</td>\n",
       "      <td>2.49</td>\n",
       "    </tr>\n",
       "    <tr>\n",
       "      <th>230</th>\n",
       "      <td>路竹地政事務所</td>\n",
       "      <td>2018年12月</td>\n",
       "      <td>112</td>\n",
       "      <td>NaN</td>\n",
       "      <td>2.04</td>\n",
       "      <td>13.6</td>\n",
       "      <td>12.1</td>\n",
       "      <td>0.012</td>\n",
       "      <td>2.77</td>\n",
       "    </tr>\n",
       "    <tr>\n",
       "      <th>231</th>\n",
       "      <td>鼓山圖書分館</td>\n",
       "      <td>2018年12月</td>\n",
       "      <td>80</td>\n",
       "      <td>49.0</td>\n",
       "      <td>10.80</td>\n",
       "      <td>21.1</td>\n",
       "      <td>14.9</td>\n",
       "      <td>0.018</td>\n",
       "      <td>1.37</td>\n",
       "    </tr>\n",
       "    <tr>\n",
       "      <th>232</th>\n",
       "      <td>衛生局中正辦公室</td>\n",
       "      <td>2018年12月</td>\n",
       "      <td>93</td>\n",
       "      <td>46.0</td>\n",
       "      <td>9.53</td>\n",
       "      <td>20.0</td>\n",
       "      <td>14.9</td>\n",
       "      <td>0.012</td>\n",
       "      <td>1.95</td>\n",
       "    </tr>\n",
       "    <tr>\n",
       "      <th>233</th>\n",
       "      <td>環保局環境檢驗科</td>\n",
       "      <td>2018年12月</td>\n",
       "      <td>97</td>\n",
       "      <td>50.0</td>\n",
       "      <td>7.66</td>\n",
       "      <td>25.5</td>\n",
       "      <td>15.8</td>\n",
       "      <td>0.030</td>\n",
       "      <td>2.07</td>\n",
       "    </tr>\n",
       "  </tbody>\n",
       "</table>\n",
       "</div>"
      ],
      "text/plain": [
       "         Name      Date  TSP  PM10  Chloride  Nitrate  Sulfate   Lead  Dust\n",
       "226      前鎮國小  2018年12月  111  68.0      6.65     25.6     18.5  0.043  2.38\n",
       "227      莊敬國小  2018年12月  110  83.0      7.20     24.1     16.5  0.031  1.84\n",
       "228      愛國國小  2018年12月  100  49.0      7.34     27.8     16.6  0.030  2.09\n",
       "229    楠梓區清潔隊  2018年12月   84  52.0      1.74     14.4     10.6  0.001  2.49\n",
       "230   路竹地政事務所  2018年12月  112   NaN      2.04     13.6     12.1  0.012  2.77\n",
       "231    鼓山圖書分館  2018年12月   80  49.0     10.80     21.1     14.9  0.018  1.37\n",
       "232  衛生局中正辦公室  2018年12月   93  46.0      9.53     20.0     14.9  0.012  1.95\n",
       "233  環保局環境檢驗科  2018年12月   97  50.0      7.66     25.5     15.8  0.030  2.07"
      ]
     },
     "execution_count": 22,
     "metadata": {},
     "output_type": "execute_result"
    }
   ],
   "source": [
    "df.tail(8)"
   ]
  },
  {
   "cell_type": "code",
   "execution_count": 23,
   "id": "44c3c3a2",
   "metadata": {},
   "outputs": [
    {
     "data": {
      "text/html": [
       "<div>\n",
       "<style scoped>\n",
       "    .dataframe tbody tr th:only-of-type {\n",
       "        vertical-align: middle;\n",
       "    }\n",
       "\n",
       "    .dataframe tbody tr th {\n",
       "        vertical-align: top;\n",
       "    }\n",
       "\n",
       "    .dataframe thead th {\n",
       "        text-align: right;\n",
       "    }\n",
       "</style>\n",
       "<table border=\"1\" class=\"dataframe\">\n",
       "  <thead>\n",
       "    <tr style=\"text-align: right;\">\n",
       "      <th></th>\n",
       "      <th>Name</th>\n",
       "      <th>Date</th>\n",
       "      <th>TSP</th>\n",
       "      <th>PM10</th>\n",
       "      <th>Chloride</th>\n",
       "      <th>Nitrate</th>\n",
       "      <th>Sulfate</th>\n",
       "      <th>Lead</th>\n",
       "      <th>Dust</th>\n",
       "    </tr>\n",
       "  </thead>\n",
       "  <tbody>\n",
       "    <tr>\n",
       "      <th>0</th>\n",
       "      <td>大社工業區</td>\n",
       "      <td>2018年1月</td>\n",
       "      <td>93</td>\n",
       "      <td>NaN</td>\n",
       "      <td>NaN</td>\n",
       "      <td>NaN</td>\n",
       "      <td>NaN</td>\n",
       "      <td>0.029</td>\n",
       "      <td>3.60</td>\n",
       "    </tr>\n",
       "    <tr>\n",
       "      <th>1</th>\n",
       "      <td>大寮區公所</td>\n",
       "      <td>2018年1月</td>\n",
       "      <td>79</td>\n",
       "      <td>NaN</td>\n",
       "      <td>NaN</td>\n",
       "      <td>NaN</td>\n",
       "      <td>NaN</td>\n",
       "      <td>0.042</td>\n",
       "      <td>1.54</td>\n",
       "    </tr>\n",
       "    <tr>\n",
       "      <th>2</th>\n",
       "      <td>大樹監測站</td>\n",
       "      <td>2018年1月</td>\n",
       "      <td>61</td>\n",
       "      <td>NaN</td>\n",
       "      <td>NaN</td>\n",
       "      <td>NaN</td>\n",
       "      <td>NaN</td>\n",
       "      <td>0.020</td>\n",
       "      <td>1.18</td>\n",
       "    </tr>\n",
       "    <tr>\n",
       "      <th>3</th>\n",
       "      <td>仁武國中</td>\n",
       "      <td>2018年1月</td>\n",
       "      <td>79</td>\n",
       "      <td>NaN</td>\n",
       "      <td>NaN</td>\n",
       "      <td>NaN</td>\n",
       "      <td>NaN</td>\n",
       "      <td>0.058</td>\n",
       "      <td>2.68</td>\n",
       "    </tr>\n",
       "    <tr>\n",
       "      <th>4</th>\n",
       "      <td>半屏山電信局</td>\n",
       "      <td>2018年1月</td>\n",
       "      <td>104</td>\n",
       "      <td>67.0</td>\n",
       "      <td>NaN</td>\n",
       "      <td>NaN</td>\n",
       "      <td>NaN</td>\n",
       "      <td>0.014</td>\n",
       "      <td>1.21</td>\n",
       "    </tr>\n",
       "    <tr>\n",
       "      <th>...</th>\n",
       "      <td>...</td>\n",
       "      <td>...</td>\n",
       "      <td>...</td>\n",
       "      <td>...</td>\n",
       "      <td>...</td>\n",
       "      <td>...</td>\n",
       "      <td>...</td>\n",
       "      <td>...</td>\n",
       "      <td>...</td>\n",
       "    </tr>\n",
       "    <tr>\n",
       "      <th>228</th>\n",
       "      <td>愛國國小</td>\n",
       "      <td>2018年12月</td>\n",
       "      <td>100</td>\n",
       "      <td>49.0</td>\n",
       "      <td>7.34</td>\n",
       "      <td>27.8</td>\n",
       "      <td>16.6</td>\n",
       "      <td>0.030</td>\n",
       "      <td>2.09</td>\n",
       "    </tr>\n",
       "    <tr>\n",
       "      <th>229</th>\n",
       "      <td>楠梓區清潔隊</td>\n",
       "      <td>2018年12月</td>\n",
       "      <td>84</td>\n",
       "      <td>52.0</td>\n",
       "      <td>1.74</td>\n",
       "      <td>14.4</td>\n",
       "      <td>10.6</td>\n",
       "      <td>0.001</td>\n",
       "      <td>2.49</td>\n",
       "    </tr>\n",
       "    <tr>\n",
       "      <th>230</th>\n",
       "      <td>路竹地政事務所</td>\n",
       "      <td>2018年12月</td>\n",
       "      <td>112</td>\n",
       "      <td>NaN</td>\n",
       "      <td>2.04</td>\n",
       "      <td>13.6</td>\n",
       "      <td>12.1</td>\n",
       "      <td>0.012</td>\n",
       "      <td>2.77</td>\n",
       "    </tr>\n",
       "    <tr>\n",
       "      <th>231</th>\n",
       "      <td>鼓山圖書分館</td>\n",
       "      <td>2018年12月</td>\n",
       "      <td>80</td>\n",
       "      <td>49.0</td>\n",
       "      <td>10.80</td>\n",
       "      <td>21.1</td>\n",
       "      <td>14.9</td>\n",
       "      <td>0.018</td>\n",
       "      <td>1.37</td>\n",
       "    </tr>\n",
       "    <tr>\n",
       "      <th>232</th>\n",
       "      <td>衛生局中正辦公室</td>\n",
       "      <td>2018年12月</td>\n",
       "      <td>93</td>\n",
       "      <td>46.0</td>\n",
       "      <td>9.53</td>\n",
       "      <td>20.0</td>\n",
       "      <td>14.9</td>\n",
       "      <td>0.012</td>\n",
       "      <td>1.95</td>\n",
       "    </tr>\n",
       "  </tbody>\n",
       "</table>\n",
       "<p>233 rows × 9 columns</p>\n",
       "</div>"
      ],
      "text/plain": [
       "         Name      Date  TSP  PM10  Chloride  Nitrate  Sulfate   Lead  Dust\n",
       "0       大社工業區   2018年1月   93   NaN       NaN      NaN      NaN  0.029  3.60\n",
       "1       大寮區公所   2018年1月   79   NaN       NaN      NaN      NaN  0.042  1.54\n",
       "2       大樹監測站   2018年1月   61   NaN       NaN      NaN      NaN  0.020  1.18\n",
       "3        仁武國中   2018年1月   79   NaN       NaN      NaN      NaN  0.058  2.68\n",
       "4      半屏山電信局   2018年1月  104  67.0       NaN      NaN      NaN  0.014  1.21\n",
       "..        ...       ...  ...   ...       ...      ...      ...    ...   ...\n",
       "228      愛國國小  2018年12月  100  49.0      7.34     27.8     16.6  0.030  2.09\n",
       "229    楠梓區清潔隊  2018年12月   84  52.0      1.74     14.4     10.6  0.001  2.49\n",
       "230   路竹地政事務所  2018年12月  112   NaN      2.04     13.6     12.1  0.012  2.77\n",
       "231    鼓山圖書分館  2018年12月   80  49.0     10.80     21.1     14.9  0.018  1.37\n",
       "232  衛生局中正辦公室  2018年12月   93  46.0      9.53     20.0     14.9  0.012  1.95\n",
       "\n",
       "[233 rows x 9 columns]"
      ]
     },
     "execution_count": 23,
     "metadata": {},
     "output_type": "execute_result"
    }
   ],
   "source": [
    "df.drop(df.index[len(df.index)-1], inplace=True)\n",
    "df"
   ]
  },
  {
   "cell_type": "code",
   "execution_count": 24,
   "id": "b27ffecc",
   "metadata": {},
   "outputs": [
    {
     "data": {
      "text/plain": [
       "<AxesSubplot:>"
      ]
     },
     "execution_count": 24,
     "metadata": {},
     "output_type": "execute_result"
    },
    {
     "data": {
      "image/png": "[encoded data removed]",
      "text/plain": [
       "<Figure size 432x288 with 1 Axes>"
      ]
     },
     "metadata": {
      "needs_background": "light"
     },
     "output_type": "display_data"
    }
   ],
   "source": [
    "s = pd.Series(np.random.randn(10), index=np.arange(10))\n",
    "s.plot()"
   ]
  },
  {
   "cell_type": "code",
   "execution_count": 25,
   "id": "35942fff",
   "metadata": {},
   "outputs": [
    {
     "data": {
      "text/plain": [
       "0   -0.217685\n",
       "1    0.266217\n",
       "2   -0.475088\n",
       "3   -0.514258\n",
       "4    1.413729\n",
       "5    0.777285\n",
       "6    0.930540\n",
       "7    0.720572\n",
       "8   -0.271421\n",
       "9   -1.411083\n",
       "dtype: float64"
      ]
     },
     "execution_count": 25,
     "metadata": {},
     "output_type": "execute_result"
    }
   ],
   "source": [
    "s"
   ]
  },
  {
   "cell_type": "code",
   "execution_count": 26,
   "id": "835036ca",
   "metadata": {},
   "outputs": [
    {
     "data": {
      "text/plain": [
       "<AxesSubplot:>"
      ]
     },
     "execution_count": 26,
     "metadata": {},
     "output_type": "execute_result"
    },
    {
     "data": {
      "image/png": "[encoded data removed]",
      "text/plain": [
       "<Figure size 432x288 with 1 Axes>"
      ]
     },
     "metadata": {
      "needs_background": "light"
     },
     "output_type": "display_data"
    }
   ],
   "source": [
    "s.plot(kind=\"bar\")"
   ]
  },
  {
   "cell_type": "code",
   "execution_count": 27,
   "id": "2eeeeb0a",
   "metadata": {},
   "outputs": [
    {
     "data": {
      "text/plain": [
       "array([[-0.20274245,  0.19205485,  1.23812501, -0.03398943],\n",
       "       [-1.58505854,  1.04139292, -0.29105286,  0.75504148],\n",
       "       [ 0.52784299, -0.57517158, -0.03537196, -1.4655897 ],\n",
       "       [-0.81749813, -0.17308201,  0.14416563, -0.8750449 ],\n",
       "       [-1.98771533,  0.56790258,  0.05842973, -0.40818497],\n",
       "       [-1.21750353, -0.83468269, -3.16041344, -0.03059825],\n",
       "       [-1.10964544, -0.16337817,  3.13874924, -1.07868541],\n",
       "       [ 1.47963771,  1.06571395, -0.04984837,  1.35509152],\n",
       "       [ 1.02973561, -0.22357766,  1.42172723,  0.28054235],\n",
       "       [ 1.17052908,  0.44768506,  2.18014373, -1.51118932]])"
      ]
     },
     "execution_count": 27,
     "metadata": {},
     "output_type": "execute_result"
    }
   ],
   "source": [
    "np.random.randn(10, 4)"
   ]
  },
  {
   "cell_type": "code",
   "execution_count": 30,
   "id": "318b863b",
   "metadata": {},
   "outputs": [
    {
     "data": {
      "text/plain": [
       "<AxesSubplot:>"
      ]
     },
     "execution_count": 30,
     "metadata": {},
     "output_type": "execute_result"
    },
    {
     "data": {
      "image/png": "[encoded data removed]",
      "text/plain": [
       "<Figure size 432x288 with 1 Axes>"
      ]
     },
     "metadata": {
      "needs_background": "light"
     },
     "output_type": "display_data"
    }
   ],
   "source": [
    "df = pd.DataFrame(np.random.randn(10, 4), columns=list('ABCD'))\n",
    "df.plot()"
   ]
  },
  {
   "cell_type": "code",
   "execution_count": 29,
   "id": "9f4282f6",
   "metadata": {},
   "outputs": [
    {
     "data": {
      "text/plain": [
       "<AxesSubplot:>"
      ]
     },
     "execution_count": 29,
     "metadata": {},
     "output_type": "execute_result"
    },
    {
     "data": {
      "image/png": "[encoded data removed]",
      "text/plain": [
       "<Figure size 432x288 with 1 Axes>"
      ]
     },
     "metadata": {
      "needs_background": "light"
     },
     "output_type": "display_data"
    }
   ],
   "source": [
    "df.plot(kind='bar')"
   ]
  },
  {
   "cell_type": "code",
   "execution_count": 33,
   "id": "5f5f292e",
   "metadata": {},
   "outputs": [
    {
     "data": {
      "text/html": [
       "<div>\n",
       "<style scoped>\n",
       "    .dataframe tbody tr th:only-of-type {\n",
       "        vertical-align: middle;\n",
       "    }\n",
       "\n",
       "    .dataframe tbody tr th {\n",
       "        vertical-align: top;\n",
       "    }\n",
       "\n",
       "    .dataframe thead th {\n",
       "        text-align: right;\n",
       "    }\n",
       "</style>\n",
       "<table border=\"1\" class=\"dataframe\">\n",
       "  <thead>\n",
       "    <tr style=\"text-align: right;\">\n",
       "      <th></th>\n",
       "      <th>date</th>\n",
       "      <th>close</th>\n",
       "      <th>volume</th>\n",
       "    </tr>\n",
       "  </thead>\n",
       "  <tbody>\n",
       "    <tr>\n",
       "      <th>0</th>\n",
       "      <td>2020-01-02</td>\n",
       "      <td>339.0</td>\n",
       "      <td>31754120.0</td>\n",
       "    </tr>\n",
       "    <tr>\n",
       "      <th>1</th>\n",
       "      <td>2020-01-03</td>\n",
       "      <td>339.5</td>\n",
       "      <td>41811268.0</td>\n",
       "    </tr>\n",
       "    <tr>\n",
       "      <th>2</th>\n",
       "      <td>2020-01-06</td>\n",
       "      <td>332.0</td>\n",
       "      <td>45343057.0</td>\n",
       "    </tr>\n",
       "    <tr>\n",
       "      <th>3</th>\n",
       "      <td>2020-01-07</td>\n",
       "      <td>329.5</td>\n",
       "      <td>50879181.0</td>\n",
       "    </tr>\n",
       "    <tr>\n",
       "      <th>4</th>\n",
       "      <td>2020-01-08</td>\n",
       "      <td>329.5</td>\n",
       "      <td>37567748.0</td>\n",
       "    </tr>\n",
       "    <tr>\n",
       "      <th>...</th>\n",
       "      <td>...</td>\n",
       "      <td>...</td>\n",
       "      <td>...</td>\n",
       "    </tr>\n",
       "    <tr>\n",
       "      <th>117</th>\n",
       "      <td>2020-07-02</td>\n",
       "      <td>322.0</td>\n",
       "      <td>34526178.0</td>\n",
       "    </tr>\n",
       "    <tr>\n",
       "      <th>118</th>\n",
       "      <td>2020-07-03</td>\n",
       "      <td>329.5</td>\n",
       "      <td>53341987.0</td>\n",
       "    </tr>\n",
       "    <tr>\n",
       "      <th>119</th>\n",
       "      <td>2020-07-06</td>\n",
       "      <td>338.0</td>\n",
       "      <td>57256220.0</td>\n",
       "    </tr>\n",
       "    <tr>\n",
       "      <th>120</th>\n",
       "      <td>2020-07-07</td>\n",
       "      <td>338.5</td>\n",
       "      <td>59046323.0</td>\n",
       "    </tr>\n",
       "    <tr>\n",
       "      <th>121</th>\n",
       "      <td>2020-07-08</td>\n",
       "      <td>341.0</td>\n",
       "      <td>30538000.0</td>\n",
       "    </tr>\n",
       "  </tbody>\n",
       "</table>\n",
       "<p>122 rows × 3 columns</p>\n",
       "</div>"
      ],
      "text/plain": [
       "           date  close      volume\n",
       "0    2020-01-02  339.0  31754120.0\n",
       "1    2020-01-03  339.5  41811268.0\n",
       "2    2020-01-06  332.0  45343057.0\n",
       "3    2020-01-07  329.5  50879181.0\n",
       "4    2020-01-08  329.5  37567748.0\n",
       "..          ...    ...         ...\n",
       "117  2020-07-02  322.0  34526178.0\n",
       "118  2020-07-03  329.5  53341987.0\n",
       "119  2020-07-06  338.0  57256220.0\n",
       "120  2020-07-07  338.5  59046323.0\n",
       "121  2020-07-08  341.0  30538000.0\n",
       "\n",
       "[122 rows x 3 columns]"
      ]
     },
     "execution_count": 33,
     "metadata": {},
     "output_type": "execute_result"
    }
   ],
   "source": [
    "df = pd.read_csv(\"stock_data.csv\", encoding=\"Big5\", header=0)\n",
    "df"
   ]
  },
  {
   "cell_type": "code",
   "execution_count": 34,
   "id": "98750804",
   "metadata": {},
   "outputs": [
    {
     "data": {
      "text/plain": [
       "<AxesSubplot:>"
      ]
     },
     "execution_count": 34,
     "metadata": {},
     "output_type": "execute_result"
    },
    {
     "data": {
      "image/png": "[encoded data removed]",
      "text/plain": [
       "<Figure size 432x288 with 1 Axes>"
      ]
     },
     "metadata": {
      "needs_background": "light"
     },
     "output_type": "display_data"
    }
   ],
   "source": [
    "df.plot()"
   ]
  },
  {
   "cell_type": "code",
   "execution_count": 35,
   "id": "4de68282",
   "metadata": {},
   "outputs": [
    {
     "data": {
      "text/plain": [
       "<AxesSubplot:>"
      ]
     },
     "execution_count": 35,
     "metadata": {},
     "output_type": "execute_result"
    },
    {
     "data": {
      "image/png": "[encoded data removed]",
      "text/plain": [
       "<Figure size 432x288 with 1 Axes>"
      ]
     },
     "metadata": {
      "needs_background": "light"
     },
     "output_type": "display_data"
    }
   ],
   "source": [
    "df['close'].plot()"
   ]
  },
  {
   "cell_type": "code",
   "execution_count": 37,
   "id": "38c89cb8",
   "metadata": {},
   "outputs": [
    {
     "data": {
      "text/html": [
       "<div>\n",
       "<style scoped>\n",
       "    .dataframe tbody tr th:only-of-type {\n",
       "        vertical-align: middle;\n",
       "    }\n",
       "\n",
       "    .dataframe tbody tr th {\n",
       "        vertical-align: top;\n",
       "    }\n",
       "\n",
       "    .dataframe thead th {\n",
       "        text-align: right;\n",
       "    }\n",
       "</style>\n",
       "<table border=\"1\" class=\"dataframe\">\n",
       "  <thead>\n",
       "    <tr style=\"text-align: right;\">\n",
       "      <th></th>\n",
       "      <th>No1</th>\n",
       "      <th>No2</th>\n",
       "      <th>No3</th>\n",
       "      <th>No4</th>\n",
       "    </tr>\n",
       "  </thead>\n",
       "  <tbody>\n",
       "    <tr>\n",
       "      <th>0</th>\n",
       "      <td>-0.502590</td>\n",
       "      <td>0.349760</td>\n",
       "      <td>0.267843</td>\n",
       "      <td>0.947522</td>\n",
       "    </tr>\n",
       "    <tr>\n",
       "      <th>1</th>\n",
       "      <td>0.080140</td>\n",
       "      <td>-0.080038</td>\n",
       "      <td>-0.116567</td>\n",
       "      <td>-1.035111</td>\n",
       "    </tr>\n",
       "    <tr>\n",
       "      <th>2</th>\n",
       "      <td>-1.243415</td>\n",
       "      <td>-0.009749</td>\n",
       "      <td>0.452852</td>\n",
       "      <td>0.320138</td>\n",
       "    </tr>\n",
       "    <tr>\n",
       "      <th>3</th>\n",
       "      <td>-0.946359</td>\n",
       "      <td>1.211611</td>\n",
       "      <td>0.431507</td>\n",
       "      <td>-0.849263</td>\n",
       "    </tr>\n",
       "    <tr>\n",
       "      <th>4</th>\n",
       "      <td>-0.198279</td>\n",
       "      <td>-1.243407</td>\n",
       "      <td>-0.816789</td>\n",
       "      <td>-1.958511</td>\n",
       "    </tr>\n",
       "    <tr>\n",
       "      <th>5</th>\n",
       "      <td>1.753816</td>\n",
       "      <td>1.800460</td>\n",
       "      <td>0.560791</td>\n",
       "      <td>0.518399</td>\n",
       "    </tr>\n",
       "    <tr>\n",
       "      <th>6</th>\n",
       "      <td>0.330205</td>\n",
       "      <td>1.030986</td>\n",
       "      <td>0.648110</td>\n",
       "      <td>0.104246</td>\n",
       "    </tr>\n",
       "    <tr>\n",
       "      <th>7</th>\n",
       "      <td>-0.727640</td>\n",
       "      <td>1.550546</td>\n",
       "      <td>-1.081842</td>\n",
       "      <td>-2.252756</td>\n",
       "    </tr>\n",
       "    <tr>\n",
       "      <th>8</th>\n",
       "      <td>-0.343107</td>\n",
       "      <td>2.820922</td>\n",
       "      <td>-1.048744</td>\n",
       "      <td>-0.007035</td>\n",
       "    </tr>\n",
       "    <tr>\n",
       "      <th>9</th>\n",
       "      <td>-0.360270</td>\n",
       "      <td>0.394095</td>\n",
       "      <td>-1.896612</td>\n",
       "      <td>-0.167097</td>\n",
       "    </tr>\n",
       "  </tbody>\n",
       "</table>\n",
       "</div>"
      ],
      "text/plain": [
       "        No1       No2       No3       No4\n",
       "0 -0.502590  0.349760  0.267843  0.947522\n",
       "1  0.080140 -0.080038 -0.116567 -1.035111\n",
       "2 -1.243415 -0.009749  0.452852  0.320138\n",
       "3 -0.946359  1.211611  0.431507 -0.849263\n",
       "4 -0.198279 -1.243407 -0.816789 -1.958511\n",
       "5  1.753816  1.800460  0.560791  0.518399\n",
       "6  0.330205  1.030986  0.648110  0.104246\n",
       "7 -0.727640  1.550546 -1.081842 -2.252756\n",
       "8 -0.343107  2.820922 -1.048744 -0.007035\n",
       "9 -0.360270  0.394095 -1.896612 -0.167097"
      ]
     },
     "execution_count": 37,
     "metadata": {},
     "output_type": "execute_result"
    }
   ],
   "source": [
    "data = np.random.randn(10, 4)\n",
    "df = pd.DataFrame(data, columns=['No1', 'No2', 'No3', 'No4'])\n",
    "df"
   ]
  },
  {
   "cell_type": "code",
   "execution_count": 38,
   "id": "c4f6d133",
   "metadata": {},
   "outputs": [
    {
     "data": {
      "text/html": [
       "<div>\n",
       "<style scoped>\n",
       "    .dataframe tbody tr th:only-of-type {\n",
       "        vertical-align: middle;\n",
       "    }\n",
       "\n",
       "    .dataframe tbody tr th {\n",
       "        vertical-align: top;\n",
       "    }\n",
       "\n",
       "    .dataframe thead th {\n",
       "        text-align: right;\n",
       "    }\n",
       "</style>\n",
       "<table border=\"1\" class=\"dataframe\">\n",
       "  <thead>\n",
       "    <tr style=\"text-align: right;\">\n",
       "      <th></th>\n",
       "      <th>No1</th>\n",
       "      <th>No2</th>\n",
       "      <th>No3</th>\n",
       "      <th>No4</th>\n",
       "      <th>Category</th>\n",
       "    </tr>\n",
       "  </thead>\n",
       "  <tbody>\n",
       "    <tr>\n",
       "      <th>0</th>\n",
       "      <td>-0.502590</td>\n",
       "      <td>0.349760</td>\n",
       "      <td>0.267843</td>\n",
       "      <td>0.947522</td>\n",
       "      <td>NaN</td>\n",
       "    </tr>\n",
       "    <tr>\n",
       "      <th>1</th>\n",
       "      <td>0.080140</td>\n",
       "      <td>-0.080038</td>\n",
       "      <td>-0.116567</td>\n",
       "      <td>-1.035111</td>\n",
       "      <td>NaN</td>\n",
       "    </tr>\n",
       "    <tr>\n",
       "      <th>2</th>\n",
       "      <td>-1.243415</td>\n",
       "      <td>-0.009749</td>\n",
       "      <td>0.452852</td>\n",
       "      <td>0.320138</td>\n",
       "      <td>NaN</td>\n",
       "    </tr>\n",
       "    <tr>\n",
       "      <th>3</th>\n",
       "      <td>-0.946359</td>\n",
       "      <td>1.211611</td>\n",
       "      <td>0.431507</td>\n",
       "      <td>-0.849263</td>\n",
       "      <td>NaN</td>\n",
       "    </tr>\n",
       "    <tr>\n",
       "      <th>4</th>\n",
       "      <td>-0.198279</td>\n",
       "      <td>-1.243407</td>\n",
       "      <td>-0.816789</td>\n",
       "      <td>-1.958511</td>\n",
       "      <td>NaN</td>\n",
       "    </tr>\n",
       "    <tr>\n",
       "      <th>5</th>\n",
       "      <td>1.753816</td>\n",
       "      <td>1.800460</td>\n",
       "      <td>0.560791</td>\n",
       "      <td>0.518399</td>\n",
       "      <td>NaN</td>\n",
       "    </tr>\n",
       "    <tr>\n",
       "      <th>6</th>\n",
       "      <td>0.330205</td>\n",
       "      <td>1.030986</td>\n",
       "      <td>0.648110</td>\n",
       "      <td>0.104246</td>\n",
       "      <td>NaN</td>\n",
       "    </tr>\n",
       "    <tr>\n",
       "      <th>7</th>\n",
       "      <td>-0.727640</td>\n",
       "      <td>1.550546</td>\n",
       "      <td>-1.081842</td>\n",
       "      <td>-2.252756</td>\n",
       "      <td>NaN</td>\n",
       "    </tr>\n",
       "    <tr>\n",
       "      <th>8</th>\n",
       "      <td>-0.343107</td>\n",
       "      <td>2.820922</td>\n",
       "      <td>-1.048744</td>\n",
       "      <td>-0.007035</td>\n",
       "      <td>NaN</td>\n",
       "    </tr>\n",
       "    <tr>\n",
       "      <th>9</th>\n",
       "      <td>-0.360270</td>\n",
       "      <td>0.394095</td>\n",
       "      <td>-1.896612</td>\n",
       "      <td>-0.167097</td>\n",
       "      <td>NaN</td>\n",
       "    </tr>\n",
       "  </tbody>\n",
       "</table>\n",
       "</div>"
      ],
      "text/plain": [
       "        No1       No2       No3       No4  Category\n",
       "0 -0.502590  0.349760  0.267843  0.947522       NaN\n",
       "1  0.080140 -0.080038 -0.116567 -1.035111       NaN\n",
       "2 -1.243415 -0.009749  0.452852  0.320138       NaN\n",
       "3 -0.946359  1.211611  0.431507 -0.849263       NaN\n",
       "4 -0.198279 -1.243407 -0.816789 -1.958511       NaN\n",
       "5  1.753816  1.800460  0.560791  0.518399       NaN\n",
       "6  0.330205  1.030986  0.648110  0.104246       NaN\n",
       "7 -0.727640  1.550546 -1.081842 -2.252756       NaN\n",
       "8 -0.343107  2.820922 -1.048744 -0.007035       NaN\n",
       "9 -0.360270  0.394095 -1.896612 -0.167097       NaN"
      ]
     },
     "execution_count": 38,
     "metadata": {},
     "output_type": "execute_result"
    }
   ],
   "source": [
    "df['Category'] = np.NaN\n",
    "df"
   ]
  },
  {
   "cell_type": "code",
   "execution_count": 39,
   "id": "091f784c",
   "metadata": {},
   "outputs": [
    {
     "data": {
      "text/plain": [
       "['C1', 'C1', 'C1', 'C2', 'C2', 'C2', 'C2', 'C2', 'C3', 'C3']"
      ]
     },
     "execution_count": 39,
     "metadata": {},
     "output_type": "execute_result"
    }
   ],
   "source": [
    "clist = ['C1'] * 3 + ['C2'] * 5 + ['C3'] * 2\n",
    "\n",
    "clist"
   ]
  },
  {
   "cell_type": "code",
   "execution_count": 40,
   "id": "257e656d",
   "metadata": {},
   "outputs": [
    {
     "data": {
      "text/html": [
       "<div>\n",
       "<style scoped>\n",
       "    .dataframe tbody tr th:only-of-type {\n",
       "        vertical-align: middle;\n",
       "    }\n",
       "\n",
       "    .dataframe tbody tr th {\n",
       "        vertical-align: top;\n",
       "    }\n",
       "\n",
       "    .dataframe thead th {\n",
       "        text-align: right;\n",
       "    }\n",
       "</style>\n",
       "<table border=\"1\" class=\"dataframe\">\n",
       "  <thead>\n",
       "    <tr style=\"text-align: right;\">\n",
       "      <th></th>\n",
       "      <th>No1</th>\n",
       "      <th>No2</th>\n",
       "      <th>No3</th>\n",
       "      <th>No4</th>\n",
       "      <th>Category</th>\n",
       "    </tr>\n",
       "  </thead>\n",
       "  <tbody>\n",
       "    <tr>\n",
       "      <th>0</th>\n",
       "      <td>-0.502590</td>\n",
       "      <td>0.349760</td>\n",
       "      <td>0.267843</td>\n",
       "      <td>0.947522</td>\n",
       "      <td>C2</td>\n",
       "    </tr>\n",
       "    <tr>\n",
       "      <th>1</th>\n",
       "      <td>0.080140</td>\n",
       "      <td>-0.080038</td>\n",
       "      <td>-0.116567</td>\n",
       "      <td>-1.035111</td>\n",
       "      <td>C1</td>\n",
       "    </tr>\n",
       "    <tr>\n",
       "      <th>2</th>\n",
       "      <td>-1.243415</td>\n",
       "      <td>-0.009749</td>\n",
       "      <td>0.452852</td>\n",
       "      <td>0.320138</td>\n",
       "      <td>C2</td>\n",
       "    </tr>\n",
       "    <tr>\n",
       "      <th>3</th>\n",
       "      <td>-0.946359</td>\n",
       "      <td>1.211611</td>\n",
       "      <td>0.431507</td>\n",
       "      <td>-0.849263</td>\n",
       "      <td>C2</td>\n",
       "    </tr>\n",
       "    <tr>\n",
       "      <th>4</th>\n",
       "      <td>-0.198279</td>\n",
       "      <td>-1.243407</td>\n",
       "      <td>-0.816789</td>\n",
       "      <td>-1.958511</td>\n",
       "      <td>C3</td>\n",
       "    </tr>\n",
       "    <tr>\n",
       "      <th>5</th>\n",
       "      <td>1.753816</td>\n",
       "      <td>1.800460</td>\n",
       "      <td>0.560791</td>\n",
       "      <td>0.518399</td>\n",
       "      <td>C2</td>\n",
       "    </tr>\n",
       "    <tr>\n",
       "      <th>6</th>\n",
       "      <td>0.330205</td>\n",
       "      <td>1.030986</td>\n",
       "      <td>0.648110</td>\n",
       "      <td>0.104246</td>\n",
       "      <td>C1</td>\n",
       "    </tr>\n",
       "    <tr>\n",
       "      <th>7</th>\n",
       "      <td>-0.727640</td>\n",
       "      <td>1.550546</td>\n",
       "      <td>-1.081842</td>\n",
       "      <td>-2.252756</td>\n",
       "      <td>C1</td>\n",
       "    </tr>\n",
       "    <tr>\n",
       "      <th>8</th>\n",
       "      <td>-0.343107</td>\n",
       "      <td>2.820922</td>\n",
       "      <td>-1.048744</td>\n",
       "      <td>-0.007035</td>\n",
       "      <td>C3</td>\n",
       "    </tr>\n",
       "    <tr>\n",
       "      <th>9</th>\n",
       "      <td>-0.360270</td>\n",
       "      <td>0.394095</td>\n",
       "      <td>-1.896612</td>\n",
       "      <td>-0.167097</td>\n",
       "      <td>C2</td>\n",
       "    </tr>\n",
       "  </tbody>\n",
       "</table>\n",
       "</div>"
      ],
      "text/plain": [
       "        No1       No2       No3       No4 Category\n",
       "0 -0.502590  0.349760  0.267843  0.947522       C2\n",
       "1  0.080140 -0.080038 -0.116567 -1.035111       C1\n",
       "2 -1.243415 -0.009749  0.452852  0.320138       C2\n",
       "3 -0.946359  1.211611  0.431507 -0.849263       C2\n",
       "4 -0.198279 -1.243407 -0.816789 -1.958511       C3\n",
       "5  1.753816  1.800460  0.560791  0.518399       C2\n",
       "6  0.330205  1.030986  0.648110  0.104246       C1\n",
       "7 -0.727640  1.550546 -1.081842 -2.252756       C1\n",
       "8 -0.343107  2.820922 -1.048744 -0.007035       C3\n",
       "9 -0.360270  0.394095 -1.896612 -0.167097       C2"
      ]
     },
     "execution_count": 40,
     "metadata": {},
     "output_type": "execute_result"
    }
   ],
   "source": [
    "df['Category'] = np.random.permutation(clist) #隨機插入\n",
    "df"
   ]
  },
  {
   "cell_type": "code",
   "execution_count": 42,
   "id": "838c131a",
   "metadata": {},
   "outputs": [
    {
     "data": {
      "text/plain": [
       "<pandas.core.groupby.generic.DataFrameGroupBy object at 0x0000021364956BB0>"
      ]
     },
     "execution_count": 42,
     "metadata": {},
     "output_type": "execute_result"
    }
   ],
   "source": [
    "groups = df.groupby('Category')\n",
    "groups"
   ]
  },
  {
   "cell_type": "code",
   "execution_count": 43,
   "id": "0f743c48",
   "metadata": {},
   "outputs": [
    {
     "data": {
      "text/html": [
       "<div>\n",
       "<style scoped>\n",
       "    .dataframe tbody tr th:only-of-type {\n",
       "        vertical-align: middle;\n",
       "    }\n",
       "\n",
       "    .dataframe tbody tr th {\n",
       "        vertical-align: top;\n",
       "    }\n",
       "\n",
       "    .dataframe thead th {\n",
       "        text-align: right;\n",
       "    }\n",
       "</style>\n",
       "<table border=\"1\" class=\"dataframe\">\n",
       "  <thead>\n",
       "    <tr style=\"text-align: right;\">\n",
       "      <th></th>\n",
       "      <th>No1</th>\n",
       "      <th>No2</th>\n",
       "      <th>No3</th>\n",
       "      <th>No4</th>\n",
       "    </tr>\n",
       "    <tr>\n",
       "      <th>Category</th>\n",
       "      <th></th>\n",
       "      <th></th>\n",
       "      <th></th>\n",
       "      <th></th>\n",
       "    </tr>\n",
       "  </thead>\n",
       "  <tbody>\n",
       "    <tr>\n",
       "      <th>C1</th>\n",
       "      <td>-0.105765</td>\n",
       "      <td>0.833832</td>\n",
       "      <td>-0.183433</td>\n",
       "      <td>-1.061207</td>\n",
       "    </tr>\n",
       "    <tr>\n",
       "      <th>C2</th>\n",
       "      <td>-0.259764</td>\n",
       "      <td>0.749235</td>\n",
       "      <td>-0.036724</td>\n",
       "      <td>0.153940</td>\n",
       "    </tr>\n",
       "    <tr>\n",
       "      <th>C3</th>\n",
       "      <td>-0.270693</td>\n",
       "      <td>0.788757</td>\n",
       "      <td>-0.932766</td>\n",
       "      <td>-0.982773</td>\n",
       "    </tr>\n",
       "  </tbody>\n",
       "</table>\n",
       "</div>"
      ],
      "text/plain": [
       "               No1       No2       No3       No4\n",
       "Category                                        \n",
       "C1       -0.105765  0.833832 -0.183433 -1.061207\n",
       "C2       -0.259764  0.749235 -0.036724  0.153940\n",
       "C3       -0.270693  0.788757 -0.932766 -0.982773"
      ]
     },
     "execution_count": 43,
     "metadata": {},
     "output_type": "execute_result"
    }
   ],
   "source": [
    "groups.mean()"
   ]
  },
  {
   "cell_type": "code",
   "execution_count": null,
   "id": "77f6119f",
   "metadata": {},
   "outputs": [],
   "source": []
  },
  {
   "cell_type": "code",
   "execution_count": null,
   "id": "62779d09",
   "metadata": {},
   "outputs": [],
   "source": []
  }
 ],
 "metadata": {
  "kernelspec": {
   "display_name": "Python 3 (ipykernel)",
   "language": "python",
   "name": "python3"
  },
  "language_info": {
   "codemirror_mode": {
    "name": "ipython",
    "version": 3
   },
   "file_extension": ".py",
   "mimetype": "text/x-python",
   "name": "python",
   "nbconvert_exporter": "python",
   "pygments_lexer": "ipython3",
   "version": "3.9.12"
  }
 },
 "nbformat": 4,
 "nbformat_minor": 5
}
