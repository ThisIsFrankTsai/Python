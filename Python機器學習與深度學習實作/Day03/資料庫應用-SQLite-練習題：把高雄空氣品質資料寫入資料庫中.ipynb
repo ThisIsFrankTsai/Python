{
 "cells": [
  {
   "cell_type": "code",
   "execution_count": 7,
   "id": "de36a494",
   "metadata": {},
   "outputs": [
    {
     "data": {
      "text/plain": [
       "{'context': <sqlalchemy.dialects.sqlite.base.SQLiteExecutionContext at 0x21fb89a2850>,\n",
       " 'dialect': <sqlalchemy.dialects.sqlite.pysqlite.SQLiteDialect_pysqlite at 0x21fb89c73a0>,\n",
       " 'cursor': None,\n",
       " 'cursor_strategy': <sqlalchemy.engine.cursor.NoCursorDMLFetchStrategy at 0x21fb89530e0>,\n",
       " 'connection': <sqlalchemy.engine.base.Connection at 0x21fb89a2fa0>,\n",
       " '_echo': False,\n",
       " '_metadata': <sqlalchemy.engine.cursor._LegacyNoResultMetaData at 0x21fb8907f10>,\n",
       " 'rowcount': -1,\n",
       " '_soft_closed': True}"
      ]
     },
     "execution_count": 7,
     "metadata": {},
     "output_type": "execute_result"
    }
   ],
   "source": [
    "from sqlalchemy import create_engine\n",
    "\n",
    "#my_db = create_engine(mysql_db_url)\n",
    "my_db = create_engine('sqlite:///frank_foo.db')\n",
    "\n",
    "table_name = 'Frank_test0914'\n",
    "sql_cmd_str = \"CREATE TABLE IF NOT EXISTS %s(dtime varchar(20) PRIMARY KEY, temp float)\" %(table_name)\n",
    "resultProxy = my_db.execute(sql_cmd_str)\n",
    "resultProxy.__dict__"
   ]
  },
  {
   "cell_type": "code",
   "execution_count": 8,
   "id": "7648810c",
   "metadata": {},
   "outputs": [
    {
     "name": "stdout",
     "output_type": "stream",
     "text": [
      "2022-08-01 08:00:00 37.0\n",
      "2022-08-02 08:00:00 37.5\n",
      "2022-08-03 08:00:00 37.5\n",
      "2022-08-04 08:00:00 36.9\n",
      "2022-08-05 08:00:00 36.8\n",
      "2022-08-06 08:00:00 35.0\n",
      "2022-08-07 08:00:00 36.0\n",
      "2022-08-08 08:00:00 37.1\n",
      "2022-08-09 08:00:00 36.0\n",
      "2022-08-10 08:00:00 37.0\n"
     ]
    }
   ],
   "source": [
    "#建立資料\n",
    "import datetime\n",
    "import random\n",
    "\n",
    "dt1 = datetime.datetime.strptime('2022-08-01 08:00:00','%Y-%m-%d %H:%M:%S') #把時間字串轉為datetime物件\n",
    "for i in range(10):\n",
    "    str_dt = (dt1+datetime.timedelta(days=i)).strftime('%Y-%m-%d %H:%M:%S')\n",
    "    temp = random.randint(350, 375)/10\n",
    "    print(str_dt, temp)\n",
    "    "
   ]
  },
  {
   "cell_type": "code",
   "execution_count": 9,
   "id": "7d0861e5",
   "metadata": {},
   "outputs": [],
   "source": [
    "#插入\n",
    "import datetime\n",
    "import random\n",
    "\n",
    "dt1 = datetime.datetime.strptime('2022-08-01 08:00:00','%Y-%m-%d %H:%M:%S') #把時間字串轉為datetime物件\n",
    "for i in range(10):\n",
    "    str_dt = (dt1+datetime.timedelta(days=i)).strftime('%Y-%m-%d %H:%M:%S')\n",
    "    temp = random.randint(350, 375)/10\n",
    "    #print(str_dt, temp)\n",
    "    sql_cmd_str = \"insert into %s (dtime, temp) values('%s', '%s')\" %(table_name, str_dt, temp)\n",
    "    resultProxy=my_db.execute(sql_cmd_str)\n"
   ]
  },
  {
   "cell_type": "code",
   "execution_count": 10,
   "id": "457a93ac",
   "metadata": {},
   "outputs": [
    {
     "ename": "IntegrityError",
     "evalue": "(sqlite3.IntegrityError) UNIQUE constraint failed: Frank_test0914.dtime\n[SQL: insert into Frank_test0914 (dtime, temp) values('2022-08-01 08:00:00', '36.0')]\n(Background on this error at: https://sqlalche.me/e/14/gkpj)",
     "output_type": "error",
     "traceback": [
      "\u001b[1;31m---------------------------------------------------------------------------\u001b[0m",
      "\u001b[1;31mIntegrityError\u001b[0m                            Traceback (most recent call last)",
      "File \u001b[1;32m~\\anaconda3\\lib\\site-packages\\sqlalchemy\\engine\\base.py:1808\u001b[0m, in \u001b[0;36mConnection._execute_context\u001b[1;34m(self, dialect, constructor, statement, parameters, execution_options, *args, **kw)\u001b[0m\n\u001b[0;32m   1807\u001b[0m     \u001b[38;5;28;01mif\u001b[39;00m \u001b[38;5;129;01mnot\u001b[39;00m evt_handled:\n\u001b[1;32m-> 1808\u001b[0m         \u001b[38;5;28;43mself\u001b[39;49m\u001b[38;5;241;43m.\u001b[39;49m\u001b[43mdialect\u001b[49m\u001b[38;5;241;43m.\u001b[39;49m\u001b[43mdo_execute\u001b[49m\u001b[43m(\u001b[49m\n\u001b[0;32m   1809\u001b[0m \u001b[43m            \u001b[49m\u001b[43mcursor\u001b[49m\u001b[43m,\u001b[49m\u001b[43m \u001b[49m\u001b[43mstatement\u001b[49m\u001b[43m,\u001b[49m\u001b[43m \u001b[49m\u001b[43mparameters\u001b[49m\u001b[43m,\u001b[49m\u001b[43m \u001b[49m\u001b[43mcontext\u001b[49m\n\u001b[0;32m   1810\u001b[0m \u001b[43m        \u001b[49m\u001b[43m)\u001b[49m\n\u001b[0;32m   1812\u001b[0m \u001b[38;5;28;01mif\u001b[39;00m \u001b[38;5;28mself\u001b[39m\u001b[38;5;241m.\u001b[39m_has_events \u001b[38;5;129;01mor\u001b[39;00m \u001b[38;5;28mself\u001b[39m\u001b[38;5;241m.\u001b[39mengine\u001b[38;5;241m.\u001b[39m_has_events:\n",
      "File \u001b[1;32m~\\anaconda3\\lib\\site-packages\\sqlalchemy\\engine\\default.py:732\u001b[0m, in \u001b[0;36mDefaultDialect.do_execute\u001b[1;34m(self, cursor, statement, parameters, context)\u001b[0m\n\u001b[0;32m    731\u001b[0m \u001b[38;5;28;01mdef\u001b[39;00m \u001b[38;5;21mdo_execute\u001b[39m(\u001b[38;5;28mself\u001b[39m, cursor, statement, parameters, context\u001b[38;5;241m=\u001b[39m\u001b[38;5;28;01mNone\u001b[39;00m):\n\u001b[1;32m--> 732\u001b[0m     \u001b[43mcursor\u001b[49m\u001b[38;5;241;43m.\u001b[39;49m\u001b[43mexecute\u001b[49m\u001b[43m(\u001b[49m\u001b[43mstatement\u001b[49m\u001b[43m,\u001b[49m\u001b[43m \u001b[49m\u001b[43mparameters\u001b[49m\u001b[43m)\u001b[49m\n",
      "\u001b[1;31mIntegrityError\u001b[0m: UNIQUE constraint failed: Frank_test0914.dtime",
      "\nThe above exception was the direct cause of the following exception:\n",
      "\u001b[1;31mIntegrityError\u001b[0m                            Traceback (most recent call last)",
      "Input \u001b[1;32mIn [10]\u001b[0m, in \u001b[0;36m<cell line: 3>\u001b[1;34m()\u001b[0m\n\u001b[0;32m      6\u001b[0m \u001b[38;5;66;03m#print(str_dt, temp)\u001b[39;00m\n\u001b[0;32m      7\u001b[0m sql_cmd_str \u001b[38;5;241m=\u001b[39m \u001b[38;5;124m\"\u001b[39m\u001b[38;5;124minsert into \u001b[39m\u001b[38;5;132;01m%s\u001b[39;00m\u001b[38;5;124m (dtime, temp) values(\u001b[39m\u001b[38;5;124m'\u001b[39m\u001b[38;5;132;01m%s\u001b[39;00m\u001b[38;5;124m'\u001b[39m\u001b[38;5;124m, \u001b[39m\u001b[38;5;124m'\u001b[39m\u001b[38;5;132;01m%s\u001b[39;00m\u001b[38;5;124m'\u001b[39m\u001b[38;5;124m)\u001b[39m\u001b[38;5;124m\"\u001b[39m \u001b[38;5;241m%\u001b[39m(table_name, str_dt, temp)\n\u001b[1;32m----> 8\u001b[0m resultProxy\u001b[38;5;241m=\u001b[39m\u001b[43mmy_db\u001b[49m\u001b[38;5;241;43m.\u001b[39;49m\u001b[43mexecute\u001b[49m\u001b[43m(\u001b[49m\u001b[43msql_cmd_str\u001b[49m\u001b[43m)\u001b[49m\n",
      "File \u001b[1;32m<string>:2\u001b[0m, in \u001b[0;36mexecute\u001b[1;34m(self, statement, *multiparams, **params)\u001b[0m\n",
      "File \u001b[1;32m~\\anaconda3\\lib\\site-packages\\sqlalchemy\\util\\deprecations.py:401\u001b[0m, in \u001b[0;36m_decorate_with_warning.<locals>.warned\u001b[1;34m(fn, *args, **kwargs)\u001b[0m\n\u001b[0;32m    399\u001b[0m \u001b[38;5;28;01mif\u001b[39;00m \u001b[38;5;129;01mnot\u001b[39;00m skip_warning:\n\u001b[0;32m    400\u001b[0m     _warn_with_version(message, version, wtype, stacklevel\u001b[38;5;241m=\u001b[39m\u001b[38;5;241m3\u001b[39m)\n\u001b[1;32m--> 401\u001b[0m \u001b[38;5;28;01mreturn\u001b[39;00m fn(\u001b[38;5;241m*\u001b[39margs, \u001b[38;5;241m*\u001b[39m\u001b[38;5;241m*\u001b[39mkwargs)\n",
      "File \u001b[1;32m~\\anaconda3\\lib\\site-packages\\sqlalchemy\\engine\\base.py:3152\u001b[0m, in \u001b[0;36mEngine.execute\u001b[1;34m(self, statement, *multiparams, **params)\u001b[0m\n\u001b[0;32m   3134\u001b[0m \u001b[38;5;124;03m\"\"\"Executes the given construct and returns a\u001b[39;00m\n\u001b[0;32m   3135\u001b[0m \u001b[38;5;124;03m:class:`_engine.CursorResult`.\u001b[39;00m\n\u001b[0;32m   3136\u001b[0m \n\u001b[1;32m   (...)\u001b[0m\n\u001b[0;32m   3149\u001b[0m \n\u001b[0;32m   3150\u001b[0m \u001b[38;5;124;03m\"\"\"\u001b[39;00m\n\u001b[0;32m   3151\u001b[0m connection \u001b[38;5;241m=\u001b[39m \u001b[38;5;28mself\u001b[39m\u001b[38;5;241m.\u001b[39mconnect(close_with_result\u001b[38;5;241m=\u001b[39m\u001b[38;5;28;01mTrue\u001b[39;00m)\n\u001b[1;32m-> 3152\u001b[0m \u001b[38;5;28;01mreturn\u001b[39;00m connection\u001b[38;5;241m.\u001b[39mexecute(statement, \u001b[38;5;241m*\u001b[39mmultiparams, \u001b[38;5;241m*\u001b[39m\u001b[38;5;241m*\u001b[39mparams)\n",
      "File \u001b[1;32m~\\anaconda3\\lib\\site-packages\\sqlalchemy\\engine\\base.py:1280\u001b[0m, in \u001b[0;36mConnection.execute\u001b[1;34m(self, statement, *multiparams, **params)\u001b[0m\n\u001b[0;32m   1271\u001b[0m \u001b[38;5;28;01mif\u001b[39;00m \u001b[38;5;28misinstance\u001b[39m(statement, util\u001b[38;5;241m.\u001b[39mstring_types):\n\u001b[0;32m   1272\u001b[0m     util\u001b[38;5;241m.\u001b[39mwarn_deprecated_20(\n\u001b[0;32m   1273\u001b[0m         \u001b[38;5;124m\"\u001b[39m\u001b[38;5;124mPassing a string to Connection.execute() is \u001b[39m\u001b[38;5;124m\"\u001b[39m\n\u001b[0;32m   1274\u001b[0m         \u001b[38;5;124m\"\u001b[39m\u001b[38;5;124mdeprecated and will be removed in version 2.0.  Use the \u001b[39m\u001b[38;5;124m\"\u001b[39m\n\u001b[1;32m   (...)\u001b[0m\n\u001b[0;32m   1277\u001b[0m         \u001b[38;5;124m\"\u001b[39m\u001b[38;5;124mdriver-level SQL string.\u001b[39m\u001b[38;5;124m\"\u001b[39m\n\u001b[0;32m   1278\u001b[0m     )\n\u001b[1;32m-> 1280\u001b[0m     \u001b[38;5;28;01mreturn\u001b[39;00m \u001b[38;5;28;43mself\u001b[39;49m\u001b[38;5;241;43m.\u001b[39;49m\u001b[43m_exec_driver_sql\u001b[49m\u001b[43m(\u001b[49m\n\u001b[0;32m   1281\u001b[0m \u001b[43m        \u001b[49m\u001b[43mstatement\u001b[49m\u001b[43m,\u001b[49m\n\u001b[0;32m   1282\u001b[0m \u001b[43m        \u001b[49m\u001b[43mmultiparams\u001b[49m\u001b[43m,\u001b[49m\n\u001b[0;32m   1283\u001b[0m \u001b[43m        \u001b[49m\u001b[43mparams\u001b[49m\u001b[43m,\u001b[49m\n\u001b[0;32m   1284\u001b[0m \u001b[43m        \u001b[49m\u001b[43m_EMPTY_EXECUTION_OPTS\u001b[49m\u001b[43m,\u001b[49m\n\u001b[0;32m   1285\u001b[0m \u001b[43m        \u001b[49m\u001b[43mfuture\u001b[49m\u001b[38;5;241;43m=\u001b[39;49m\u001b[38;5;28;43;01mFalse\u001b[39;49;00m\u001b[43m,\u001b[49m\n\u001b[0;32m   1286\u001b[0m \u001b[43m    \u001b[49m\u001b[43m)\u001b[49m\n\u001b[0;32m   1288\u001b[0m \u001b[38;5;28;01mtry\u001b[39;00m:\n\u001b[0;32m   1289\u001b[0m     meth \u001b[38;5;241m=\u001b[39m statement\u001b[38;5;241m.\u001b[39m_execute_on_connection\n",
      "File \u001b[1;32m~\\anaconda3\\lib\\site-packages\\sqlalchemy\\engine\\base.py:1584\u001b[0m, in \u001b[0;36mConnection._exec_driver_sql\u001b[1;34m(self, statement, multiparams, params, execution_options, future)\u001b[0m\n\u001b[0;32m   1574\u001b[0m         (\n\u001b[0;32m   1575\u001b[0m             statement,\n\u001b[0;32m   1576\u001b[0m             distilled_params,\n\u001b[1;32m   (...)\u001b[0m\n\u001b[0;32m   1580\u001b[0m             statement, distilled_parameters, execution_options\n\u001b[0;32m   1581\u001b[0m         )\n\u001b[0;32m   1583\u001b[0m dialect \u001b[38;5;241m=\u001b[39m \u001b[38;5;28mself\u001b[39m\u001b[38;5;241m.\u001b[39mdialect\n\u001b[1;32m-> 1584\u001b[0m ret \u001b[38;5;241m=\u001b[39m \u001b[38;5;28;43mself\u001b[39;49m\u001b[38;5;241;43m.\u001b[39;49m\u001b[43m_execute_context\u001b[49m\u001b[43m(\u001b[49m\n\u001b[0;32m   1585\u001b[0m \u001b[43m    \u001b[49m\u001b[43mdialect\u001b[49m\u001b[43m,\u001b[49m\n\u001b[0;32m   1586\u001b[0m \u001b[43m    \u001b[49m\u001b[43mdialect\u001b[49m\u001b[38;5;241;43m.\u001b[39;49m\u001b[43mexecution_ctx_cls\u001b[49m\u001b[38;5;241;43m.\u001b[39;49m\u001b[43m_init_statement\u001b[49m\u001b[43m,\u001b[49m\n\u001b[0;32m   1587\u001b[0m \u001b[43m    \u001b[49m\u001b[43mstatement\u001b[49m\u001b[43m,\u001b[49m\n\u001b[0;32m   1588\u001b[0m \u001b[43m    \u001b[49m\u001b[43mdistilled_parameters\u001b[49m\u001b[43m,\u001b[49m\n\u001b[0;32m   1589\u001b[0m \u001b[43m    \u001b[49m\u001b[43mexecution_options\u001b[49m\u001b[43m,\u001b[49m\n\u001b[0;32m   1590\u001b[0m \u001b[43m    \u001b[49m\u001b[43mstatement\u001b[49m\u001b[43m,\u001b[49m\n\u001b[0;32m   1591\u001b[0m \u001b[43m    \u001b[49m\u001b[43mdistilled_parameters\u001b[49m\u001b[43m,\u001b[49m\n\u001b[0;32m   1592\u001b[0m \u001b[43m\u001b[49m\u001b[43m)\u001b[49m\n\u001b[0;32m   1594\u001b[0m \u001b[38;5;28;01mif\u001b[39;00m \u001b[38;5;129;01mnot\u001b[39;00m future:\n\u001b[0;32m   1595\u001b[0m     \u001b[38;5;28;01mif\u001b[39;00m \u001b[38;5;28mself\u001b[39m\u001b[38;5;241m.\u001b[39m_has_events \u001b[38;5;129;01mor\u001b[39;00m \u001b[38;5;28mself\u001b[39m\u001b[38;5;241m.\u001b[39mengine\u001b[38;5;241m.\u001b[39m_has_events:\n",
      "File \u001b[1;32m~\\anaconda3\\lib\\site-packages\\sqlalchemy\\engine\\base.py:1851\u001b[0m, in \u001b[0;36mConnection._execute_context\u001b[1;34m(self, dialect, constructor, statement, parameters, execution_options, *args, **kw)\u001b[0m\n\u001b[0;32m   1848\u001b[0m             branched\u001b[38;5;241m.\u001b[39mclose()\n\u001b[0;32m   1850\u001b[0m \u001b[38;5;28;01mexcept\u001b[39;00m \u001b[38;5;167;01mBaseException\u001b[39;00m \u001b[38;5;28;01mas\u001b[39;00m e:\n\u001b[1;32m-> 1851\u001b[0m     \u001b[38;5;28;43mself\u001b[39;49m\u001b[38;5;241;43m.\u001b[39;49m\u001b[43m_handle_dbapi_exception\u001b[49m\u001b[43m(\u001b[49m\n\u001b[0;32m   1852\u001b[0m \u001b[43m        \u001b[49m\u001b[43me\u001b[49m\u001b[43m,\u001b[49m\u001b[43m \u001b[49m\u001b[43mstatement\u001b[49m\u001b[43m,\u001b[49m\u001b[43m \u001b[49m\u001b[43mparameters\u001b[49m\u001b[43m,\u001b[49m\u001b[43m \u001b[49m\u001b[43mcursor\u001b[49m\u001b[43m,\u001b[49m\u001b[43m \u001b[49m\u001b[43mcontext\u001b[49m\n\u001b[0;32m   1853\u001b[0m \u001b[43m    \u001b[49m\u001b[43m)\u001b[49m\n\u001b[0;32m   1855\u001b[0m \u001b[38;5;28;01mreturn\u001b[39;00m result\n",
      "File \u001b[1;32m~\\anaconda3\\lib\\site-packages\\sqlalchemy\\engine\\base.py:2032\u001b[0m, in \u001b[0;36mConnection._handle_dbapi_exception\u001b[1;34m(self, e, statement, parameters, cursor, context)\u001b[0m\n\u001b[0;32m   2030\u001b[0m     util\u001b[38;5;241m.\u001b[39mraise_(newraise, with_traceback\u001b[38;5;241m=\u001b[39mexc_info[\u001b[38;5;241m2\u001b[39m], from_\u001b[38;5;241m=\u001b[39me)\n\u001b[0;32m   2031\u001b[0m \u001b[38;5;28;01melif\u001b[39;00m should_wrap:\n\u001b[1;32m-> 2032\u001b[0m     \u001b[43mutil\u001b[49m\u001b[38;5;241;43m.\u001b[39;49m\u001b[43mraise_\u001b[49m\u001b[43m(\u001b[49m\n\u001b[0;32m   2033\u001b[0m \u001b[43m        \u001b[49m\u001b[43msqlalchemy_exception\u001b[49m\u001b[43m,\u001b[49m\u001b[43m \u001b[49m\u001b[43mwith_traceback\u001b[49m\u001b[38;5;241;43m=\u001b[39;49m\u001b[43mexc_info\u001b[49m\u001b[43m[\u001b[49m\u001b[38;5;241;43m2\u001b[39;49m\u001b[43m]\u001b[49m\u001b[43m,\u001b[49m\u001b[43m \u001b[49m\u001b[43mfrom_\u001b[49m\u001b[38;5;241;43m=\u001b[39;49m\u001b[43me\u001b[49m\n\u001b[0;32m   2034\u001b[0m \u001b[43m    \u001b[49m\u001b[43m)\u001b[49m\n\u001b[0;32m   2035\u001b[0m \u001b[38;5;28;01melse\u001b[39;00m:\n\u001b[0;32m   2036\u001b[0m     util\u001b[38;5;241m.\u001b[39mraise_(exc_info[\u001b[38;5;241m1\u001b[39m], with_traceback\u001b[38;5;241m=\u001b[39mexc_info[\u001b[38;5;241m2\u001b[39m])\n",
      "File \u001b[1;32m~\\anaconda3\\lib\\site-packages\\sqlalchemy\\util\\compat.py:207\u001b[0m, in \u001b[0;36mraise_\u001b[1;34m(***failed resolving arguments***)\u001b[0m\n\u001b[0;32m    204\u001b[0m     exception\u001b[38;5;241m.\u001b[39m__cause__ \u001b[38;5;241m=\u001b[39m replace_context\n\u001b[0;32m    206\u001b[0m \u001b[38;5;28;01mtry\u001b[39;00m:\n\u001b[1;32m--> 207\u001b[0m     \u001b[38;5;28;01mraise\u001b[39;00m exception\n\u001b[0;32m    208\u001b[0m \u001b[38;5;28;01mfinally\u001b[39;00m:\n\u001b[0;32m    209\u001b[0m     \u001b[38;5;66;03m# credit to\u001b[39;00m\n\u001b[0;32m    210\u001b[0m     \u001b[38;5;66;03m# https://cosmicpercolator.com/2016/01/13/exception-leaks-in-python-2-and-3/\u001b[39;00m\n\u001b[0;32m    211\u001b[0m     \u001b[38;5;66;03m# as the __traceback__ object creates a cycle\u001b[39;00m\n\u001b[0;32m    212\u001b[0m     \u001b[38;5;28;01mdel\u001b[39;00m exception, replace_context, from_, with_traceback\n",
      "File \u001b[1;32m~\\anaconda3\\lib\\site-packages\\sqlalchemy\\engine\\base.py:1808\u001b[0m, in \u001b[0;36mConnection._execute_context\u001b[1;34m(self, dialect, constructor, statement, parameters, execution_options, *args, **kw)\u001b[0m\n\u001b[0;32m   1806\u001b[0m                 \u001b[38;5;28;01mbreak\u001b[39;00m\n\u001b[0;32m   1807\u001b[0m     \u001b[38;5;28;01mif\u001b[39;00m \u001b[38;5;129;01mnot\u001b[39;00m evt_handled:\n\u001b[1;32m-> 1808\u001b[0m         \u001b[38;5;28;43mself\u001b[39;49m\u001b[38;5;241;43m.\u001b[39;49m\u001b[43mdialect\u001b[49m\u001b[38;5;241;43m.\u001b[39;49m\u001b[43mdo_execute\u001b[49m\u001b[43m(\u001b[49m\n\u001b[0;32m   1809\u001b[0m \u001b[43m            \u001b[49m\u001b[43mcursor\u001b[49m\u001b[43m,\u001b[49m\u001b[43m \u001b[49m\u001b[43mstatement\u001b[49m\u001b[43m,\u001b[49m\u001b[43m \u001b[49m\u001b[43mparameters\u001b[49m\u001b[43m,\u001b[49m\u001b[43m \u001b[49m\u001b[43mcontext\u001b[49m\n\u001b[0;32m   1810\u001b[0m \u001b[43m        \u001b[49m\u001b[43m)\u001b[49m\n\u001b[0;32m   1812\u001b[0m \u001b[38;5;28;01mif\u001b[39;00m \u001b[38;5;28mself\u001b[39m\u001b[38;5;241m.\u001b[39m_has_events \u001b[38;5;129;01mor\u001b[39;00m \u001b[38;5;28mself\u001b[39m\u001b[38;5;241m.\u001b[39mengine\u001b[38;5;241m.\u001b[39m_has_events:\n\u001b[0;32m   1813\u001b[0m     \u001b[38;5;28mself\u001b[39m\u001b[38;5;241m.\u001b[39mdispatch\u001b[38;5;241m.\u001b[39mafter_cursor_execute(\n\u001b[0;32m   1814\u001b[0m         \u001b[38;5;28mself\u001b[39m,\n\u001b[0;32m   1815\u001b[0m         cursor,\n\u001b[1;32m   (...)\u001b[0m\n\u001b[0;32m   1819\u001b[0m         context\u001b[38;5;241m.\u001b[39mexecutemany,\n\u001b[0;32m   1820\u001b[0m     )\n",
      "File \u001b[1;32m~\\anaconda3\\lib\\site-packages\\sqlalchemy\\engine\\default.py:732\u001b[0m, in \u001b[0;36mDefaultDialect.do_execute\u001b[1;34m(self, cursor, statement, parameters, context)\u001b[0m\n\u001b[0;32m    731\u001b[0m \u001b[38;5;28;01mdef\u001b[39;00m \u001b[38;5;21mdo_execute\u001b[39m(\u001b[38;5;28mself\u001b[39m, cursor, statement, parameters, context\u001b[38;5;241m=\u001b[39m\u001b[38;5;28;01mNone\u001b[39;00m):\n\u001b[1;32m--> 732\u001b[0m     \u001b[43mcursor\u001b[49m\u001b[38;5;241;43m.\u001b[39;49m\u001b[43mexecute\u001b[49m\u001b[43m(\u001b[49m\u001b[43mstatement\u001b[49m\u001b[43m,\u001b[49m\u001b[43m \u001b[49m\u001b[43mparameters\u001b[49m\u001b[43m)\u001b[49m\n",
      "\u001b[1;31mIntegrityError\u001b[0m: (sqlite3.IntegrityError) UNIQUE constraint failed: Frank_test0914.dtime\n[SQL: insert into Frank_test0914 (dtime, temp) values('2022-08-01 08:00:00', '36.0')]\n(Background on this error at: https://sqlalche.me/e/14/gkpj)"
     ]
    }
   ],
   "source": [
    "# 故意插入重複的\n",
    "dt1 = datetime.datetime.strptime('2022-08-01 08:00:00','%Y-%m-%d %H:%M:%S') #把時間字串轉為datetime物件\n",
    "for i in range(5):\n",
    "    str_dt = (dt1+datetime.timedelta(days=i)).strftime('%Y-%m-%d %H:%M:%S')\n",
    "    temp = random.randint(350, 375)/10\n",
    "    #print(str_dt, temp)\n",
    "    sql_cmd_str = \"insert into %s (dtime, temp) values('%s', '%s')\" %(table_name, str_dt, temp)\n",
    "    resultProxy=my_db.execute(sql_cmd_str)"
   ]
  },
  {
   "cell_type": "code",
   "execution_count": 11,
   "id": "0facfec4",
   "metadata": {},
   "outputs": [
    {
     "name": "stdout",
     "output_type": "stream",
     "text": [
      "-- data --\n",
      "[('2022-08-01 08:00:00', 35.7), ('2022-08-02 08:00:00', 37.3), ('2022-08-03 08:00:00', 36.1), ('2022-08-04 08:00:00', 36.1), ('2022-08-05 08:00:00', 36.5), ('2022-08-06 08:00:00', 37.5), ('2022-08-07 08:00:00', 35.6), ('2022-08-08 08:00:00', 36.0), ('2022-08-09 08:00:00', 35.1), ('2022-08-10 08:00:00', 36.0)]\n"
     ]
    }
   ],
   "source": [
    "# select\n",
    "sql_cmd_str = \"select * from %s ACS\" %(table_name)\n",
    "resultProxy=my_db.execute(sql_cmd_str)\n",
    "data = resultProxy.fetchall()\n",
    "print('-- data --')\n",
    "print(data)\n"
   ]
  },
  {
   "cell_type": "code",
   "execution_count": 12,
   "id": "3e38baa8",
   "metadata": {},
   "outputs": [],
   "source": [
    "# 做upsert操作 修改、取代 與MySQL 有差異\n",
    "import datetime\n",
    "import random\n",
    "\n",
    "dt1 = datetime.datetime.strptime('2022-08-01 08:00:00','%Y-%m-%d %H:%M:%S') #把時間字串轉為datetime物件\n",
    "for i in range(15):\n",
    "    str_dt = (dt1+datetime.timedelta(days=i)).strftime('%Y-%m-%d %H:%M:%S')\n",
    "    temp = random.randint(350, 375)/10\n",
    "    #print(str_dt, temp)\n",
    "    sql_cmd_str = \"insert or replace into %s (dtime, temp) values('%s', '%s')\" %(table_name, str_dt, temp)\n",
    "    #sql_cmd_str = sql_cmd_str + (\" ON DUPLICATE KEY UPDATE temp='%s'\" %(temp)) mysql 寫法\n",
    "    resultProxy=my_db.execute(sql_cmd_str)\n"
   ]
  },
  {
   "cell_type": "code",
   "execution_count": 13,
   "id": "263e7206",
   "metadata": {},
   "outputs": [
    {
     "name": "stdout",
     "output_type": "stream",
     "text": [
      "-- data --\n",
      "[('2022-08-01 08:00:00', 35.4), ('2022-08-02 08:00:00', 35.4), ('2022-08-03 08:00:00', 36.1), ('2022-08-04 08:00:00', 36.4), ('2022-08-05 08:00:00', 35.7), ('2022-08-06 08:00:00', 35.8), ('2022-08-07 08:00:00', 36.4), ('2022-08-08 08:00:00', 37.0), ('2022-08-09 08:00:00', 35.9), ('2022-08-10 08:00:00', 36.9), ('2022-08-11 08:00:00', 35.1), ('2022-08-12 08:00:00', 36.8), ('2022-08-13 08:00:00', 37.3), ('2022-08-14 08:00:00', 36.9), ('2022-08-15 08:00:00', 37.5)]\n"
     ]
    }
   ],
   "source": [
    "# select\n",
    "sql_cmd_str = \"select * from %s\" %(table_name)\n",
    "resultProxy=my_db.execute(sql_cmd_str)\n",
    "data = resultProxy.fetchall()\n",
    "print('-- data --')\n",
    "print(data)\n"
   ]
  },
  {
   "cell_type": "code",
   "execution_count": 14,
   "id": "e6429041",
   "metadata": {},
   "outputs": [
    {
     "name": "stdout",
     "output_type": "stream",
     "text": [
      "-- data --\n",
      "[('2022-08-03 08:00:00', 36.1), ('2022-08-04 08:00:00', 36.4), ('2022-08-07 08:00:00', 36.4), ('2022-08-08 08:00:00', 37.0), ('2022-08-10 08:00:00', 36.9), ('2022-08-12 08:00:00', 36.8), ('2022-08-13 08:00:00', 37.3), ('2022-08-14 08:00:00', 36.9), ('2022-08-15 08:00:00', 37.5)]\n"
     ]
    }
   ],
   "source": [
    "# select 有條件\n",
    "sql_cmd_str = \"select * from %s where temp>36\" %(table_name)\n",
    "resultProxy=my_db.execute(sql_cmd_str)\n",
    "data = resultProxy.fetchall()\n",
    "print('-- data --')\n",
    "print(data)\n"
   ]
  },
  {
   "cell_type": "code",
   "execution_count": 15,
   "id": "7da3e453",
   "metadata": {},
   "outputs": [],
   "source": [
    "#Delete\n",
    "resultProxy=my_db.execute(\"delete from %s where dtime<'2022-08-05' \" %(table_name) )"
   ]
  },
  {
   "cell_type": "code",
   "execution_count": 16,
   "id": "3834bc62",
   "metadata": {},
   "outputs": [
    {
     "name": "stdout",
     "output_type": "stream",
     "text": [
      "-- data --\n",
      "[('2022-08-05 08:00:00', 35.7), ('2022-08-06 08:00:00', 35.8), ('2022-08-07 08:00:00', 36.4), ('2022-08-08 08:00:00', 37.0), ('2022-08-09 08:00:00', 35.9), ('2022-08-10 08:00:00', 36.9), ('2022-08-11 08:00:00', 35.1), ('2022-08-12 08:00:00', 36.8), ('2022-08-13 08:00:00', 37.3), ('2022-08-14 08:00:00', 36.9), ('2022-08-15 08:00:00', 37.5)]\n"
     ]
    }
   ],
   "source": [
    "# select\n",
    "sql_cmd_str = \"select * from %s\" %(table_name)\n",
    "resultProxy=my_db.execute(sql_cmd_str)\n",
    "data = resultProxy.fetchall()\n",
    "print('-- data --')\n",
    "print(data)"
   ]
  },
  {
   "cell_type": "code",
   "execution_count": 4,
   "id": "8bafa4e2",
   "metadata": {},
   "outputs": [
    {
     "data": {
      "text/plain": [
       "[['Name',\n",
       "  'Date',\n",
       "  'TSP',\n",
       "  'PM10',\n",
       "  'Chloride',\n",
       "  'Nitrate',\n",
       "  'Sulfate',\n",
       "  'Lead',\n",
       "  'Dust'],\n",
       " ['大社工業區', '2018年1月', '93', '', '', '', '', '0.029', '3.6'],\n",
       " ['大寮區公所', '2018年1月', '79', '', '', '', '', '0.042', '1.54'],\n",
       " ['大樹監測站', '2018年1月', '61', '', '', '', '', '0.02', '1.18'],\n",
       " ['仁武國中', '2018年1月', '79', '', '', '', '', '0.058', '2.68']]"
      ]
     },
     "execution_count": 4,
     "metadata": {},
     "output_type": "execute_result"
    }
   ],
   "source": [
    "#練習題：把高雄空氣品質資料寫入資料庫中\n",
    "import csv\n",
    "\n",
    "with open('2018_kh_data.csv', 'r') as f:\n",
    "    cr = csv.reader(f)\n",
    "    data_list = list(cr)\n",
    "data_list[0:5]"
   ]
  },
  {
   "cell_type": "code",
   "execution_count": 1,
   "id": "5468ef01",
   "metadata": {},
   "outputs": [],
   "source": [
    "from sqlalchemy import create_engine\n",
    "\n",
    "my_db = create_engine('sqlite:///frank_foo.db')"
   ]
  },
  {
   "cell_type": "code",
   "execution_count": 2,
   "id": "9db34ef7",
   "metadata": {},
   "outputs": [
    {
     "data": {
      "text/plain": [
       "{'context': <sqlalchemy.dialects.sqlite.base.SQLiteExecutionContext at 0x1a025c10f40>,\n",
       " 'dialect': <sqlalchemy.dialects.sqlite.pysqlite.SQLiteDialect_pysqlite at 0x1a0272249d0>,\n",
       " 'cursor': None,\n",
       " 'cursor_strategy': <sqlalchemy.engine.cursor.NoCursorDMLFetchStrategy at 0x1a027214060>,\n",
       " 'connection': <sqlalchemy.engine.base.Connection at 0x1a02724ec70>,\n",
       " '_echo': False,\n",
       " '_metadata': <sqlalchemy.engine.cursor._LegacyNoResultMetaData at 0x1a0271d10a0>,\n",
       " 'rowcount': -1,\n",
       " '_soft_closed': True}"
      ]
     },
     "execution_count": 2,
     "metadata": {},
     "output_type": "execute_result"
    }
   ],
   "source": [
    "# 我們把tsp, pm10, lead都記下來\n",
    "table_name = 'Frank_khtsp_0903' #local 端資料表\n",
    "sql_cmd_str = \"CREATE TABLE IF NOT EXISTS %s(sid varchar(20), dtime varchar(20), tsp float, pm10 float, lead float,dust float, PRIMARY KEY(sid, dtime))\" %(table_name)\n",
    "resultProxy = my_db.execute(sql_cmd_str)\n",
    "resultProxy.__dict__"
   ]
  },
  {
   "cell_type": "code",
   "execution_count": 5,
   "id": "33aeab63",
   "metadata": {},
   "outputs": [
    {
     "name": "stdout",
     "output_type": "stream",
     "text": [
      "insert or replace into Frank_khtsp_0903 (sid, dtime, tsp, pm10, lead, dust) values('大社工業區', '2018年1月', '93', '', '0.029','3.6')\n",
      "insert or replace into Frank_khtsp_0903 (sid, dtime, tsp, pm10, lead, dust) values('大寮區公所', '2018年1月', '79', '', '0.042','1.54')\n",
      "insert or replace into Frank_khtsp_0903 (sid, dtime, tsp, pm10, lead, dust) values('大樹監測站', '2018年1月', '61', '', '0.02','1.18')\n",
      "insert or replace into Frank_khtsp_0903 (sid, dtime, tsp, pm10, lead, dust) values('仁武國中', '2018年1月', '79', '', '0.058','2.68')\n",
      "insert or replace into Frank_khtsp_0903 (sid, dtime, tsp, pm10, lead, dust) values('半屏山電信局', '2018年1月', '104', '67', '0.014','1.21')\n",
      "insert or replace into Frank_khtsp_0903 (sid, dtime, tsp, pm10, lead, dust) values('左營國小', '2018年1月', '98', '64', '0.006','1.13')\n",
      "insert or replace into Frank_khtsp_0903 (sid, dtime, tsp, pm10, lead, dust) values('永安工業區', '2018年1月', '83', '', '0.052','2.96')\n",
      "insert or replace into Frank_khtsp_0903 (sid, dtime, tsp, pm10, lead, dust) values('西子灣中山大學', '2018年1月', '84', '60', '0.043','1.31')\n",
      "insert or replace into Frank_khtsp_0903 (sid, dtime, tsp, pm10, lead, dust) values('岡山醫院', '2018年1月', '102', '', '0.076','3.11')\n",
      "insert or replace into Frank_khtsp_0903 (sid, dtime, tsp, pm10, lead, dust) values('林園工業區', '2018年1月', '90', '', '0.042','2.01')\n",
      "insert or replace into Frank_khtsp_0903 (sid, dtime, tsp, pm10, lead, dust) values('河濱國小', '2018年1月', '55', '51', '0.026','1.04')\n",
      "insert or replace into Frank_khtsp_0903 (sid, dtime, tsp, pm10, lead, dust) values('阿蓮區公所', '2018年1月', '65', '', '0.043','1.3')\n",
      "insert or replace into Frank_khtsp_0903 (sid, dtime, tsp, pm10, lead, dust) values('前鎮國小', '2018年1月', '109', '72', '0.029','1.71')\n",
      "insert or replace into Frank_khtsp_0903 (sid, dtime, tsp, pm10, lead, dust) values('莊敬國小', '2018年1月', '87', '70', '0.006','1.76')\n",
      "insert or replace into Frank_khtsp_0903 (sid, dtime, tsp, pm10, lead, dust) values('愛國國小', '2018年1月', '97', '59', '0.014','2.1')\n",
      "insert or replace into Frank_khtsp_0903 (sid, dtime, tsp, pm10, lead, dust) values('楠梓區清潔隊', '2018年1月', '84', '45', '0.021','1.99')\n",
      "insert or replace into Frank_khtsp_0903 (sid, dtime, tsp, pm10, lead, dust) values('路竹地政事務所', '2018年1月', '84', '', '0.085','1.8')\n",
      "insert or replace into Frank_khtsp_0903 (sid, dtime, tsp, pm10, lead, dust) values('鼓山圖書分館', '2018年1月', '94', '68', '0.014','1.27')\n",
      "insert or replace into Frank_khtsp_0903 (sid, dtime, tsp, pm10, lead, dust) values('衛生局中正辦公室', '2018年1月', '55', '45', '0.02','1.93')\n",
      "insert or replace into Frank_khtsp_0903 (sid, dtime, tsp, pm10, lead, dust) values('環保局環境檢驗科', '2018年1月', '92', '58', '0.02','1.16')\n",
      "insert or replace into Frank_khtsp_0903 (sid, dtime, tsp, pm10, lead, dust) values('大社工業區', '2018年2月', '102', '', '0.055','4.61')\n",
      "insert or replace into Frank_khtsp_0903 (sid, dtime, tsp, pm10, lead, dust) values('大寮區公所', '2018年2月', '91', '', '0.018','2.01')\n",
      "insert or replace into Frank_khtsp_0903 (sid, dtime, tsp, pm10, lead, dust) values('大樹監測站', '2018年2月', '65', '', '0.015','1.94')\n",
      "insert or replace into Frank_khtsp_0903 (sid, dtime, tsp, pm10, lead, dust) values('仁武國中', '2018年2月', '86', '', '0.033','3.6')\n",
      "insert or replace into Frank_khtsp_0903 (sid, dtime, tsp, pm10, lead, dust) values('半屏山電信局', '2018年2月', '62', '38', '0.034','1.2')\n",
      "insert or replace into Frank_khtsp_0903 (sid, dtime, tsp, pm10, lead, dust) values('左營國小', '2018年2月', '59', '32', '0.017','1.5')\n",
      "insert or replace into Frank_khtsp_0903 (sid, dtime, tsp, pm10, lead, dust) values('永安工業區', '2018年2月', '83', '', '0.025','8.28')\n",
      "insert or replace into Frank_khtsp_0903 (sid, dtime, tsp, pm10, lead, dust) values('西子灣中山大學', '2018年2月', '48', '28', '0.002','1.17')\n",
      "insert or replace into Frank_khtsp_0903 (sid, dtime, tsp, pm10, lead, dust) values('岡山醫院', '2018年2月', '84', '', '0.017','4.4')\n",
      "insert or replace into Frank_khtsp_0903 (sid, dtime, tsp, pm10, lead, dust) values('林園工業區', '2018年2月', '94', '', '0.002','4.38')\n",
      "insert or replace into Frank_khtsp_0903 (sid, dtime, tsp, pm10, lead, dust) values('河濱國小', '2018年2月', '67', '52', '0.002','1.69')\n",
      "insert or replace into Frank_khtsp_0903 (sid, dtime, tsp, pm10, lead, dust) values('阿蓮區公所', '2018年2月', '69', '', '0.024','1.54')\n",
      "insert or replace into Frank_khtsp_0903 (sid, dtime, tsp, pm10, lead, dust) values('前鎮國小', '2018年2月', '86', '54', '0.017','2.05')\n",
      "insert or replace into Frank_khtsp_0903 (sid, dtime, tsp, pm10, lead, dust) values('莊敬國小', '2018年2月', '53', '42', '0.034','1.68')\n",
      "insert or replace into Frank_khtsp_0903 (sid, dtime, tsp, pm10, lead, dust) values('愛國國小', '2018年2月', '70', '46', '0.024','2.05')\n",
      "insert or replace into Frank_khtsp_0903 (sid, dtime, tsp, pm10, lead, dust) values('楠梓區清潔隊', '2018年2月', '93', '54', '0.018','2.39')\n",
      "insert or replace into Frank_khtsp_0903 (sid, dtime, tsp, pm10, lead, dust) values('路竹地政事務所', '2018年2月', '84', '', '0.031','1.72')\n",
      "insert or replace into Frank_khtsp_0903 (sid, dtime, tsp, pm10, lead, dust) values('鼓山圖書分館', '2018年2月', '63', '45', '0.002','1.28')\n",
      "insert or replace into Frank_khtsp_0903 (sid, dtime, tsp, pm10, lead, dust) values('衛生局中正辦公室', '2018年2月', '70', '38', '0.002','1.68')\n",
      "insert or replace into Frank_khtsp_0903 (sid, dtime, tsp, pm10, lead, dust) values('環保局環境檢驗科', '2018年2月', '76', '46', '0.017','1.46')\n",
      "insert or replace into Frank_khtsp_0903 (sid, dtime, tsp, pm10, lead, dust) values('大社工業區', '2018年3月', '108', '', '0.062','4.22')\n",
      "insert or replace into Frank_khtsp_0903 (sid, dtime, tsp, pm10, lead, dust) values('大寮區公所', '2018年3月', '92', '', '0.046','3.76')\n",
      "insert or replace into Frank_khtsp_0903 (sid, dtime, tsp, pm10, lead, dust) values('大樹監測站', '2018年3月', '79', '', '0.046','1.96')\n",
      "insert or replace into Frank_khtsp_0903 (sid, dtime, tsp, pm10, lead, dust) values('仁武國中', '2018年3月', '108', '', '0.052','2.63')\n",
      "insert or replace into Frank_khtsp_0903 (sid, dtime, tsp, pm10, lead, dust) values('半屏山電信局', '2018年3月', '69', '46', '0.048','2.38')\n",
      "insert or replace into Frank_khtsp_0903 (sid, dtime, tsp, pm10, lead, dust) values('左營國小', '2018年3月', '54', '36', '0.068','1.55')\n",
      "insert or replace into Frank_khtsp_0903 (sid, dtime, tsp, pm10, lead, dust) values('永安工業區', '2018年3月', '101', '', '0.081','3.64')\n",
      "insert or replace into Frank_khtsp_0903 (sid, dtime, tsp, pm10, lead, dust) values('西子灣中山大學', '2018年3月', '55', '36', '0.061','1.85')\n",
      "insert or replace into Frank_khtsp_0903 (sid, dtime, tsp, pm10, lead, dust) values('岡山醫院', '2018年3月', '120', '', '0.05','2.58')\n",
      "insert or replace into Frank_khtsp_0903 (sid, dtime, tsp, pm10, lead, dust) values('林園工業區', '2018年3月', '94', '', '0.05','2.98')\n",
      "insert or replace into Frank_khtsp_0903 (sid, dtime, tsp, pm10, lead, dust) values('河濱國小', '2018年3月', '56', '42', '0.095','2.62')\n",
      "insert or replace into Frank_khtsp_0903 (sid, dtime, tsp, pm10, lead, dust) values('阿蓮區公所', '2018年3月', '80', '', '0.042','2.11')\n",
      "insert or replace into Frank_khtsp_0903 (sid, dtime, tsp, pm10, lead, dust) values('前鎮國小', '2018年3月', '98', '48', '0.082','3.72')\n",
      "insert or replace into Frank_khtsp_0903 (sid, dtime, tsp, pm10, lead, dust) values('莊敬國小', '2018年3月', '53', '50', '0.064','2.1')\n",
      "insert or replace into Frank_khtsp_0903 (sid, dtime, tsp, pm10, lead, dust) values('愛國國小', '2018年3月', '74', '44', '0.067','2.39')\n",
      "insert or replace into Frank_khtsp_0903 (sid, dtime, tsp, pm10, lead, dust) values('楠梓區清潔隊', '2018年3月', '106', '54', '0.077','2.07')\n",
      "insert or replace into Frank_khtsp_0903 (sid, dtime, tsp, pm10, lead, dust) values('路竹地政事務所', '2018年3月', '103', '', '0.065','1.91')\n",
      "insert or replace into Frank_khtsp_0903 (sid, dtime, tsp, pm10, lead, dust) values('鼓山圖書分館', '2018年3月', '58', '40', '0.078','1.49')\n",
      "insert or replace into Frank_khtsp_0903 (sid, dtime, tsp, pm10, lead, dust) values('衛生局中正辦公室', '2018年3月', '61', '39', '0.078','2')\n",
      "insert or replace into Frank_khtsp_0903 (sid, dtime, tsp, pm10, lead, dust) values('環保局環境檢驗科', '2018年3月', '59', '38', '0.066','2.08')\n",
      "insert or replace into Frank_khtsp_0903 (sid, dtime, tsp, pm10, lead, dust) values('大社工業區', '2018年4月', '79', '', '0.036','2.79')\n",
      "insert or replace into Frank_khtsp_0903 (sid, dtime, tsp, pm10, lead, dust) values('大寮區公所', '2018年4月', '75', '', '0.062','2.28')\n",
      "insert or replace into Frank_khtsp_0903 (sid, dtime, tsp, pm10, lead, dust) values('大樹監測站', '2018年4月', '63', '', '0.056','2.09')\n",
      "insert or replace into Frank_khtsp_0903 (sid, dtime, tsp, pm10, lead, dust) values('仁武國中', '2018年4月', '78', '', '0.035','3.15')\n",
      "insert or replace into Frank_khtsp_0903 (sid, dtime, tsp, pm10, lead, dust) values('半屏山電信局', '2018年4月', '72', '52', '0.044','2.27')\n",
      "insert or replace into Frank_khtsp_0903 (sid, dtime, tsp, pm10, lead, dust) values('左營國小', '2018年4月', '61', '33', '0.028','1.48')\n",
      "insert or replace into Frank_khtsp_0903 (sid, dtime, tsp, pm10, lead, dust) values('永安工業區', '2018年4月', '84', '', '0.116','2.25')\n",
      "insert or replace into Frank_khtsp_0903 (sid, dtime, tsp, pm10, lead, dust) values('西子灣中山大學', '2018年4月', '51', '30', '0.002','1.91')\n",
      "insert or replace into Frank_khtsp_0903 (sid, dtime, tsp, pm10, lead, dust) values('岡山醫院', '2018年4月', '82', '', '0.062','3.41')\n"
     ]
    },
    {
     "name": "stdout",
     "output_type": "stream",
     "text": [
      "insert or replace into Frank_khtsp_0903 (sid, dtime, tsp, pm10, lead, dust) values('林園工業區', '2018年4月', '78', '', '0.033','3.18')\n",
      "insert or replace into Frank_khtsp_0903 (sid, dtime, tsp, pm10, lead, dust) values('河濱國小', '2018年4月', '59', '40', '0.054','1.79')\n",
      "insert or replace into Frank_khtsp_0903 (sid, dtime, tsp, pm10, lead, dust) values('阿蓮區公所', '2018年4月', '63', '', '0.037','1.38')\n",
      "insert or replace into Frank_khtsp_0903 (sid, dtime, tsp, pm10, lead, dust) values('前鎮國小', '2018年4月', '82', '48', '0.067','4.01')\n",
      "insert or replace into Frank_khtsp_0903 (sid, dtime, tsp, pm10, lead, dust) values('莊敬國小', '2018年4月', '67', '50', '0.069','2.01')\n",
      "insert or replace into Frank_khtsp_0903 (sid, dtime, tsp, pm10, lead, dust) values('愛國國小', '2018年4月', '78', '41', '0.034','2.61')\n",
      "insert or replace into Frank_khtsp_0903 (sid, dtime, tsp, pm10, lead, dust) values('楠梓區清潔隊', '2018年4月', '74', '37', '0.037','2.64')\n",
      "insert or replace into Frank_khtsp_0903 (sid, dtime, tsp, pm10, lead, dust) values('路竹地政事務所', '2018年4月', '66', '', '0.055','2.34')\n",
      "insert or replace into Frank_khtsp_0903 (sid, dtime, tsp, pm10, lead, dust) values('鼓山圖書分館', '2018年4月', '50', '31', '0.023','3.67')\n",
      "insert or replace into Frank_khtsp_0903 (sid, dtime, tsp, pm10, lead, dust) values('衛生局中正辦公室', '2018年4月', '60', '31', '0.057','2.35')\n",
      "insert or replace into Frank_khtsp_0903 (sid, dtime, tsp, pm10, lead, dust) values('環保局環境檢驗科', '2018年4月', '74', '38', '0.044','2.35')\n",
      "insert or replace into Frank_khtsp_0903 (sid, dtime, tsp, pm10, lead, dust) values('大社工業區', '2018年5月', '55', '', '0.036','2.96')\n",
      "insert or replace into Frank_khtsp_0903 (sid, dtime, tsp, pm10, lead, dust) values('大寮區公所', '2018年5月', '43', '', '0.021','2.93')\n",
      "insert or replace into Frank_khtsp_0903 (sid, dtime, tsp, pm10, lead, dust) values('大樹監測站', '2018年5月', '37', '', '0.05','2.26')\n",
      "insert or replace into Frank_khtsp_0903 (sid, dtime, tsp, pm10, lead, dust) values('仁武國中', '2018年5月', '44', '', '0.058','1.83')\n",
      "insert or replace into Frank_khtsp_0903 (sid, dtime, tsp, pm10, lead, dust) values('半屏山電信局', '2018年5月', '40', '23', '0.004','2.29')\n",
      "insert or replace into Frank_khtsp_0903 (sid, dtime, tsp, pm10, lead, dust) values('左營國小', '2018年5月', '49', '38', '0.047','4.69')\n",
      "insert or replace into Frank_khtsp_0903 (sid, dtime, tsp, pm10, lead, dust) values('永安工業區', '2018年5月', '52', '', '0.031','2.74')\n",
      "insert or replace into Frank_khtsp_0903 (sid, dtime, tsp, pm10, lead, dust) values('西子灣中山大學', '2018年5月', '22', '12', '0.021','1.3')\n",
      "insert or replace into Frank_khtsp_0903 (sid, dtime, tsp, pm10, lead, dust) values('岡山醫院', '2018年5月', '39', '', '0.03','1.75')\n",
      "insert or replace into Frank_khtsp_0903 (sid, dtime, tsp, pm10, lead, dust) values('林園工業區', '2018年5月', '36', '', '0.016','2.46')\n",
      "insert or replace into Frank_khtsp_0903 (sid, dtime, tsp, pm10, lead, dust) values('河濱國小', '2018年5月', '34', '21', '0.027','1.63')\n",
      "insert or replace into Frank_khtsp_0903 (sid, dtime, tsp, pm10, lead, dust) values('阿蓮區公所', '2018年5月', '35', '', '0.014','1.85')\n",
      "insert or replace into Frank_khtsp_0903 (sid, dtime, tsp, pm10, lead, dust) values('前鎮國小', '2018年5月', '49', '27', '0.055','4.05')\n",
      "insert or replace into Frank_khtsp_0903 (sid, dtime, tsp, pm10, lead, dust) values('莊敬國小', '2018年5月', '35', '25', '0.011','1.91')\n",
      "insert or replace into Frank_khtsp_0903 (sid, dtime, tsp, pm10, lead, dust) values('愛國國小', '2018年5月', '35', '19', '0.025','2.65')\n",
      "insert or replace into Frank_khtsp_0903 (sid, dtime, tsp, pm10, lead, dust) values('楠梓區清潔隊', '2018年5月', '40', '19', '0.017','1.96')\n",
      "insert or replace into Frank_khtsp_0903 (sid, dtime, tsp, pm10, lead, dust) values('路竹地政事務所', '2018年5月', '41', '', '0.049','2.34')\n",
      "insert or replace into Frank_khtsp_0903 (sid, dtime, tsp, pm10, lead, dust) values('鼓山圖書分館', '2018年5月', '26', '17', '0.004','1.9')\n",
      "insert or replace into Frank_khtsp_0903 (sid, dtime, tsp, pm10, lead, dust) values('衛生局中正辦公室', '2018年5月', '34', '18', '0.011','2.32')\n",
      "insert or replace into Frank_khtsp_0903 (sid, dtime, tsp, pm10, lead, dust) values('環保局環境檢驗科', '2018年5月', '44', '23', '0.029','1.81')\n",
      "insert or replace into Frank_khtsp_0903 (sid, dtime, tsp, pm10, lead, dust) values('大社工業區', '2018年6月', '58', '', '0.042','1.82')\n",
      "insert or replace into Frank_khtsp_0903 (sid, dtime, tsp, pm10, lead, dust) values('大寮區公所', '2018年6月', '41', '', '0.006','3.84')\n",
      "insert or replace into Frank_khtsp_0903 (sid, dtime, tsp, pm10, lead, dust) values('大樹監測站', '2018年6月', '37', '', '0.019','0.85')\n",
      "insert or replace into Frank_khtsp_0903 (sid, dtime, tsp, pm10, lead, dust) values('仁武國中', '2018年6月', '48', '', '0.034','3.25')\n",
      "insert or replace into Frank_khtsp_0903 (sid, dtime, tsp, pm10, lead, dust) values('半屏山電信局', '2018年6月', '37', '22', '0.021','1.8')\n",
      "insert or replace into Frank_khtsp_0903 (sid, dtime, tsp, pm10, lead, dust) values('左營國小', '2018年6月', '22', '16', '0.034','1.47')\n",
      "insert or replace into Frank_khtsp_0903 (sid, dtime, tsp, pm10, lead, dust) values('永安工業區', '2018年6月', '45', '', '0.014','0.84')\n",
      "insert or replace into Frank_khtsp_0903 (sid, dtime, tsp, pm10, lead, dust) values('西子灣中山大學', '2018年6月', '35', '21', '0.013','0.8')\n",
      "insert or replace into Frank_khtsp_0903 (sid, dtime, tsp, pm10, lead, dust) values('岡山醫院', '2018年6月', '20', '', '0.014','1.39')\n",
      "insert or replace into Frank_khtsp_0903 (sid, dtime, tsp, pm10, lead, dust) values('林園工業區', '2018年6月', '48', '', '0.047','1.62')\n",
      "insert or replace into Frank_khtsp_0903 (sid, dtime, tsp, pm10, lead, dust) values('河濱國小', '2018年6月', '29', '17', '0.021','1.27')\n",
      "insert or replace into Frank_khtsp_0903 (sid, dtime, tsp, pm10, lead, dust) values('阿蓮區公所', '2018年6月', '33', '', '0.006','0.82')\n",
      "insert or replace into Frank_khtsp_0903 (sid, dtime, tsp, pm10, lead, dust) values('前鎮國小', '2018年6月', '79', '37', '0.021','1.19')\n",
      "insert or replace into Frank_khtsp_0903 (sid, dtime, tsp, pm10, lead, dust) values('莊敬國小', '2018年6月', '33', '23', '0.054','0.4')\n",
      "insert or replace into Frank_khtsp_0903 (sid, dtime, tsp, pm10, lead, dust) values('愛國國小', '2018年6月', '39', '23', '0.034','2.05')\n",
      "insert or replace into Frank_khtsp_0903 (sid, dtime, tsp, pm10, lead, dust) values('楠梓區清潔隊', '2018年6月', '43', '21', '0.021','0.79')\n",
      "insert or replace into Frank_khtsp_0903 (sid, dtime, tsp, pm10, lead, dust) values('路竹地政事務所', '2018年6月', '47', '', '0.012','0.86')\n",
      "insert or replace into Frank_khtsp_0903 (sid, dtime, tsp, pm10, lead, dust) values('鼓山圖書分館', '2018年6月', '27', '16', '0.034','0.82')\n",
      "insert or replace into Frank_khtsp_0903 (sid, dtime, tsp, pm10, lead, dust) values('衛生局中正辦公室', '2018年6月', '29', '17', '0.05','0.05')\n",
      "insert or replace into Frank_khtsp_0903 (sid, dtime, tsp, pm10, lead, dust) values('環保局環境檢驗科', '2018年6月', '38', '21', '0.02','0.65')\n",
      "insert or replace into Frank_khtsp_0903 (sid, dtime, tsp, pm10, lead, dust) values('大社工業區', '2018年7月', '67', '', '0.013','2.17')\n",
      "insert or replace into Frank_khtsp_0903 (sid, dtime, tsp, pm10, lead, dust) values('大寮區公所', '2018年7月', '44', '', '0.013','0.65')\n",
      "insert or replace into Frank_khtsp_0903 (sid, dtime, tsp, pm10, lead, dust) values('仁武國中', '2018年7月', '56', '', '0.02','3.45')\n",
      "insert or replace into Frank_khtsp_0903 (sid, dtime, tsp, pm10, lead, dust) values('半屏山電信局', '2018年7月', '32', '18', '0.022','1.65')\n",
      "insert or replace into Frank_khtsp_0903 (sid, dtime, tsp, pm10, lead, dust) values('左營國小', '2018年7月', '37', '16', '0.022','1.23')\n",
      "insert or replace into Frank_khtsp_0903 (sid, dtime, tsp, pm10, lead, dust) values('永安工業區', '2018年7月', '56', '', '0.086','2.87')\n",
      "insert or replace into Frank_khtsp_0903 (sid, dtime, tsp, pm10, lead, dust) values('西子灣中山大學', '2018年7月', '41', '20', '0.013','1.19')\n",
      "insert or replace into Frank_khtsp_0903 (sid, dtime, tsp, pm10, lead, dust) values('岡山醫院', '2018年7月', '17', '', '0.006','0.89')\n",
      "insert or replace into Frank_khtsp_0903 (sid, dtime, tsp, pm10, lead, dust) values('林園工業區', '2018年7月', '51', '', '0.028','1.48')\n",
      "insert or replace into Frank_khtsp_0903 (sid, dtime, tsp, pm10, lead, dust) values('河濱國小', '2018年7月', '42', '22', '0.028','1.24')\n",
      "insert or replace into Frank_khtsp_0903 (sid, dtime, tsp, pm10, lead, dust) values('阿蓮區公所', '2018年7月', '46', '', '0.02','1.36')\n",
      "insert or replace into Frank_khtsp_0903 (sid, dtime, tsp, pm10, lead, dust) values('前鎮國小', '2018年7月', '78', '37', '0.021','1.51')\n"
     ]
    },
    {
     "name": "stdout",
     "output_type": "stream",
     "text": [
      "insert or replace into Frank_khtsp_0903 (sid, dtime, tsp, pm10, lead, dust) values('莊敬國小', '2018年7月', '29', '20', '0.021','1.38')\n",
      "insert or replace into Frank_khtsp_0903 (sid, dtime, tsp, pm10, lead, dust) values('愛國國小', '2018年7月', '38', '19', '0.014','1.51')\n",
      "insert or replace into Frank_khtsp_0903 (sid, dtime, tsp, pm10, lead, dust) values('楠梓區清潔隊', '2018年7月', '52', '22', '0.014','0.88')\n",
      "insert or replace into Frank_khtsp_0903 (sid, dtime, tsp, pm10, lead, dust) values('路竹地政事務所', '2018年7月', '43', '', '0.013','1.79')\n",
      "insert or replace into Frank_khtsp_0903 (sid, dtime, tsp, pm10, lead, dust) values('鼓山圖書分館', '2018年7月', '37', '20', '0.022','1.47')\n",
      "insert or replace into Frank_khtsp_0903 (sid, dtime, tsp, pm10, lead, dust) values('衛生局中正辦公室', '2018年7月', '47', '19', '0.005','1.35')\n",
      "insert or replace into Frank_khtsp_0903 (sid, dtime, tsp, pm10, lead, dust) values('環保局環境檢驗科', '2018年7月', '37', '18', '0.04','0.88')\n",
      "insert or replace into Frank_khtsp_0903 (sid, dtime, tsp, pm10, lead, dust) values('大社工業區', '2018年8月', '26', '', '0.018','2.53')\n",
      "insert or replace into Frank_khtsp_0903 (sid, dtime, tsp, pm10, lead, dust) values('大寮區公所', '2018年8月', '14', '', '0.01','1.22')\n",
      "insert or replace into Frank_khtsp_0903 (sid, dtime, tsp, pm10, lead, dust) values('仁武國中', '2018年8月', '19', '', '-0.009','4.52')\n",
      "insert or replace into Frank_khtsp_0903 (sid, dtime, tsp, pm10, lead, dust) values('半屏山電信局', '2018年8月', '30', '16', '0.051','2.61')\n",
      "insert or replace into Frank_khtsp_0903 (sid, dtime, tsp, pm10, lead, dust) values('左營國小', '2018年8月', '22', '14', '0.004','1.23')\n",
      "insert or replace into Frank_khtsp_0903 (sid, dtime, tsp, pm10, lead, dust) values('永安工業區', '2018年8月', '23', '', '0.011','2.22')\n",
      "insert or replace into Frank_khtsp_0903 (sid, dtime, tsp, pm10, lead, dust) values('西子灣中山大學', '2018年8月', '28', '13', '0.018','3.14')\n",
      "insert or replace into Frank_khtsp_0903 (sid, dtime, tsp, pm10, lead, dust) values('岡山醫院', '2018年8月', '32', '', '0.011','2.02')\n",
      "insert or replace into Frank_khtsp_0903 (sid, dtime, tsp, pm10, lead, dust) values('林園工業區', '2018年8月', '25', '', '0.004','2.76')\n",
      "insert or replace into Frank_khtsp_0903 (sid, dtime, tsp, pm10, lead, dust) values('河濱國小', '2018年8月', '22', '11', '0.018','2.25')\n",
      "insert or replace into Frank_khtsp_0903 (sid, dtime, tsp, pm10, lead, dust) values('阿蓮區公所', '2018年8月', '18', '', '0.017','1.64')\n",
      "insert or replace into Frank_khtsp_0903 (sid, dtime, tsp, pm10, lead, dust) values('前鎮國小', '2018年8月', '43', '19', '0.011','2.62')\n",
      "insert or replace into Frank_khtsp_0903 (sid, dtime, tsp, pm10, lead, dust) values('莊敬國小', '2018年8月', '21', '18', '0.018','1.86')\n",
      "insert or replace into Frank_khtsp_0903 (sid, dtime, tsp, pm10, lead, dust) values('愛國國小', '2018年8月', '24', '12', '0.025','2.09')\n",
      "insert or replace into Frank_khtsp_0903 (sid, dtime, tsp, pm10, lead, dust) values('楠梓區清潔隊', '2018年8月', '21', '12', '0.019','3.15')\n",
      "insert or replace into Frank_khtsp_0903 (sid, dtime, tsp, pm10, lead, dust) values('路竹地政事務所', '2018年8月', '18', '', '0.017','1.68')\n",
      "insert or replace into Frank_khtsp_0903 (sid, dtime, tsp, pm10, lead, dust) values('鼓山圖書分館', '2018年8月', '18', '11', '-0.016','2.71')\n",
      "insert or replace into Frank_khtsp_0903 (sid, dtime, tsp, pm10, lead, dust) values('衛生局中正辦公室', '2018年8月', '24', '13', '0.004','1.31')\n",
      "insert or replace into Frank_khtsp_0903 (sid, dtime, tsp, pm10, lead, dust) values('環保局環境檢驗科', '2018年8月', '26', '13', '0.017','2.4')\n",
      "insert or replace into Frank_khtsp_0903 (sid, dtime, tsp, pm10, lead, dust) values('大社工業區', '2018年9月', '68', '', '0.034','3.6')\n",
      "insert or replace into Frank_khtsp_0903 (sid, dtime, tsp, pm10, lead, dust) values('大寮區公所', '2018年9月', '31', '', '0.043','2.31')\n",
      "insert or replace into Frank_khtsp_0903 (sid, dtime, tsp, pm10, lead, dust) values('仁武國中', '2018年9月', '46', '', '0.006','3.38')\n",
      "insert or replace into Frank_khtsp_0903 (sid, dtime, tsp, pm10, lead, dust) values('半屏山電信局', '2018年9月', '26', '15', '0.013','2.31')\n",
      "insert or replace into Frank_khtsp_0903 (sid, dtime, tsp, pm10, lead, dust) values('左營國小', '2018年9月', '32', '22', '0.02','1.99')\n",
      "insert or replace into Frank_khtsp_0903 (sid, dtime, tsp, pm10, lead, dust) values('永安工業區', '2018年9月', '46', '', '0.013','4.28')\n",
      "insert or replace into Frank_khtsp_0903 (sid, dtime, tsp, pm10, lead, dust) values('西子灣中山大學', '2018年9月', '24', '12', '0.013','2.34')\n",
      "insert or replace into Frank_khtsp_0903 (sid, dtime, tsp, pm10, lead, dust) values('岡山醫院', '2018年9月', '64', '', '0.02','3.15')\n",
      "insert or replace into Frank_khtsp_0903 (sid, dtime, tsp, pm10, lead, dust) values('林園工業區', '2018年9月', '53', '', '0.048','1.41')\n",
      "insert or replace into Frank_khtsp_0903 (sid, dtime, tsp, pm10, lead, dust) values('河濱國小', '2018年9月', '27', '16', '0.006','2.46')\n",
      "insert or replace into Frank_khtsp_0903 (sid, dtime, tsp, pm10, lead, dust) values('阿蓮區公所', '2018年9月', '31', '', '0.013','0.83')\n",
      "insert or replace into Frank_khtsp_0903 (sid, dtime, tsp, pm10, lead, dust) values('前鎮國小', '2018年9月', '70', '32', '0.04','4.23')\n",
      "insert or replace into Frank_khtsp_0903 (sid, dtime, tsp, pm10, lead, dust) values('莊敬國小', '2018年9月', '22', '17', '0.015','2.49')\n",
      "insert or replace into Frank_khtsp_0903 (sid, dtime, tsp, pm10, lead, dust) values('愛國國小', '2018年9月', '31', '16', '0.02','2.74')\n",
      "insert or replace into Frank_khtsp_0903 (sid, dtime, tsp, pm10, lead, dust) values('楠梓區清潔隊', '2018年9月', '43', '20', '0.021','2.89')\n",
      "insert or replace into Frank_khtsp_0903 (sid, dtime, tsp, pm10, lead, dust) values('路竹地政事務所', '2018年9月', '46', '', '0.02','2.87')\n",
      "insert or replace into Frank_khtsp_0903 (sid, dtime, tsp, pm10, lead, dust) values('鼓山圖書分館', '2018年9月', '19', '12', '0.006','1.25')\n",
      "insert or replace into Frank_khtsp_0903 (sid, dtime, tsp, pm10, lead, dust) values('衛生局中正辦公室', '2018年9月', '25', '11', '0.005','2.6')\n",
      "insert or replace into Frank_khtsp_0903 (sid, dtime, tsp, pm10, lead, dust) values('環保局環境檢驗科', '2018年9月', '30', '13', '0.006','2.87')\n",
      "insert or replace into Frank_khtsp_0903 (sid, dtime, tsp, pm10, lead, dust) values('大社工業區', '2018年10月', '101', '', '0.05','2.85')\n",
      "insert or replace into Frank_khtsp_0903 (sid, dtime, tsp, pm10, lead, dust) values('大寮區公所', '2018年10月', '79', '', '0.041','2.13')\n",
      "insert or replace into Frank_khtsp_0903 (sid, dtime, tsp, pm10, lead, dust) values('仁武國中', '2018年10月', '91', '', '0.042','1.89')\n",
      "insert or replace into Frank_khtsp_0903 (sid, dtime, tsp, pm10, lead, dust) values('半屏山電信局', '2018年10月', '130', '68', '0.073','4.22')\n",
      "insert or replace into Frank_khtsp_0903 (sid, dtime, tsp, pm10, lead, dust) values('左營國小', '2018年10月', '89', '51', '0.024','2.15')\n",
      "insert or replace into Frank_khtsp_0903 (sid, dtime, tsp, pm10, lead, dust) values('永安工業區', '2018年10月', '101', '', '0.072','2.6')\n",
      "insert or replace into Frank_khtsp_0903 (sid, dtime, tsp, pm10, lead, dust) values('西子灣中山大學', '2018年10月', '103', '51', '0.051','1.89')\n",
      "insert or replace into Frank_khtsp_0903 (sid, dtime, tsp, pm10, lead, dust) values('岡山醫院', '2018年10月', '104', '', '0.074','2.54')\n",
      "insert or replace into Frank_khtsp_0903 (sid, dtime, tsp, pm10, lead, dust) values('林園工業區', '2018年10月', '86', '', '0.054','2.28')\n",
      "insert or replace into Frank_khtsp_0903 (sid, dtime, tsp, pm10, lead, dust) values('河濱國小', '2018年10月', '100', '60', '0.058','2.3')\n",
      "insert or replace into Frank_khtsp_0903 (sid, dtime, tsp, pm10, lead, dust) values('阿蓮區公所', '2018年10月', '74', '', '0.047','1.45')\n",
      "insert or replace into Frank_khtsp_0903 (sid, dtime, tsp, pm10, lead, dust) values('前鎮國小', '2018年10月', '110', '62', '0.07','2.98')\n",
      "insert or replace into Frank_khtsp_0903 (sid, dtime, tsp, pm10, lead, dust) values('莊敬國小', '2018年10月', '98', '69', '0.076','1.92')\n",
      "insert or replace into Frank_khtsp_0903 (sid, dtime, tsp, pm10, lead, dust) values('愛國國小', '2018年10月', '100', '47', '0.049','2.44')\n",
      "insert or replace into Frank_khtsp_0903 (sid, dtime, tsp, pm10, lead, dust) values('楠梓區清潔隊', '2018年10月', '100', '35', '0.016','1.48')\n",
      "insert or replace into Frank_khtsp_0903 (sid, dtime, tsp, pm10, lead, dust) values('路竹地政事務所', '2018年10月', '99', '', '0.05','2.25')\n",
      "insert or replace into Frank_khtsp_0903 (sid, dtime, tsp, pm10, lead, dust) values('鼓山圖書分館', '2018年10月', '91', '52', '0.078','2.36')\n",
      "insert or replace into Frank_khtsp_0903 (sid, dtime, tsp, pm10, lead, dust) values('衛生局中正辦公室', '2018年10月', '101', '51', '0.061','1.71')\n"
     ]
    },
    {
     "name": "stdout",
     "output_type": "stream",
     "text": [
      "insert or replace into Frank_khtsp_0903 (sid, dtime, tsp, pm10, lead, dust) values('環保局環境檢驗科', '2018年10月', '104', '51', '0.071','1.97')\n",
      "insert or replace into Frank_khtsp_0903 (sid, dtime, tsp, pm10, lead, dust) values('大社工業區', '2018年11月', '103', '', '0.029','2.78')\n",
      "insert or replace into Frank_khtsp_0903 (sid, dtime, tsp, pm10, lead, dust) values('大寮區公所', '2018年11月', '98', '', '0.016','1.3')\n",
      "insert or replace into Frank_khtsp_0903 (sid, dtime, tsp, pm10, lead, dust) values('仁武國中', '2018年11月', '115', '', '0.1','2.88')\n",
      "insert or replace into Frank_khtsp_0903 (sid, dtime, tsp, pm10, lead, dust) values('半屏山電信局', '2018年11月', '104', '53', '0.036','3.35')\n",
      "insert or replace into Frank_khtsp_0903 (sid, dtime, tsp, pm10, lead, dust) values('左營國小', '2018年11月', '65', '38', '0.035','1.79')\n",
      "insert or replace into Frank_khtsp_0903 (sid, dtime, tsp, pm10, lead, dust) values('永安工業區', '2018年11月', '93', '', '0.04','2.58')\n",
      "insert or replace into Frank_khtsp_0903 (sid, dtime, tsp, pm10, lead, dust) values('西子灣中山大學', '2018年11月', '77', '35', '0.02','2.17')\n",
      "insert or replace into Frank_khtsp_0903 (sid, dtime, tsp, pm10, lead, dust) values('岡山醫院', '2018年11月', '106', '', '0.016','4.39')\n",
      "insert or replace into Frank_khtsp_0903 (sid, dtime, tsp, pm10, lead, dust) values('林園工業區', '2018年11月', '98', '', '0.023','2.26')\n",
      "insert or replace into Frank_khtsp_0903 (sid, dtime, tsp, pm10, lead, dust) values('河濱國小', '2018年11月', '84', '42', '0.022','1.48')\n",
      "insert or replace into Frank_khtsp_0903 (sid, dtime, tsp, pm10, lead, dust) values('阿蓮區公所', '2018年11月', '80', '', '0.015','2.5')\n",
      "insert or replace into Frank_khtsp_0903 (sid, dtime, tsp, pm10, lead, dust) values('前鎮國小', '2018年11月', '112', '58', '0.034','3.18')\n",
      "insert or replace into Frank_khtsp_0903 (sid, dtime, tsp, pm10, lead, dust) values('莊敬國小', '2018年11月', '77', '52', '0.03','1.72')\n",
      "insert or replace into Frank_khtsp_0903 (sid, dtime, tsp, pm10, lead, dust) values('勞工博物館', '2018年11月', '77', '36', '0.042','1.19')\n",
      "insert or replace into Frank_khtsp_0903 (sid, dtime, tsp, pm10, lead, dust) values('愛國國小', '2018年11月', '110', '44', '0.023','2.13')\n",
      "insert or replace into Frank_khtsp_0903 (sid, dtime, tsp, pm10, lead, dust) values('楠梓區清潔隊', '2018年11月', '103', '40', '0.016','2.09')\n",
      "insert or replace into Frank_khtsp_0903 (sid, dtime, tsp, pm10, lead, dust) values('路竹地政事務所', '2018年11月', '89', '', '0.027','1.7')\n",
      "insert or replace into Frank_khtsp_0903 (sid, dtime, tsp, pm10, lead, dust) values('鼓山圖書分館', '2018年11月', '66', '38', '0.041','1.44')\n",
      "insert or replace into Frank_khtsp_0903 (sid, dtime, tsp, pm10, lead, dust) values('環保局環境檢驗科', '2018年11月', '78', '36', '0.028','1.29')\n",
      "insert or replace into Frank_khtsp_0903 (sid, dtime, tsp, pm10, lead, dust) values('大社工業區', '2018年12月', '147', '', '0.032','2.58')\n",
      "insert or replace into Frank_khtsp_0903 (sid, dtime, tsp, pm10, lead, dust) values('大寮區公所', '2018年12月', '124', '', '0.012','2.36')\n",
      "insert or replace into Frank_khtsp_0903 (sid, dtime, tsp, pm10, lead, dust) values('仁武國中', '2018年12月', '134', '', '0.018','2.67')\n",
      "insert or replace into Frank_khtsp_0903 (sid, dtime, tsp, pm10, lead, dust) values('半屏山電信局', '2018年12月', '119', '69', '0.044','4.82')\n",
      "insert or replace into Frank_khtsp_0903 (sid, dtime, tsp, pm10, lead, dust) values('左營國小', '2018年12月', '90', '52', '0.019','2.18')\n",
      "insert or replace into Frank_khtsp_0903 (sid, dtime, tsp, pm10, lead, dust) values('永安工業區', '2018年12月', '111', '', '0.018','2.68')\n",
      "insert or replace into Frank_khtsp_0903 (sid, dtime, tsp, pm10, lead, dust) values('西子灣中山大學', '2018年12月', '87', '48', '0.011','1.77')\n",
      "insert or replace into Frank_khtsp_0903 (sid, dtime, tsp, pm10, lead, dust) values('岡山醫院', '2018年12月', '121', '', '0.011','4.66')\n",
      "insert or replace into Frank_khtsp_0903 (sid, dtime, tsp, pm10, lead, dust) values('林園工業區', '2018年12月', '143', '', '0.039','2.72')\n",
      "insert or replace into Frank_khtsp_0903 (sid, dtime, tsp, pm10, lead, dust) values('河濱國小', '2018年12月', '97', '57', '0.005','1.53')\n",
      "insert or replace into Frank_khtsp_0903 (sid, dtime, tsp, pm10, lead, dust) values('阿蓮區公所', '2018年12月', '102', '', '0.011','2.3')\n",
      "insert or replace into Frank_khtsp_0903 (sid, dtime, tsp, pm10, lead, dust) values('前鎮國小', '2018年12月', '111', '68', '0.043','2.38')\n",
      "insert or replace into Frank_khtsp_0903 (sid, dtime, tsp, pm10, lead, dust) values('莊敬國小', '2018年12月', '110', '83', '0.031','1.84')\n",
      "insert or replace into Frank_khtsp_0903 (sid, dtime, tsp, pm10, lead, dust) values('愛國國小', '2018年12月', '100', '49', '0.03','2.09')\n",
      "insert or replace into Frank_khtsp_0903 (sid, dtime, tsp, pm10, lead, dust) values('楠梓區清潔隊', '2018年12月', '84', '52', '0.001','2.49')\n",
      "insert or replace into Frank_khtsp_0903 (sid, dtime, tsp, pm10, lead, dust) values('路竹地政事務所', '2018年12月', '112', '', '0.012','2.77')\n",
      "insert or replace into Frank_khtsp_0903 (sid, dtime, tsp, pm10, lead, dust) values('鼓山圖書分館', '2018年12月', '80', '49', '0.018','1.37')\n",
      "insert or replace into Frank_khtsp_0903 (sid, dtime, tsp, pm10, lead, dust) values('衛生局中正辦公室', '2018年12月', '93', '46', '0.012','1.95')\n",
      "insert or replace into Frank_khtsp_0903 (sid, dtime, tsp, pm10, lead, dust) values('環保局環境檢驗科', '2018年12月', '97', '50', '0.03','2.07')\n"
     ]
    }
   ],
   "source": [
    "import datetime\n",
    "import random\n",
    "\n",
    "for item in data_list[1:]:\n",
    "    sid = item[0]#['Name']\n",
    "    dtime = item[1]#['Date']\n",
    "    tsp = item[2]#['TSP']\n",
    "    pm10 = item[3]#['PM10']\n",
    "    lead = item[7]#['Lead']\n",
    "    dust = item[-1] #dust\n",
    "    sql_cmd_str = \"insert or replace into %s (sid, dtime, tsp, pm10, lead, dust) values('%s', '%s', '%s', '%s', '%s','%s')\" %(\n",
    "        table_name, sid, dtime, tsp, pm10, lead, dust)\n",
    "    #sql_cmd_str = sql_cmd_str + (\" ON DUPLICATE KEY UPDATE tsp='%s', pm10='%s', lead='%s'\" %(tsp, pm10, lead))\n",
    "    resultProxy=my_db.execute(sql_cmd_str)\n",
    "    print(sql_cmd_str)"
   ]
  },
  {
   "cell_type": "code",
   "execution_count": 6,
   "id": "081aae9b",
   "metadata": {},
   "outputs": [
    {
     "name": "stdout",
     "output_type": "stream",
     "text": [
      "-- data --\n",
      "[('左營國小', '2018年10月', 89.0, 51.0, 0.024, 2.15), ('左營國小', '2018年11月', 65.0, 38.0, 0.035, 1.79), ('左營國小', '2018年12月', 90.0, 52.0, 0.019, 2.18), ('左營國小', '2018年1月', 98.0, 64.0, 0.006, 1.13), ('左營國小', '2018年2月', 59.0, 32.0, 0.017, 1.5), ('左營國小', '2018年3月', 54.0, 36.0, 0.068, 1.55), ('左營國小', '2018年4月', 61.0, 33.0, 0.028, 1.48), ('左營國小', '2018年5月', 49.0, 38.0, 0.047, 4.69), ('左營國小', '2018年6月', 22.0, 16.0, 0.034, 1.47), ('左營國小', '2018年7月', 37.0, 16.0, 0.022, 1.23), ('左營國小', '2018年8月', 22.0, 14.0, 0.004, 1.23), ('左營國小', '2018年9月', 32.0, 22.0, 0.02, 1.99)]\n"
     ]
    }
   ],
   "source": [
    "# 找出某個站的資料: where\n",
    "sid = '左營國小'\n",
    "sql_cmd_str = \"select * from %s where sid='%s'\" %(table_name, sid)\n",
    "resultProxy=my_db.execute(sql_cmd_str)\n",
    "data = resultProxy.fetchall()\n",
    "print('-- data --')\n",
    "print(data)"
   ]
  },
  {
   "cell_type": "code",
   "execution_count": 7,
   "id": "dc764d80",
   "metadata": {},
   "outputs": [
    {
     "name": "stdout",
     "output_type": "stream",
     "text": [
      "-- data --\n",
      "[('仁武國中', '2018年9月', 46.0, '', 0.006, 3.38), ('仁武國中', '2018年8月', 19.0, '', -0.009, 4.52), ('仁武國中', '2018年7月', 56.0, '', 0.02, 3.45), ('仁武國中', '2018年6月', 48.0, '', 0.034, 3.25), ('仁武國中', '2018年5月', 44.0, '', 0.058, 1.83), ('仁武國中', '2018年4月', 78.0, '', 0.035, 3.15), ('仁武國中', '2018年3月', 108.0, '', 0.052, 2.63), ('仁武國中', '2018年2月', 86.0, '', 0.033, 3.6), ('仁武國中', '2018年1月', 79.0, '', 0.058, 2.68), ('仁武國中', '2018年12月', 134.0, '', 0.018, 2.67), ('仁武國中', '2018年11月', 115.0, '', 0.1, 2.88), ('仁武國中', '2018年10月', 91.0, '', 0.042, 1.89)]\n"
     ]
    }
   ],
   "source": [
    "# 找出某個站的資料, 並排序: where, order\n",
    "sid = '仁武國中'\n",
    "sql_cmd_str = \"select * from %s where sid='%s' order by dtime DESC\" %(table_name, sid)\n",
    "resultProxy=my_db.execute(sql_cmd_str)\n",
    "data = resultProxy.fetchall()\n",
    "print('-- data --')\n",
    "print(data)"
   ]
  },
  {
   "cell_type": "code",
   "execution_count": 8,
   "id": "fe7c297b",
   "metadata": {},
   "outputs": [
    {
     "name": "stdout",
     "output_type": "stream",
     "text": [
      "-- data --\n",
      "[('左營國小', '2018年10月', 89.0, 51.0, 0.024, 2.15), ('左營國小', '2018年11月', 65.0, 38.0, 0.035, 1.79), ('左營國小', '2018年12月', 90.0, 52.0, 0.019, 2.18), ('左營國小', '2018年1月', 98.0, 64.0, 0.006, 1.13), ('左營國小', '2018年2月', 59.0, 32.0, 0.017, 1.5), ('左營國小', '2018年3月', 54.0, 36.0, 0.068, 1.55), ('左營國小', '2018年4月', 61.0, 33.0, 0.028, 1.48), ('左營國小', '2018年5月', 49.0, 38.0, 0.047, 4.69), ('左營國小', '2018年6月', 22.0, 16.0, 0.034, 1.47), ('左營國小', '2018年7月', 37.0, 16.0, 0.022, 1.23), ('左營國小', '2018年8月', 22.0, 14.0, 0.004, 1.23), ('左營國小', '2018年9月', 32.0, 22.0, 0.02, 1.99)]\n"
     ]
    }
   ],
   "source": [
    "# 找出某個站的資料, 並排序: where, order\n",
    "sid = '左營國小'\n",
    "sql_cmd_str = \"select * from %s where sid='%s' order by dtime ASC\" %(table_name, sid)\n",
    "resultProxy=my_db.execute(sql_cmd_str)\n",
    "data = resultProxy.fetchall()\n",
    "print('-- data --')\n",
    "print(data)\n"
   ]
  },
  {
   "cell_type": "code",
   "execution_count": 9,
   "id": "f746d8b2",
   "metadata": {},
   "outputs": [],
   "source": [
    "#排序出了問題\n",
    "# 先把資料都刪掉: DELETE FROM table_name\n",
    "sql_cmd_str = \"DELETE FROM %s\" %(table_name)\n",
    "resultProxy=my_db.execute(sql_cmd_str)\n"
   ]
  },
  {
   "cell_type": "code",
   "execution_count": 10,
   "id": "2335bfa3",
   "metadata": {},
   "outputs": [
    {
     "data": {
      "text/plain": [
       "[]"
      ]
     },
     "execution_count": 10,
     "metadata": {},
     "output_type": "execute_result"
    }
   ],
   "source": [
    "# 確認資料\n",
    "sql_cmd_str = \"select * from %s\" %(table_name)\n",
    "resultProxy=my_db.execute(sql_cmd_str)\n",
    "data = resultProxy.fetchall()\n",
    "data"
   ]
  },
  {
   "cell_type": "code",
   "execution_count": 12,
   "id": "4c30354d",
   "metadata": {},
   "outputs": [],
   "source": [
    "# 做upsert操作: 試著改時間格式\n",
    "import datetime\n",
    "import random\n",
    "\n",
    "for item in data_list[1:]:\n",
    "    sid = item[0]#['Name']\n",
    "    dtime = item[1]#['Date']\n",
    "    dtime = dtime.replace('月', '')\n",
    "    dtime_tmp = dtime.split('年')\n",
    "    dtime = '%s-%02d' %(dtime_tmp[0], int(dtime_tmp[1]))\n",
    "    tsp = item[2]#['TSP']\n",
    "    if tsp=='':\n",
    "        tsp = 'NULL'\n",
    "    pm10 = item[3]#['PM10']\n",
    "    if pm10=='':\n",
    "        pm10 = 'NULL'\n",
    "    lead = item[7]#['Lead']\n",
    "    if lead=='':\n",
    "        lead = 'NULL'\n",
    "    dust = item[-1] #dust\n",
    "    sql_cmd_str = \"insert or replace into %s (sid, dtime, tsp, pm10, lead,dust) values('%s','%s', '%s', %s, %s, %s)\" %(\n",
    "        table_name, sid, dtime, tsp, pm10, lead,dust)\n",
    "    #sql_cmd_str = sql_cmd_str + (\" ON DUPLICATE KEY UPDATE tsp=%s, pm10=%s, lead=%s\" %(tsp, pm10, lead))\n",
    "    resultProxy=my_db.execute(sql_cmd_str)\n",
    "    #print(sql_cmd_str)"
   ]
  },
  {
   "cell_type": "code",
   "execution_count": 13,
   "id": "0b7eb804",
   "metadata": {},
   "outputs": [
    {
     "data": {
      "text/plain": [
       "datetime.datetime(2018, 3, 1, 0, 0)"
      ]
     },
     "execution_count": 13,
     "metadata": {},
     "output_type": "execute_result"
    }
   ],
   "source": [
    "# 這樣的時間格式未來如何轉換\n",
    "dt1 = datetime.datetime.strptime('2018-03','%Y-%m') #把時間字串轉為datetime物件\n",
    "dt1"
   ]
  },
  {
   "cell_type": "code",
   "execution_count": 14,
   "id": "1199eaaa",
   "metadata": {},
   "outputs": [
    {
     "name": "stdout",
     "output_type": "stream",
     "text": [
      "-- data --\n",
      "[('左營國小', '2018-01', 98.0, 64.0, 0.006, 1.13), ('左營國小', '2018-02', 59.0, 32.0, 0.017, 1.5), ('左營國小', '2018-03', 54.0, 36.0, 0.068, 1.55), ('左營國小', '2018-04', 61.0, 33.0, 0.028, 1.48), ('左營國小', '2018-05', 49.0, 38.0, 0.047, 4.69), ('左營國小', '2018-06', 22.0, 16.0, 0.034, 1.47), ('左營國小', '2018-07', 37.0, 16.0, 0.022, 1.23), ('左營國小', '2018-08', 22.0, 14.0, 0.004, 1.23), ('左營國小', '2018-09', 32.0, 22.0, 0.02, 1.99), ('左營國小', '2018-10', 89.0, 51.0, 0.024, 2.15), ('左營國小', '2018-11', 65.0, 38.0, 0.035, 1.79), ('左營國小', '2018-12', 90.0, 52.0, 0.019, 2.18)]\n"
     ]
    }
   ],
   "source": [
    "#再來取資料，並做排序\n",
    "# 找出某個站的資料, 並排序: where, order\n",
    "sid = '左營國小'\n",
    "sql_cmd_str = \"select * from %s where sid='%s' order by dtime ASC\" %(table_name, sid)\n",
    "resultProxy=my_db.execute(sql_cmd_str)\n",
    "data = resultProxy.fetchall()\n",
    "print('-- data --')\n",
    "print(data)"
   ]
  },
  {
   "cell_type": "code",
   "execution_count": 15,
   "id": "a55d437d",
   "metadata": {},
   "outputs": [
    {
     "name": "stdout",
     "output_type": "stream",
     "text": [
      "-- data --\n",
      "[('大寮區公所', '2018-01', 79.0, None, 0.042, 1.54), ('大寮區公所', '2018-02', 91.0, None, 0.018, 2.01), ('大寮區公所', '2018-03', 92.0, None, 0.046, 3.76), ('大寮區公所', '2018-04', 75.0, None, 0.062, 2.28), ('大寮區公所', '2018-05', 43.0, None, 0.021, 2.93), ('大寮區公所', '2018-06', 41.0, None, 0.006, 3.84), ('大寮區公所', '2018-07', 44.0, None, 0.013, 0.65), ('大寮區公所', '2018-08', 14.0, None, 0.01, 1.22), ('大寮區公所', '2018-09', 31.0, None, 0.043, 2.31), ('大寮區公所', '2018-10', 79.0, None, 0.041, 2.13), ('大寮區公所', '2018-11', 98.0, None, 0.016, 1.3), ('大寮區公所', '2018-12', 124.0, None, 0.012, 2.36)]\n"
     ]
    }
   ],
   "source": [
    "# 找出某個站的資料, 並排序: where, order\n",
    "sid = '大寮區公所'\n",
    "sql_cmd_str = \"select * from %s where sid='%s' order by dtime ASC\" %(table_name, sid)\n",
    "resultProxy=my_db.execute(sql_cmd_str)\n",
    "data = resultProxy.fetchall()\n",
    "print('-- data --')\n",
    "print(data)"
   ]
  },
  {
   "cell_type": "code",
   "execution_count": null,
   "id": "8d6d6053",
   "metadata": {},
   "outputs": [],
   "source": []
  },
  {
   "cell_type": "code",
   "execution_count": null,
   "id": "e46e1ea2",
   "metadata": {},
   "outputs": [],
   "source": []
  },
  {
   "cell_type": "code",
   "execution_count": null,
   "id": "504fb6c8",
   "metadata": {},
   "outputs": [],
   "source": []
  },
  {
   "cell_type": "code",
   "execution_count": null,
   "id": "9b5fe5a7",
   "metadata": {},
   "outputs": [],
   "source": []
  },
  {
   "cell_type": "code",
   "execution_count": null,
   "id": "e3ca65d2",
   "metadata": {},
   "outputs": [],
   "source": []
  }
 ],
 "metadata": {
  "kernelspec": {
   "display_name": "Python 3 (ipykernel)",
   "language": "python",
   "name": "python3"
  },
  "language_info": {
   "codemirror_mode": {
    "name": "ipython",
    "version": 3
   },
   "file_extension": ".py",
   "mimetype": "text/x-python",
   "name": "python",
   "nbconvert_exporter": "python",
   "pygments_lexer": "ipython3",
   "version": "3.9.12"
  }
 },
 "nbformat": 4,
 "nbformat_minor": 5
}
